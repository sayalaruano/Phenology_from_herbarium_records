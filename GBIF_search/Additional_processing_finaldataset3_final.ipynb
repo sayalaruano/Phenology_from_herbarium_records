{
 "cells": [
  {
   "cell_type": "code",
   "execution_count": 1,
   "id": "47b83933-562b-4879-8476-9657a054519f",
   "metadata": {},
   "outputs": [],
   "source": [
    "# Imports\n",
    "import pandas as pd\n",
    "import numpy as np"
   ]
  },
  {
   "cell_type": "code",
   "execution_count": 2,
   "id": "f384cda6-6cbd-4d0f-aa69-6fde7aeb90c2",
   "metadata": {},
   "outputs": [],
   "source": [
    "# Load data\n",
    "df = pd.read_csv(\"Allspecies_GBIFrecords_fieldnotes_filtered_def.csv\")"
   ]
  },
  {
   "cell_type": "code",
   "execution_count": 3,
   "id": "ad671f2a-ef65-4760-95cd-df3696dd5639",
   "metadata": {},
   "outputs": [
    {
     "data": {
      "text/plain": [
       "Index(['gbifID', 'institutionCode', 'recordedBy', 'eventDate', 'year', 'month',\n",
       "       'day', 'Country_name', 'decimalLongitude', 'decimalLatitude',\n",
       "       'elevation', 'family', 'genus', 'species', 'acceptedScientificName',\n",
       "       'occurrenceRemarks', 'dynamicProperties', 'fieldNotes', 'image_url',\n",
       "       'reproductiveCondition', 'Year_interval',\n",
       "       'acceptedScientificName_splevel', 'n_records_GBIF', 'Nrecords_interval',\n",
       "       'OrigDB_vs_GBIF', 'FieldNotes', 'Binned_latitude', 'Binned_longitude'],\n",
       "      dtype='object')"
      ]
     },
     "execution_count": 3,
     "metadata": {},
     "output_type": "execute_result"
    }
   ],
   "source": [
    "# Check columns \n",
    "df.columns"
   ]
  },
  {
   "cell_type": "code",
   "execution_count": 4,
   "id": "fb4d74df-2ab5-4155-b005-1956ceab72ec",
   "metadata": {},
   "outputs": [],
   "source": [
    "# Delete records that only have dynamic properties as a source of fieldnote\n",
    "# Getting indices\n",
    "indices_del = df[(df.fieldNotes.isnull()) & (df.occurrenceRemarks.isnull()) & (df.dynamicProperties.notnull())].index\n",
    " \n",
    "#droping row based on column value\n",
    "df.drop(indices_del,inplace=True)\n",
    "\n",
    "# Reset indices\n",
    "df = df.reset_index(drop=True)"
   ]
  },
  {
   "cell_type": "code",
   "execution_count": 5,
   "id": "87d1df02-c641-4513-b6eb-be487409dcdb",
   "metadata": {},
   "outputs": [
    {
     "data": {
      "text/html": [
       "<div>\n",
       "<style scoped>\n",
       "    .dataframe tbody tr th:only-of-type {\n",
       "        vertical-align: middle;\n",
       "    }\n",
       "\n",
       "    .dataframe tbody tr th {\n",
       "        vertical-align: top;\n",
       "    }\n",
       "\n",
       "    .dataframe thead th {\n",
       "        text-align: right;\n",
       "    }\n",
       "</style>\n",
       "<table border=\"1\" class=\"dataframe\">\n",
       "  <thead>\n",
       "    <tr style=\"text-align: right;\">\n",
       "      <th></th>\n",
       "      <th>gbifID</th>\n",
       "      <th>institutionCode</th>\n",
       "      <th>recordedBy</th>\n",
       "      <th>eventDate</th>\n",
       "      <th>year</th>\n",
       "      <th>month</th>\n",
       "      <th>day</th>\n",
       "      <th>Country_name</th>\n",
       "      <th>decimalLongitude</th>\n",
       "      <th>decimalLatitude</th>\n",
       "      <th>...</th>\n",
       "      <th>image_url</th>\n",
       "      <th>reproductiveCondition</th>\n",
       "      <th>Year_interval</th>\n",
       "      <th>acceptedScientificName_splevel</th>\n",
       "      <th>n_records_GBIF</th>\n",
       "      <th>Nrecords_interval</th>\n",
       "      <th>OrigDB_vs_GBIF</th>\n",
       "      <th>FieldNotes</th>\n",
       "      <th>Binned_latitude</th>\n",
       "      <th>Binned_longitude</th>\n",
       "    </tr>\n",
       "  </thead>\n",
       "  <tbody>\n",
       "  </tbody>\n",
       "</table>\n",
       "<p>0 rows × 28 columns</p>\n",
       "</div>"
      ],
      "text/plain": [
       "Empty DataFrame\n",
       "Columns: [gbifID, institutionCode, recordedBy, eventDate, year, month, day, Country_name, decimalLongitude, decimalLatitude, elevation, family, genus, species, acceptedScientificName, occurrenceRemarks, dynamicProperties, fieldNotes, image_url, reproductiveCondition, Year_interval, acceptedScientificName_splevel, n_records_GBIF, Nrecords_interval, OrigDB_vs_GBIF, FieldNotes, Binned_latitude, Binned_longitude]\n",
       "Index: []\n",
       "\n",
       "[0 rows x 28 columns]"
      ]
     },
     "execution_count": 5,
     "metadata": {},
     "output_type": "execute_result"
    }
   ],
   "source": [
    "# Check that records were deleted \n",
    "df[(df.fieldNotes.isnull()) & (df.occurrenceRemarks.isnull()) & (df.dynamicProperties.notnull())]"
   ]
  },
  {
   "cell_type": "code",
   "execution_count": 6,
   "id": "0d7f1532-bdb3-445f-a0fc-3dd2394614bd",
   "metadata": {},
   "outputs": [
    {
     "name": "stdout",
     "output_type": "stream",
     "text": [
      "<class 'pandas.core.frame.DataFrame'>\n",
      "RangeIndex: 46757 entries, 0 to 46756\n",
      "Data columns (total 28 columns):\n",
      " #   Column                          Non-Null Count  Dtype  \n",
      "---  ------                          --------------  -----  \n",
      " 0   gbifID                          46757 non-null  int64  \n",
      " 1   institutionCode                 46570 non-null  object \n",
      " 2   recordedBy                      45255 non-null  object \n",
      " 3   eventDate                       46757 non-null  object \n",
      " 4   year                            46757 non-null  float64\n",
      " 5   month                           46757 non-null  float64\n",
      " 6   day                             46250 non-null  float64\n",
      " 7   Country_name                    46757 non-null  object \n",
      " 8   decimalLongitude                46757 non-null  float64\n",
      " 9   decimalLatitude                 46757 non-null  float64\n",
      " 10  elevation                       34599 non-null  float64\n",
      " 11  family                          46757 non-null  object \n",
      " 12  genus                           46757 non-null  object \n",
      " 13  species                         46750 non-null  object \n",
      " 14  acceptedScientificName          46757 non-null  object \n",
      " 15  occurrenceRemarks               39907 non-null  object \n",
      " 16  dynamicProperties               9468 non-null   object \n",
      " 17  fieldNotes                      10078 non-null  object \n",
      " 18  image_url                       4258 non-null   object \n",
      " 19  reproductiveCondition           6867 non-null   object \n",
      " 20  Year_interval                   46757 non-null  object \n",
      " 21  acceptedScientificName_splevel  46757 non-null  object \n",
      " 22  n_records_GBIF                  46757 non-null  float64\n",
      " 23  Nrecords_interval               46757 non-null  object \n",
      " 24  OrigDB_vs_GBIF                  46757 non-null  object \n",
      " 25  FieldNotes                      46757 non-null  object \n",
      " 26  Binned_latitude                 46757 non-null  object \n",
      " 27  Binned_longitude                46757 non-null  object \n",
      "dtypes: float64(7), int64(1), object(20)\n",
      "memory usage: 10.0+ MB\n"
     ]
    }
   ],
   "source": [
    "df.info()"
   ]
  },
  {
   "cell_type": "code",
   "execution_count": 7,
   "id": "f37f36ff-9ce3-48d1-8d4b-17af9eaffa7f",
   "metadata": {},
   "outputs": [],
   "source": [
    "# Delete unnecesary columns\n",
    "df.drop(['OrigDB_vs_GBIF', 'Year_interval', 'n_records_GBIF', 'Nrecords_interval', \n",
    "         'Binned_latitude', 'Binned_longitude'], axis=1, inplace=True)"
   ]
  },
  {
   "cell_type": "code",
   "execution_count": 10,
   "id": "9623c43b-f63b-4b1b-b8e3-102dc4b4878d",
   "metadata": {},
   "outputs": [
    {
     "name": "stdout",
     "output_type": "stream",
     "text": [
      "<class 'pandas.core.frame.DataFrame'>\n",
      "RangeIndex: 46757 entries, 0 to 46756\n",
      "Data columns (total 23 columns):\n",
      " #   Column                          Non-Null Count  Dtype  \n",
      "---  ------                          --------------  -----  \n",
      " 0   gbifID                          46757 non-null  int64  \n",
      " 1   hcnqID                          0 non-null      float64\n",
      " 2   institutionCode                 46570 non-null  object \n",
      " 3   recordedBy                      45255 non-null  object \n",
      " 4   eventDate                       46757 non-null  object \n",
      " 5   year                            46757 non-null  float64\n",
      " 6   month                           46757 non-null  float64\n",
      " 7   day                             46250 non-null  float64\n",
      " 8   Country_name                    46757 non-null  object \n",
      " 9   decimalLongitude                46757 non-null  float64\n",
      " 10  decimalLatitude                 46757 non-null  float64\n",
      " 11  elevation                       34599 non-null  float64\n",
      " 12  family                          46757 non-null  object \n",
      " 13  genus                           46757 non-null  object \n",
      " 14  species                         46750 non-null  object \n",
      " 15  acceptedScientificName          46757 non-null  object \n",
      " 16  occurrenceRemarks               39907 non-null  object \n",
      " 17  dynamicProperties               9468 non-null   object \n",
      " 18  fieldNotes                      10078 non-null  object \n",
      " 19  image_url                       4258 non-null   object \n",
      " 20  reproductiveCondition           6867 non-null   object \n",
      " 21  acceptedScientificName_splevel  46757 non-null  object \n",
      " 22  FieldNotes                      46757 non-null  object \n",
      "dtypes: float64(7), int64(1), object(15)\n",
      "memory usage: 8.2+ MB\n"
     ]
    }
   ],
   "source": [
    "df.info()"
   ]
  },
  {
   "cell_type": "code",
   "execution_count": 9,
   "id": "81797d28-3591-49b4-b414-4e906ef60f9b",
   "metadata": {},
   "outputs": [],
   "source": [
    "# Add a column for HCNQ ids\n",
    "df.insert(1, 'hcnqID', np.nan)"
   ]
  },
  {
   "cell_type": "code",
   "execution_count": 11,
   "id": "12e1232d-46c2-4acc-8aad-65bbfc2821ef",
   "metadata": {},
   "outputs": [],
   "source": [
    "# Change the order of columns\n",
    "df = df[['gbifID', 'hcnqID','institutionCode','recordedBy','eventDate', 'year',\n",
    "        'month','day','Country_name','decimalLongitude', 'decimalLatitude',\n",
    "        'elevation','family','genus','species', 'acceptedScientificName_splevel',\n",
    "        'acceptedScientificName','image_url','reproductiveCondition',\n",
    "         'occurrenceRemarks', 'dynamicProperties', 'fieldNotes', 'FieldNotes']]"
   ]
  },
  {
   "cell_type": "code",
   "execution_count": 13,
   "id": "96b7f95c-5240-48e2-97c8-22114f2b31c2",
   "metadata": {},
   "outputs": [],
   "source": [
    "# Rename some columns\n",
    "df.rename(columns={'Country_name': 'country', 'country': 'Country_name', 'acceptedScientificName_splevel': 'acceptedScientificName', \n",
    "                   'acceptedScientificName': 'scientificNameAuthorship'}, inplace=True)"
   ]
  },
  {
   "cell_type": "code",
   "execution_count": 14,
   "id": "8d7886c9-d749-45dd-8a34-f2b24199094c",
   "metadata": {},
   "outputs": [
    {
     "name": "stdout",
     "output_type": "stream",
     "text": [
      "<class 'pandas.core.frame.DataFrame'>\n",
      "RangeIndex: 46757 entries, 0 to 46756\n",
      "Data columns (total 23 columns):\n",
      " #   Column                    Non-Null Count  Dtype  \n",
      "---  ------                    --------------  -----  \n",
      " 0   gbifID                    46757 non-null  int64  \n",
      " 1   hcnqID                    0 non-null      float64\n",
      " 2   institutionCode           46570 non-null  object \n",
      " 3   recordedBy                45255 non-null  object \n",
      " 4   eventDate                 46757 non-null  object \n",
      " 5   year                      46757 non-null  float64\n",
      " 6   month                     46757 non-null  float64\n",
      " 7   day                       46250 non-null  float64\n",
      " 8   country                   46757 non-null  object \n",
      " 9   decimalLongitude          46757 non-null  float64\n",
      " 10  decimalLatitude           46757 non-null  float64\n",
      " 11  elevation                 34599 non-null  float64\n",
      " 12  family                    46757 non-null  object \n",
      " 13  genus                     46757 non-null  object \n",
      " 14  species                   46750 non-null  object \n",
      " 15  acceptedScientificName    46757 non-null  object \n",
      " 16  scientificNameAuthorship  46757 non-null  object \n",
      " 17  image_url                 4258 non-null   object \n",
      " 18  reproductiveCondition     6867 non-null   object \n",
      " 19  occurrenceRemarks         39907 non-null  object \n",
      " 20  dynamicProperties         9468 non-null   object \n",
      " 21  fieldNotes                10078 non-null  object \n",
      " 22  FieldNotes                46757 non-null  object \n",
      "dtypes: float64(7), int64(1), object(15)\n",
      "memory usage: 8.2+ MB\n"
     ]
    }
   ],
   "source": [
    "df.info()"
   ]
  },
  {
   "cell_type": "code",
   "execution_count": 16,
   "id": "9b6740a5-2e20-4ecc-82d7-bdbfc95d4831",
   "metadata": {},
   "outputs": [],
   "source": [
    "df.to_csv('Final_datasets/Allspecies_GBIFrecords_fieldnotes_filtered_final.csv', index=False)"
   ]
  }
 ],
 "metadata": {
  "kernelspec": {
   "display_name": "Python 3 (ipykernel)",
   "language": "python",
   "name": "python3"
  },
  "language_info": {
   "codemirror_mode": {
    "name": "ipython",
    "version": 3
   },
   "file_extension": ".py",
   "mimetype": "text/x-python",
   "name": "python",
   "nbconvert_exporter": "python",
   "pygments_lexer": "ipython3",
   "version": "3.9.12"
  }
 },
 "nbformat": 4,
 "nbformat_minor": 5
}
