{
 "cells": [
  {
   "cell_type": "code",
   "execution_count": 47,
   "id": "f43b5bb0-9695-4540-ba72-6ee2c0928999",
   "metadata": {},
   "outputs": [],
   "source": [
    "# Imports\n",
    "import pandas as pd\n",
    "import numpy as np"
   ]
  },
  {
   "cell_type": "code",
   "execution_count": 48,
   "id": "8f76e057-cfae-4f05-a8cb-7ddb79e6795e",
   "metadata": {},
   "outputs": [],
   "source": [
    "# Load data\n",
    "df_gbif = pd.read_csv(\"Allspecies_GBIFrecords_fieldnotes_filtered_final.csv\")\n",
    "df_hcnq = pd.read_csv(\"../../../HCNQ/HCNQ_dataset_filtered_final.csv\")"
   ]
  },
  {
   "cell_type": "code",
   "execution_count": 49,
   "id": "a21b2706-4445-49be-b10a-e1381c5ffb5a",
   "metadata": {},
   "outputs": [
    {
     "name": "stdout",
     "output_type": "stream",
     "text": [
      "<class 'pandas.core.frame.DataFrame'>\n",
      "RangeIndex: 46757 entries, 0 to 46756\n",
      "Data columns (total 23 columns):\n",
      " #   Column                    Non-Null Count  Dtype  \n",
      "---  ------                    --------------  -----  \n",
      " 0   gbifID                    46757 non-null  int64  \n",
      " 1   hcnqID                    0 non-null      float64\n",
      " 2   institutionCode           46570 non-null  object \n",
      " 3   recordedBy                45255 non-null  object \n",
      " 4   eventDate                 46757 non-null  object \n",
      " 5   year                      46757 non-null  float64\n",
      " 6   month                     46757 non-null  float64\n",
      " 7   day                       46250 non-null  float64\n",
      " 8   country                   46757 non-null  object \n",
      " 9   decimalLongitude          46757 non-null  float64\n",
      " 10  decimalLatitude           46757 non-null  float64\n",
      " 11  elevation                 34599 non-null  float64\n",
      " 12  family                    46757 non-null  object \n",
      " 13  genus                     46757 non-null  object \n",
      " 14  species                   46750 non-null  object \n",
      " 15  acceptedScientificName    46757 non-null  object \n",
      " 16  scientificNameAuthorship  46757 non-null  object \n",
      " 17  image_url                 4258 non-null   object \n",
      " 18  reproductiveCondition     6867 non-null   object \n",
      " 19  occurrenceRemarks         39907 non-null  object \n",
      " 20  dynamicProperties         9468 non-null   object \n",
      " 21  fieldNotes                10078 non-null  object \n",
      " 22  FieldNotes                46757 non-null  object \n",
      "dtypes: float64(7), int64(1), object(15)\n",
      "memory usage: 8.2+ MB\n"
     ]
    }
   ],
   "source": [
    "df_gbif.info()"
   ]
  },
  {
   "cell_type": "code",
   "execution_count": 50,
   "id": "bc9a57d9-69b2-49ba-8ca4-3a0bb90d6155",
   "metadata": {},
   "outputs": [],
   "source": [
    "# Merge two datasets \n",
    "df_final = pd.concat([df_hcnq, df_gbif])\n",
    "\n",
    "# Reset indices\n",
    "df_final = df_final.reset_index(drop=True)"
   ]
  },
  {
   "cell_type": "code",
   "execution_count": 51,
   "id": "837e31c8-b198-4888-b2aa-3e75a66b8589",
   "metadata": {},
   "outputs": [
    {
     "name": "stdout",
     "output_type": "stream",
     "text": [
      "<class 'pandas.core.frame.DataFrame'>\n",
      "RangeIndex: 53848 entries, 0 to 53847\n",
      "Data columns (total 23 columns):\n",
      " #   Column                    Non-Null Count  Dtype  \n",
      "---  ------                    --------------  -----  \n",
      " 0   gbifID                    46757 non-null  float64\n",
      " 1   hcnqID                    7091 non-null   float64\n",
      " 2   institutionCode           53661 non-null  object \n",
      " 3   recordedBy                52304 non-null  object \n",
      " 4   eventDate                 53847 non-null  object \n",
      " 5   year                      53847 non-null  float64\n",
      " 6   month                     53848 non-null  float64\n",
      " 7   day                       53341 non-null  float64\n",
      " 8   country                   53848 non-null  object \n",
      " 9   decimalLongitude          53848 non-null  float64\n",
      " 10  decimalLatitude           53848 non-null  float64\n",
      " 11  elevation                 41516 non-null  object \n",
      " 12  family                    53848 non-null  object \n",
      " 13  genus                     53800 non-null  object \n",
      " 14  species                   53793 non-null  object \n",
      " 15  acceptedScientificName    53848 non-null  object \n",
      " 16  scientificNameAuthorship  53839 non-null  object \n",
      " 17  image_url                 11349 non-null  object \n",
      " 18  reproductiveCondition     6962 non-null   object \n",
      " 19  occurrenceRemarks         39907 non-null  object \n",
      " 20  dynamicProperties         9751 non-null   object \n",
      " 21  fieldNotes                17163 non-null  object \n",
      " 22  FieldNotes                53842 non-null  object \n",
      "dtypes: float64(7), object(16)\n",
      "memory usage: 9.4+ MB\n"
     ]
    }
   ],
   "source": [
    "df_final.info()"
   ]
  },
  {
   "cell_type": "code",
   "execution_count": 52,
   "id": "367ea67e-24d3-49c5-8aee-4efe266ef48f",
   "metadata": {},
   "outputs": [],
   "source": [
    "# Delete duplicates\n",
    "dup_cols = ['acceptedScientificName', 'decimalLongitude', 'decimalLatitude','year', 'recordedBy']\n",
    "df_final = df_final.drop(df_final.loc[:, dup_cols].dropna().duplicated().loc[lambda x: x].index)\n",
    "df_final = df_final.drop_duplicates()"
   ]
  },
  {
   "cell_type": "code",
   "execution_count": 53,
   "id": "19c51ebc-2e7c-4769-8a66-6e0b6b64e011",
   "metadata": {},
   "outputs": [
    {
     "data": {
      "text/plain": [
       "(0,)"
      ]
     },
     "execution_count": 53,
     "metadata": {},
     "output_type": "execute_result"
    }
   ],
   "source": [
    "# Check if true duplicates were deleted \n",
    "(df_final.loc[:, dup_cols].dropna().duplicated().loc[lambda x: x].index).shape"
   ]
  },
  {
   "cell_type": "code",
   "execution_count": 54,
   "id": "d705be0f-0f26-4cb6-a5fb-60d8e799c59e",
   "metadata": {},
   "outputs": [
    {
     "data": {
      "text/html": [
       "<div>\n",
       "<style scoped>\n",
       "    .dataframe tbody tr th:only-of-type {\n",
       "        vertical-align: middle;\n",
       "    }\n",
       "\n",
       "    .dataframe tbody tr th {\n",
       "        vertical-align: top;\n",
       "    }\n",
       "\n",
       "    .dataframe thead th {\n",
       "        text-align: right;\n",
       "    }\n",
       "</style>\n",
       "<table border=\"1\" class=\"dataframe\">\n",
       "  <thead>\n",
       "    <tr style=\"text-align: right;\">\n",
       "      <th></th>\n",
       "      <th>gbifID</th>\n",
       "      <th>hcnqID</th>\n",
       "      <th>institutionCode</th>\n",
       "      <th>recordedBy</th>\n",
       "      <th>eventDate</th>\n",
       "      <th>year</th>\n",
       "      <th>month</th>\n",
       "      <th>day</th>\n",
       "      <th>country</th>\n",
       "      <th>decimalLongitude</th>\n",
       "      <th>...</th>\n",
       "      <th>genus</th>\n",
       "      <th>species</th>\n",
       "      <th>acceptedScientificName</th>\n",
       "      <th>scientificNameAuthorship</th>\n",
       "      <th>image_url</th>\n",
       "      <th>reproductiveCondition</th>\n",
       "      <th>occurrenceRemarks</th>\n",
       "      <th>dynamicProperties</th>\n",
       "      <th>fieldNotes</th>\n",
       "      <th>FieldNotes</th>\n",
       "    </tr>\n",
       "  </thead>\n",
       "  <tbody>\n",
       "  </tbody>\n",
       "</table>\n",
       "<p>0 rows × 23 columns</p>\n",
       "</div>"
      ],
      "text/plain": [
       "Empty DataFrame\n",
       "Columns: [gbifID, hcnqID, institutionCode, recordedBy, eventDate, year, month, day, country, decimalLongitude, decimalLatitude, elevation, family, genus, species, acceptedScientificName, scientificNameAuthorship, image_url, reproductiveCondition, occurrenceRemarks, dynamicProperties, fieldNotes, FieldNotes]\n",
       "Index: []\n",
       "\n",
       "[0 rows x 23 columns]"
      ]
     },
     "execution_count": 54,
     "metadata": {},
     "output_type": "execute_result"
    }
   ],
   "source": [
    "df_final[df_final.duplicated()]"
   ]
  },
  {
   "cell_type": "code",
   "execution_count": 55,
   "id": "5a529535-6cb8-4c69-bd38-97f34bcee2f0",
   "metadata": {},
   "outputs": [
    {
     "data": {
      "text/plain": [
       "(53799, 23)"
      ]
     },
     "execution_count": 55,
     "metadata": {},
     "output_type": "execute_result"
    }
   ],
   "source": [
    "df_final.shape"
   ]
  },
  {
   "cell_type": "code",
   "execution_count": 56,
   "id": "4e510c2f-6b1b-4954-bf47-a92ac13851de",
   "metadata": {},
   "outputs": [],
   "source": [
    "# Reset indices of the dataframe\n",
    "df_final = df_final.reset_index(drop=True)"
   ]
  },
  {
   "cell_type": "code",
   "execution_count": 57,
   "id": "2fc39b16-1774-4149-9160-e4d5ba802e0b",
   "metadata": {},
   "outputs": [],
   "source": [
    "# Add a column with a filter per year: before 1970, between 1970 and 2010, and since 2011\n",
    "# Define a function for classifying records by year\n",
    "def add_year_col(row):\n",
    "    if row['year'] < 1970:\n",
    "        val = '<1970'\n",
    "    elif (row['year'] >= 1970) and (row['year'] <= 2010):\n",
    "        val = '1970-2010'\n",
    "    else:\n",
    "        val = '>2011'\n",
    "    return val\n",
    "\n",
    "#create new column using the function above\n",
    "df_final['Year_interval'] = df_final.apply(add_year_col, axis=1)"
   ]
  },
  {
   "cell_type": "code",
   "execution_count": 58,
   "id": "62813802-0bcd-43ac-9f7f-1c18b4ea8109",
   "metadata": {},
   "outputs": [
    {
     "data": {
      "text/plain": [
       "1970-2010    41961\n",
       ">2011         9489\n",
       "<1970         2349\n",
       "Name: Year_interval, dtype: int64"
      ]
     },
     "execution_count": 58,
     "metadata": {},
     "output_type": "execute_result"
    }
   ],
   "source": [
    "# Count the number of values of the new column\n",
    "df_final['Year_interval'].value_counts()"
   ]
  },
  {
   "cell_type": "code",
   "execution_count": 59,
   "id": "0c50fc8e-264a-405a-a52f-406d12637a38",
   "metadata": {},
   "outputs": [
    {
     "name": "stderr",
     "output_type": "stream",
     "text": [
      "C:\\Users\\sayalaruano\\AppData\\Local\\Temp\\ipykernel_25328\\476362668.py:2: FutureWarning: The default dtype for empty Series will be 'object' instead of 'float64' in a future version. Specify a dtype explicitly to silence this warning.\n",
      "  df_final[\"n_records\"] = pd.Series()\n"
     ]
    }
   ],
   "source": [
    "# Add a column with the number of records by species\n",
    "df_final[\"n_records\"] = pd.Series()\n",
    "\n",
    "for i, row in df_final.iterrows():   \n",
    "    count_temp = len(df_final[df_final[\"acceptedScientificName\"] == row[\"acceptedScientificName\"]])\n",
    "    df_final.at[i,'n_records']=count_temp"
   ]
  },
  {
   "cell_type": "code",
   "execution_count": 60,
   "id": "c8e2f932-b28e-45ed-bb49-20ac1099bc13",
   "metadata": {},
   "outputs": [
    {
     "data": {
      "text/plain": [
       "53799"
      ]
     },
     "execution_count": 60,
     "metadata": {},
     "output_type": "execute_result"
    }
   ],
   "source": [
    "# Verify the correct total number of records \n",
    "test = df_final.groupby(['acceptedScientificName', 'n_records']).size().reset_index(name='count')\n",
    "test[\"count\"].sum()"
   ]
  },
  {
   "cell_type": "code",
   "execution_count": 61,
   "id": "9bf0af5f-f0c3-4d32-873e-5fc0d2d9f025",
   "metadata": {},
   "outputs": [],
   "source": [
    "# Add a column with the interval of the number of records: 0-10, 11-100, 101-500, >500\n",
    "# Define a function for classifying records by ther numbers\n",
    "def add_nrecords_col(row):\n",
    "    if (row['n_records'] >= 0) and (row['n_records'] <=10):\n",
    "        val = '0-10'\n",
    "    elif (row['n_records'] >= 11) and (row['n_records'] <=100):\n",
    "        val = '11-100'\n",
    "    elif (row['n_records'] >= 101) and (row['n_records'] <=500):\n",
    "        val = '101-500'\n",
    "    else:\n",
    "        val = '>500'\n",
    "    return val\n",
    "\n",
    "#create new column using the function above\n",
    "df_final['nrecords_interval'] = df_final.apply(add_nrecords_col, axis=1)"
   ]
  },
  {
   "cell_type": "code",
   "execution_count": 62,
   "id": "ee52db0f-7224-4c75-8e73-19789f88d996",
   "metadata": {},
   "outputs": [],
   "source": [
    "# Verify the number of intervas by species\n",
    "test1 = df_final.groupby(['acceptedScientificName', 'nrecords_interval']).size().reset_index(name='count')"
   ]
  },
  {
   "cell_type": "code",
   "execution_count": 63,
   "id": "10a56c60-22aa-426a-bfe9-9bc664e203b8",
   "metadata": {},
   "outputs": [
    {
     "data": {
      "text/plain": [
       "11-100     241\n",
       "0-10       106\n",
       "101-500     49\n",
       ">500        33\n",
       "Name: nrecords_interval, dtype: int64"
      ]
     },
     "execution_count": 63,
     "metadata": {},
     "output_type": "execute_result"
    }
   ],
   "source": [
    "# Count the number of values of the new column\n",
    "test1[\"nrecords_interval\"].value_counts()"
   ]
  },
  {
   "cell_type": "markdown",
   "id": "0529c3af-f11d-4330-b6ee-cb4ee26512c7",
   "metadata": {},
   "source": [
    "## Obtain binned latitude and longitue columns "
   ]
  },
  {
   "cell_type": "code",
   "execution_count": 64,
   "id": "4adf80a7",
   "metadata": {},
   "outputs": [
    {
     "data": {
      "text/plain": [
       "39.732207"
      ]
     },
     "execution_count": 64,
     "metadata": {},
     "output_type": "execute_result"
    }
   ],
   "source": [
    "# Obtain the max latitude\n",
    "max(df_final[\"decimalLatitude\"])"
   ]
  },
  {
   "cell_type": "code",
   "execution_count": 65,
   "id": "f9d630ac",
   "metadata": {},
   "outputs": [
    {
     "data": {
      "text/plain": [
       "-42.666667"
      ]
     },
     "execution_count": 65,
     "metadata": {},
     "output_type": "execute_result"
    }
   ],
   "source": [
    "# Obtain the min latitude\n",
    "min(df_final[\"decimalLatitude\"])"
   ]
  },
  {
   "cell_type": "code",
   "execution_count": 66,
   "id": "fb213bcf",
   "metadata": {},
   "outputs": [],
   "source": [
    "# Create a list with the bins for the binned latitude column\n",
    "start_lat = -50\n",
    "n_lat = 50\n",
    "interval_lat = 20\n",
    "bins_lat = np.arange(start_lat, n_lat, interval_lat)"
   ]
  },
  {
   "cell_type": "code",
   "execution_count": 67,
   "id": "7f1c7111",
   "metadata": {},
   "outputs": [
    {
     "data": {
      "text/plain": [
       "array([-50, -30, -10,  10,  30])"
      ]
     },
     "execution_count": 67,
     "metadata": {},
     "output_type": "execute_result"
    }
   ],
   "source": [
    "bins_lat"
   ]
  },
  {
   "cell_type": "code",
   "execution_count": 68,
   "id": "5d0451ff",
   "metadata": {},
   "outputs": [],
   "source": [
    "# Create a column with the binned latitude values\n",
    "df_final['Binned_latitude'] = pd.cut(df_final['decimalLatitude'], bins_lat)"
   ]
  },
  {
   "cell_type": "code",
   "execution_count": 69,
   "id": "692783ba",
   "metadata": {},
   "outputs": [],
   "source": [
    "# Convert column type into object\n",
    "df_final[\"Binned_latitude\"] = df_final[\"Binned_latitude\"].astype('string')"
   ]
  },
  {
   "cell_type": "code",
   "execution_count": 70,
   "id": "739ccd7b",
   "metadata": {},
   "outputs": [
    {
     "data": {
      "text/plain": [
       "(-10.0, 10.0]     22172\n",
       "(-30.0, -10.0]    19208\n",
       "(10.0, 30.0]      12304\n",
       "(-50.0, -30.0]       71\n",
       "Name: Binned_latitude, dtype: Int64"
      ]
     },
     "execution_count": 70,
     "metadata": {},
     "output_type": "execute_result"
    }
   ],
   "source": [
    "# Check binned latitude counts\n",
    "df_final['Binned_latitude'].value_counts()"
   ]
  },
  {
   "cell_type": "code",
   "execution_count": 71,
   "id": "daa4e43b",
   "metadata": {},
   "outputs": [
    {
     "data": {
      "text/plain": [
       "-26.26"
      ]
     },
     "execution_count": 71,
     "metadata": {},
     "output_type": "execute_result"
    }
   ],
   "source": [
    "# Obtain the max longitude\n",
    "max(df_final[\"decimalLongitude\"])"
   ]
  },
  {
   "cell_type": "code",
   "execution_count": 72,
   "id": "0d7747cd",
   "metadata": {},
   "outputs": [
    {
     "data": {
      "text/plain": [
       "-159.667"
      ]
     },
     "execution_count": 72,
     "metadata": {},
     "output_type": "execute_result"
    }
   ],
   "source": [
    "# Obtain the min longitude\n",
    "min(df_final[\"decimalLongitude\"])"
   ]
  },
  {
   "cell_type": "code",
   "execution_count": 73,
   "id": "2482e279",
   "metadata": {},
   "outputs": [],
   "source": [
    "# Create a list with the bins for the binned longitude column\n",
    "start_long = -170\n",
    "n_long = -30\n",
    "interval_long = 20\n",
    "bins_long = np.arange(start_long, n_long, interval_long)"
   ]
  },
  {
   "cell_type": "code",
   "execution_count": 74,
   "id": "56e47f1c-d94c-441e-bb32-82b3135cb10d",
   "metadata": {},
   "outputs": [
    {
     "data": {
      "text/plain": [
       "array([-170, -150, -130, -110,  -90,  -70,  -50])"
      ]
     },
     "execution_count": 74,
     "metadata": {},
     "output_type": "execute_result"
    }
   ],
   "source": [
    "bins_long"
   ]
  },
  {
   "cell_type": "code",
   "execution_count": 75,
   "id": "2fde0a0c",
   "metadata": {},
   "outputs": [],
   "source": [
    "# Create a column with the binned longitude values\n",
    "df_final['Binned_longitude'] = pd.cut(df_final['decimalLongitude'], bins_long)"
   ]
  },
  {
   "cell_type": "code",
   "execution_count": 76,
   "id": "d25a1434",
   "metadata": {},
   "outputs": [],
   "source": [
    "# Convert column type into object\n",
    "df_final[\"Binned_longitude\"] = df_final[\"Binned_longitude\"].astype(\"string\")"
   ]
  },
  {
   "cell_type": "code",
   "execution_count": 77,
   "id": "c2dd3f33",
   "metadata": {},
   "outputs": [
    {
     "data": {
      "text/plain": [
       "(-90.0, -70.0]      20813\n",
       "(-110.0, -90.0]     10238\n",
       "(-70.0, -50.0]       6800\n",
       "(-130.0, -110.0]       37\n",
       "(-170.0, -150.0]       36\n",
       "Name: Binned_longitude, dtype: Int64"
      ]
     },
     "execution_count": 77,
     "metadata": {},
     "output_type": "execute_result"
    }
   ],
   "source": [
    "# Check binned longitude counts\n",
    "df_final['Binned_longitude'].value_counts()"
   ]
  },
  {
   "cell_type": "code",
   "execution_count": 78,
   "id": "718a6112-1929-4b63-860e-8e57a0aa4ac1",
   "metadata": {},
   "outputs": [],
   "source": [
    "# Change the order of columns\n",
    "df_final = df_final[['gbifID', 'hcnqID','institutionCode','recordedBy','eventDate', 'year',\n",
    "        'month','day','Year_interval', 'country','decimalLongitude', 'Binned_longitude', 'decimalLatitude', 'Binned_latitude',\n",
    "        'elevation','family','genus','species', 'acceptedScientificName',\n",
    "        'scientificNameAuthorship','image_url','reproductiveCondition', 'n_records', 'nrecords_interval',\n",
    "         'occurrenceRemarks', 'dynamicProperties', 'fieldNotes', 'FieldNotes']]\n"
   ]
  },
  {
   "cell_type": "code",
   "execution_count": 80,
   "id": "d2e90314-f514-4904-b87e-37a2f57dd3cc",
   "metadata": {},
   "outputs": [],
   "source": [
    "# Delete records that have NA in FieldNotes\n",
    "# Getting indices\n",
    "indices_del = df_final[(df_final.FieldNotes.isnull())].index\n",
    " \n",
    "#droping row based on column value\n",
    "df_final.drop(indices_del,inplace=True)\n",
    "\n",
    "# Reset indices\n",
    "df_final = df_final.reset_index(drop=True)"
   ]
  },
  {
   "cell_type": "code",
   "execution_count": 81,
   "id": "f3d84a4e-1f78-46ff-9729-c9700e14f161",
   "metadata": {},
   "outputs": [
    {
     "name": "stdout",
     "output_type": "stream",
     "text": [
      "<class 'pandas.core.frame.DataFrame'>\n",
      "RangeIndex: 53793 entries, 0 to 53792\n",
      "Data columns (total 28 columns):\n",
      " #   Column                    Non-Null Count  Dtype  \n",
      "---  ------                    --------------  -----  \n",
      " 0   gbifID                    46739 non-null  float64\n",
      " 1   hcnqID                    7054 non-null   float64\n",
      " 2   institutionCode           53606 non-null  object \n",
      " 3   recordedBy                52250 non-null  object \n",
      " 4   eventDate                 53792 non-null  object \n",
      " 5   year                      53792 non-null  float64\n",
      " 6   month                     53793 non-null  float64\n",
      " 7   day                       53286 non-null  float64\n",
      " 8   Year_interval             53793 non-null  object \n",
      " 9   country                   53793 non-null  object \n",
      " 10  decimalLongitude          53793 non-null  float64\n",
      " 11  Binned_longitude          37918 non-null  string \n",
      " 12  decimalLatitude           53793 non-null  float64\n",
      " 13  Binned_latitude           53749 non-null  string \n",
      " 14  elevation                 41467 non-null  object \n",
      " 15  family                    53793 non-null  object \n",
      " 16  genus                     53746 non-null  object \n",
      " 17  species                   53739 non-null  object \n",
      " 18  acceptedScientificName    53793 non-null  object \n",
      " 19  scientificNameAuthorship  53784 non-null  object \n",
      " 20  image_url                 11309 non-null  object \n",
      " 21  reproductiveCondition     6959 non-null   object \n",
      " 22  n_records                 53793 non-null  float64\n",
      " 23  nrecords_interval         53793 non-null  object \n",
      " 24  occurrenceRemarks         39890 non-null  object \n",
      " 25  dynamicProperties         9732 non-null   object \n",
      " 26  fieldNotes                17131 non-null  object \n",
      " 27  FieldNotes                53793 non-null  object \n",
      "dtypes: float64(8), object(18), string(2)\n",
      "memory usage: 11.5+ MB\n"
     ]
    }
   ],
   "source": [
    "df_final.info()"
   ]
  },
  {
   "cell_type": "code",
   "execution_count": 82,
   "id": "b4ae114c-922b-46ee-a82b-def2239c7557",
   "metadata": {},
   "outputs": [],
   "source": [
    "# Export final dataset as csv\n",
    "df_final.to_csv(\"Allspecies_GBIF_HCNQ_fieldnotes_final.csv\", index=False)"
   ]
  }
 ],
 "metadata": {
  "kernelspec": {
   "display_name": "Python 3 (ipykernel)",
   "language": "python",
   "name": "python3"
  },
  "language_info": {
   "codemirror_mode": {
    "name": "ipython",
    "version": 3
   },
   "file_extension": ".py",
   "mimetype": "text/x-python",
   "name": "python",
   "nbconvert_exporter": "python",
   "pygments_lexer": "ipython3",
   "version": "3.9.12"
  }
 },
 "nbformat": 4,
 "nbformat_minor": 5
}
