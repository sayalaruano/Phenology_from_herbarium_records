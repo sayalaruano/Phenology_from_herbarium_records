{
 "cells": [
  {
   "cell_type": "code",
   "execution_count": 2,
   "id": "1eb47825",
   "metadata": {},
   "outputs": [],
   "source": [
    "# Imports\n",
    "import pandas as pd\n",
    "import numpy as np\n",
    "from sklearn.model_selection import train_test_split"
   ]
  },
  {
   "cell_type": "code",
   "execution_count": 239,
   "id": "d0b8fb0b",
   "metadata": {},
   "outputs": [],
   "source": [
    "# Load data\n",
    "df = pd.read_csv(\"Allspecies_GBIFrecords_fieldnotes_filtered.csv\")"
   ]
  },
  {
   "cell_type": "code",
   "execution_count": 240,
   "id": "e1b9a5f5",
   "metadata": {},
   "outputs": [
    {
     "data": {
      "text/plain": [
       "Index(['gbifID', 'institutionCode', 'recordedBy', 'eventDate', 'year', 'month',\n",
       "       'day', 'Country_name', 'decimalLongitude', 'decimalLatitude',\n",
       "       'Binned_latitude', 'elevation', 'family', 'genus', 'species',\n",
       "       'acceptedScientificName', 'occurrenceRemarks', 'dynamicProperties',\n",
       "       'fieldNotes', 'image_url', 'reproductiveCondition', 'FieldNotes',\n",
       "       'Year_interval', 'acceptedScientificName_splevel', 'n_records_GBIF',\n",
       "       'Nrecords_interval', 'OrigDB_vs_GBIF'],\n",
       "      dtype='object')"
      ]
     },
     "execution_count": 240,
     "metadata": {},
     "output_type": "execute_result"
    }
   ],
   "source": [
    "# Check columns \n",
    "df.columns"
   ]
  },
  {
   "cell_type": "code",
   "execution_count": 241,
   "id": "bcbaf3a4-975c-4200-915f-61dc20bb4865",
   "metadata": {},
   "outputs": [],
   "source": [
    "# Delete binned latitude and longitude\n",
    "df.drop(['Binned_latitude'], axis=1, inplace=True)"
   ]
  },
  {
   "cell_type": "markdown",
   "id": "36b8acec",
   "metadata": {},
   "source": [
    "## Remove true duplicates from the dataset"
   ]
  },
  {
   "cell_type": "code",
   "execution_count": 242,
   "id": "fc7b9f3e-2309-438c-93b5-25bb98ff37fa",
   "metadata": {},
   "outputs": [
    {
     "data": {
      "text/plain": [
       "(68114, 26)"
      ]
     },
     "execution_count": 242,
     "metadata": {},
     "output_type": "execute_result"
    }
   ],
   "source": [
    "# Size of df before deleting true duplicates\n",
    "df.shape"
   ]
  },
  {
   "cell_type": "code",
   "execution_count": 243,
   "id": "a6ba333e-8b6b-4858-b8f5-b2b99f9882d1",
   "metadata": {},
   "outputs": [],
   "source": [
    "#  Drop true duplicates \n",
    "dup_cols = ['acceptedScientificName', 'decimalLongitude', 'decimalLatitude','year', 'recordedBy']\n",
    "df = df.drop(df.loc[:, dup_cols].dropna().duplicated().loc[lambda x: x].index)"
   ]
  },
  {
   "cell_type": "code",
   "execution_count": 244,
   "id": "60c3459e-d168-4ef9-b85c-4175d09fbaae",
   "metadata": {},
   "outputs": [
    {
     "data": {
      "text/plain": [
       "(54818, 26)"
      ]
     },
     "execution_count": 244,
     "metadata": {},
     "output_type": "execute_result"
    }
   ],
   "source": [
    "# Size of df after deleteing true duplicates\n",
    "df.shape"
   ]
  },
  {
   "cell_type": "code",
   "execution_count": 245,
   "id": "f8f4998c",
   "metadata": {},
   "outputs": [
    {
     "data": {
      "text/plain": [
       "(0,)"
      ]
     },
     "execution_count": 245,
     "metadata": {},
     "output_type": "execute_result"
    }
   ],
   "source": [
    "# Check if true duplicates were deleted \n",
    "(df.loc[:, dup_cols].dropna().duplicated().loc[lambda x: x].index).shape"
   ]
  },
  {
   "cell_type": "code",
   "execution_count": null,
   "id": "edd31b47-80a9-416a-9d27-ca63cb44bd77",
   "metadata": {},
   "outputs": [],
   "source": [
    "df = df.drop(df.loc[:, dup_cols].dropna().duplicated().loc[lambda x: x].index)"
   ]
  },
  {
   "cell_type": "code",
   "execution_count": 247,
   "id": "53b70143-f597-4082-8ef8-73ca46a62911",
   "metadata": {},
   "outputs": [],
   "source": [
    "df = df.drop_duplicates()"
   ]
  },
  {
   "cell_type": "code",
   "execution_count": 249,
   "id": "83c8b9b4",
   "metadata": {},
   "outputs": [],
   "source": [
    "# Reset indices of the dataframe\n",
    "df = df.reset_index(drop=True)"
   ]
  },
  {
   "cell_type": "code",
   "execution_count": 250,
   "id": "0ba6dbaf",
   "metadata": {},
   "outputs": [
    {
     "name": "stdout",
     "output_type": "stream",
     "text": [
      "<class 'pandas.core.frame.DataFrame'>\n",
      "RangeIndex: 54759 entries, 0 to 54758\n",
      "Data columns (total 26 columns):\n",
      " #   Column                          Non-Null Count  Dtype  \n",
      "---  ------                          --------------  -----  \n",
      " 0   gbifID                          54759 non-null  int64  \n",
      " 1   institutionCode                 54568 non-null  object \n",
      " 2   recordedBy                      53248 non-null  object \n",
      " 3   eventDate                       54759 non-null  object \n",
      " 4   year                            54759 non-null  float64\n",
      " 5   month                           54759 non-null  float64\n",
      " 6   day                             54107 non-null  float64\n",
      " 7   Country_name                    54759 non-null  object \n",
      " 8   decimalLongitude                54759 non-null  float64\n",
      " 9   decimalLatitude                 54759 non-null  float64\n",
      " 10  elevation                       41330 non-null  float64\n",
      " 11  family                          54759 non-null  object \n",
      " 12  genus                           54759 non-null  object \n",
      " 13  species                         54752 non-null  object \n",
      " 14  acceptedScientificName          54759 non-null  object \n",
      " 15  occurrenceRemarks               40464 non-null  object \n",
      " 16  dynamicProperties               16903 non-null  object \n",
      " 17  fieldNotes                      10180 non-null  object \n",
      " 18  image_url                       4936 non-null   object \n",
      " 19  reproductiveCondition           7332 non-null   object \n",
      " 20  FieldNotes                      54759 non-null  object \n",
      " 21  Year_interval                   54759 non-null  object \n",
      " 22  acceptedScientificName_splevel  54759 non-null  object \n",
      " 23  n_records_GBIF                  54759 non-null  float64\n",
      " 24  Nrecords_interval               54759 non-null  object \n",
      " 25  OrigDB_vs_GBIF                  54759 non-null  object \n",
      "dtypes: float64(7), int64(1), object(18)\n",
      "memory usage: 10.9+ MB\n"
     ]
    }
   ],
   "source": [
    "df.info()"
   ]
  },
  {
   "cell_type": "markdown",
   "id": "3115b297",
   "metadata": {},
   "source": [
    "## Obtain original names changed by GBIF "
   ]
  },
  {
   "cell_type": "code",
   "execution_count": 12,
   "id": "609569e2",
   "metadata": {},
   "outputs": [],
   "source": [
    "# Export column at species level to compare it with the original list - obtain scientifc names of the original list\n",
    "# to be changed\n",
    "sp_list_GBIF = pd.DataFrame(df['acceptedScientificName_splevel'].unique())\n",
    "sp_list_GBIF.to_csv(\"sp_list_GBIF.csv\", index=False)"
   ]
  },
  {
   "cell_type": "markdown",
   "id": "79d0c01a",
   "metadata": {},
   "source": [
    "## Rename and delete names added by GBIF (not present in the search list)"
   ]
  },
  {
   "cell_type": "code",
   "execution_count": 251,
   "id": "1891ad0b",
   "metadata": {},
   "outputs": [],
   "source": [
    "# Select and export records with GBIF species (not present in the original DB)\n",
    "sp_list_onlyGBIF = pd.DataFrame(df[df[\"OrigDB_vs_GBIF\"] == \"GBIF\"][\"acceptedScientificName\"].unique())\n",
    "sp_list_onlyGBIF.to_csv(\"sp_list_only_GBIF.csv\", index=False)"
   ]
  },
  {
   "cell_type": "code",
   "execution_count": 252,
   "id": "5f7dde23",
   "metadata": {},
   "outputs": [],
   "source": [
    "# Rename scientific names with subspecies that were added by GBIF and not present on the original list\n",
    "# These subspecies had the species name as synonym in TROPICOS\n",
    "df['acceptedScientificName'] = df['acceptedScientificName'].replace(\n",
    "                                            ['Alchornea glandulosa subsp. glandulosa',\n",
    "                                             'Brosimum utile subsp. allenii (Woodson) C.C.Berg',\n",
    "                                             'Geonoma undata subsp. edulis (H.Wendl. ex Spruce) A.J.Hend.',\n",
    "                                             'Geonoma undata subsp. undata',\n",
    "                                             'Guarea glabra subsp. excelsa (Kunth) T.D.Penn.',\n",
    "                                             'Guarea glabra subsp. glabrescens (Hook. & Arn.) T.D.Penn.',\n",
    "                                             'Guarea glabra subsp. microcarpa (C.DC.) T.D.Penn.',\n",
    "                                             'Guarea macrophylla subsp. pendulispica (C.DC.) Penn.',\n",
    "                                             'Handroanthus chrysanthus subsp. chrysanthus',\n",
    "                                             'Handroanthus chrysanthus subsp. pluvicola (A.H.Gentry) S.O.Grose',\n",
    "                                             'Inga nobilis subsp. nobilis',\n",
    "                                             'Pourouma bicolor subsp. bicolor',\n",
    "                                             'Pourouma bicolor subsp. chocoana (Standl.) C.C. Berg & Heusden',\n",
    "                                             'Prestoea acuminata var. acuminata',\n",
    "                                             'Prestoea acuminata var. dasystachys (Burret) A.J. Hend. & Galeano',\n",
    "                                             'Prestoea acuminata var. montana (Graham) A.J. Hend. & Galeano',\n",
    "                                             'Roupala montana var. impressiuscula (Mez) K.S. Edwards',\n",
    "                                             'Salacia cordata subsp. cordata',\n",
    "                                             'Saurauia tomentosa var. sprucei (Sprague) Soejarto',\n",
    "                                             'Brosimum utile subsp. occidentale C.C.Berg',\n",
    "                                             'Ficus americana subsp. guianensis (Desv.) C.C.Berg',\n",
    "                                             'Inga nobilis subsp. quaternata (Poepp.) T.D.Penn.'\n",
    "                                            ],\n",
    "                                            ['Alchornea glandulosa Poepp.',\n",
    "                                             'Brosimum utile (Kunth) Oken',\n",
    "                                             'Geonoma undata Klotzsch',\n",
    "                                             'Geonoma undata Klotzsch',\n",
    "                                             'Guarea glabra Vahl',\n",
    "                                             'Guarea glabra Vahl',\n",
    "                                             'Guarea glabra Vahl',\n",
    "                                             'Guarea macrophylla Vahl',\n",
    "                                             'Handroanthus chrysanthus (Jacq.) S.O. Grose',\n",
    "                                             'Handroanthus chrysanthus (Jacq.) S.O. Grose',\n",
    "                                             'Inga nobilis Willd.',\n",
    "                                             'Pourouma bicolor Mart.',\n",
    "                                             'Pourouma bicolor Mart.',\n",
    "                                             'Prestoea acuminata (Willd.) H.E. Moore',\n",
    "                                             'Prestoea acuminata (Willd.) H.E. Moore',\n",
    "                                             'Prestoea acuminata (Willd.) H.E. Moore',\n",
    "                                             'Roupala montana Aubl.',\n",
    "                                             'Salacia cordata (Miers) Mennega',\n",
    "                                             'Saurauia tomentosa (Kunth) Spreng.',\n",
    "                                             'Brosimum utile subsp. occidentale C.C. Berg',\n",
    "                                             'Ficus americana subsp. guianensis (Desv. ex Ham.) C.C. Berg',\n",
    "                                             'Inga nobilis subsp. quaternata (Poepp.) T.D. Penn.'\n",
    "                                             ])"
   ]
  },
  {
   "cell_type": "code",
   "execution_count": 253,
   "id": "7ca2d523",
   "metadata": {},
   "outputs": [],
   "source": [
    "# Delete records with subspecies that were added by GBIF and not present on the original list\n",
    "# These subspecies had not the species name as synonym in TROPICOS\n",
    "def filter_rows_by_values(df, col, values):\n",
    "    return df[~df[col].isin(values)].copy()\n",
    "\n",
    "df_filt = filter_rows_by_values(df, 'acceptedScientificName', ['Alchornea glandulosa subsp. iricurana (Casar.) Secco',\n",
    "                                         'Ficus americana subsp. americana',\n",
    "                                         'Geonoma undata subsp. appuniana (Spruce) A.J.Hend.',\n",
    "                                         'Geonoma undata subsp. pulcherrima (Burret) A.J.Hend.',\n",
    "                                         'Geonoma undata subsp. stenothyrsa (Burret) A.J.Hend.',\n",
    "                                         'Guarea macrophylla subsp. pachycarpa (C.DC.) Penn.',\n",
    "                                         'Guarea macrophylla subsp. spicaeflora (A.Juss.) Penn.',\n",
    "                                         'Guarea macrophylla subsp. tuberculata (Vell.) Penn.',\n",
    "                                         'Guarea macrophylla subsp. spiciflora (A.Juss.) T.D.Penn.',\n",
    "                                         'Handroanthus chrysanthus subsp. meridionalis (A.H.Gentry) S.O.Grose',\n",
    "                                         'Pourouma bicolor subsp. digitata (Trécul) Berg & Heusden',\n",
    "                                         'Pourouma bicolor subsp. tessmannii (Mildbr.) C.C. Berg & Heusden',\n",
    "                                         'Roupala montana var. brasiliensis (Klotzsch) K.S. Edwards',\n",
    "                                         'Roupala montana var. montana',\n",
    "                                         'Roupala montana var. paraensis (Sleumer) K.S. Edwards',\n",
    "                                         'Salacia cordata subsp. petenensis (Lundell) Lombardi'])"
   ]
  },
  {
   "cell_type": "code",
   "execution_count": 255,
   "id": "a4011d94",
   "metadata": {},
   "outputs": [],
   "source": [
    "# Delete column of original db vs GBIF\n",
    "df_filt.drop(['OrigDB_vs_GBIF'], axis=1, inplace=True)"
   ]
  },
  {
   "cell_type": "code",
   "execution_count": 256,
   "id": "eb439359",
   "metadata": {},
   "outputs": [],
   "source": [
    "# Add a column with the names from the original database and the ones added by GBIF\n",
    "# Load dataframe with the original names\n",
    "orig_names = pd.read_csv(\"../../List_species/List_all_species_withauth_phenology_proj_UDLA2022_def_tnrs.csv\")\n",
    "\n",
    "#Convert df into a list\n",
    "orig_names = orig_names[\"Scientific_name_auth\"].values.tolist()"
   ]
  },
  {
   "cell_type": "code",
   "execution_count": 257,
   "id": "595ac67c",
   "metadata": {},
   "outputs": [
    {
     "name": "stderr",
     "output_type": "stream",
     "text": [
      "C:\\Users\\sayalaruano\\AppData\\Local\\Temp\\ipykernel_21104\\1995741487.py:2: FutureWarning: The default dtype for empty Series will be 'object' instead of 'float64' in a future version. Specify a dtype explicitly to silence this warning.\n",
      "  df_filt[\"OrigDB_vs_GBIF\"] = pd.Series()\n"
     ]
    }
   ],
   "source": [
    "# Add a column to verify if the name was in the original database\n",
    "df_filt[\"OrigDB_vs_GBIF\"] = pd.Series()\n",
    "\n",
    "for i in df_filt.index:\n",
    "    if df_filt['acceptedScientificName'][i] in orig_names:\n",
    "        df_filt.at[i,'OrigDB_vs_GBIF'] = \"OriginalDB\"\n",
    "    else : #if both conditions not verified\n",
    "        df_filt.at[i,'OrigDB_vs_GBIF'] = \"GBIF\""
   ]
  },
  {
   "cell_type": "code",
   "execution_count": 258,
   "id": "02d15b7c",
   "metadata": {},
   "outputs": [
    {
     "data": {
      "text/plain": [
       "OriginalDB    53744\n",
       "GBIF            405\n",
       "Name: OrigDB_vs_GBIF, dtype: int64"
      ]
     },
     "execution_count": 258,
     "metadata": {},
     "output_type": "execute_result"
    }
   ],
   "source": [
    "# Count the number of values of the new column\n",
    "df_filt[\"OrigDB_vs_GBIF\"].value_counts()"
   ]
  },
  {
   "cell_type": "code",
   "execution_count": 259,
   "id": "4d7cc654",
   "metadata": {},
   "outputs": [],
   "source": [
    "# Select and export records with GBIF species (not present in the original DB)\n",
    "sp_list_onlyGBIF_process = pd.DataFrame(df_filt[df_filt[\"OrigDB_vs_GBIF\"] == \"GBIF\"][\"acceptedScientificName\"].unique())\n",
    "sp_list_onlyGBIF_process.to_csv(\"sp_list_only_GBIF_afterprocessing.csv\", index=False)"
   ]
  },
  {
   "cell_type": "code",
   "execution_count": 260,
   "id": "30940b3a",
   "metadata": {},
   "outputs": [
    {
     "name": "stdout",
     "output_type": "stream",
     "text": [
      "<class 'pandas.core.frame.DataFrame'>\n",
      "Int64Index: 54149 entries, 0 to 54758\n",
      "Data columns (total 26 columns):\n",
      " #   Column                          Non-Null Count  Dtype  \n",
      "---  ------                          --------------  -----  \n",
      " 0   gbifID                          54149 non-null  int64  \n",
      " 1   institutionCode                 53962 non-null  object \n",
      " 2   recordedBy                      52645 non-null  object \n",
      " 3   eventDate                       54149 non-null  object \n",
      " 4   year                            54149 non-null  float64\n",
      " 5   month                           54149 non-null  float64\n",
      " 6   day                             53510 non-null  float64\n",
      " 7   Country_name                    54149 non-null  object \n",
      " 8   decimalLongitude                54149 non-null  float64\n",
      " 9   decimalLatitude                 54149 non-null  float64\n",
      " 10  elevation                       41005 non-null  float64\n",
      " 11  family                          54149 non-null  object \n",
      " 12  genus                           54149 non-null  object \n",
      " 13  species                         54142 non-null  object \n",
      " 14  acceptedScientificName          54149 non-null  object \n",
      " 15  occurrenceRemarks               39909 non-null  object \n",
      " 16  dynamicProperties               16857 non-null  object \n",
      " 17  fieldNotes                      10079 non-null  object \n",
      " 18  image_url                       4871 non-null   object \n",
      " 19  reproductiveCondition           7323 non-null   object \n",
      " 20  FieldNotes                      54149 non-null  object \n",
      " 21  Year_interval                   54149 non-null  object \n",
      " 22  acceptedScientificName_splevel  54149 non-null  object \n",
      " 23  n_records_GBIF                  54149 non-null  float64\n",
      " 24  Nrecords_interval               54149 non-null  object \n",
      " 25  OrigDB_vs_GBIF                  54149 non-null  object \n",
      "dtypes: float64(7), int64(1), object(18)\n",
      "memory usage: 13.2+ MB\n"
     ]
    }
   ],
   "source": [
    "df_filt.info()"
   ]
  },
  {
   "cell_type": "markdown",
   "id": "39c14a23",
   "metadata": {},
   "source": [
    "## FieldNotes single column (without dyamic properties)"
   ]
  },
  {
   "cell_type": "code",
   "execution_count": 261,
   "id": "805d40b6",
   "metadata": {},
   "outputs": [],
   "source": [
    "# Delete column of merged fieldnotes\n",
    "df_filt.drop(['FieldNotes'], axis=1, inplace=True)"
   ]
  },
  {
   "cell_type": "code",
   "execution_count": 262,
   "id": "cdcd470d",
   "metadata": {},
   "outputs": [],
   "source": [
    "# Merge two columns (occurrenceRemarks and fieldNotes) with fieldnotes information into a single one\n",
    "fn_cols = ['occurrenceRemarks', 'fieldNotes']\n",
    "df_filt['FieldNotes'] = df_filt[fn_cols].apply(lambda row: '; '.join(row.values.astype(str)), axis=1).copy()"
   ]
  },
  {
   "cell_type": "code",
   "execution_count": 263,
   "id": "8bfa0c70",
   "metadata": {},
   "outputs": [
    {
     "data": {
      "text/plain": [
       "0        [Invalid Lat.: 04Â° 49' 509\"S. Invalid Long.: ...\n",
       "1        Cestrum megalophyllum voucher BioBot11285 matu...\n",
       "2        Cestrum megalophyllum voucher BioBot10266 ribu...\n",
       "3        Erythroxylum macrophyllum voucher BioBot10378 ...\n",
       "4        Casearia sylvestris isolate PECB029 ribulose-1...\n",
       "                               ...                        \n",
       "54754                                             nan; nan\n",
       "54755                                             nan; nan\n",
       "54756                                             nan; nan\n",
       "54757                                             nan; nan\n",
       "54758                                             nan; nan\n",
       "Name: FieldNotes, Length: 54149, dtype: object"
      ]
     },
     "execution_count": 263,
     "metadata": {},
     "output_type": "execute_result"
    }
   ],
   "source": [
    "# Check the new column\n",
    "df_filt['FieldNotes']"
   ]
  },
  {
   "cell_type": "code",
   "execution_count": 264,
   "id": "15067c89",
   "metadata": {},
   "outputs": [
    {
     "data": {
      "text/plain": [
       "'Muestra de tejido: si'"
      ]
     },
     "execution_count": 264,
     "metadata": {},
     "output_type": "execute_result"
    }
   ],
   "source": [
    "# Check the dynamic prop column\n",
    "df_filt[df_filt['dynamicProperties'].notnull()]['dynamicProperties'].iloc[500]"
   ]
  },
  {
   "cell_type": "code",
   "execution_count": 265,
   "id": "31423170",
   "metadata": {},
   "outputs": [
    {
     "name": "stdout",
     "output_type": "stream",
     "text": [
      "86.35 % or records have at least one of them\n"
     ]
    }
   ],
   "source": [
    "# Calculate the % of records that only have dynamic prop \n",
    "print(f\"{df_filt[['fieldNotes', 'occurrenceRemarks']].apply(lambda row: row.notnull().any(), axis=1).mean()*100:.2f} % or records have at least one of them\")"
   ]
  },
  {
   "cell_type": "code",
   "execution_count": 266,
   "id": "20407e3f-313c-4d4a-9147-23624b6f14cb",
   "metadata": {},
   "outputs": [
    {
     "name": "stdout",
     "output_type": "stream",
     "text": [
      "<class 'pandas.core.frame.DataFrame'>\n",
      "Int64Index: 54149 entries, 0 to 54758\n",
      "Data columns (total 26 columns):\n",
      " #   Column                          Non-Null Count  Dtype  \n",
      "---  ------                          --------------  -----  \n",
      " 0   gbifID                          54149 non-null  int64  \n",
      " 1   institutionCode                 53962 non-null  object \n",
      " 2   recordedBy                      52645 non-null  object \n",
      " 3   eventDate                       54149 non-null  object \n",
      " 4   year                            54149 non-null  float64\n",
      " 5   month                           54149 non-null  float64\n",
      " 6   day                             53510 non-null  float64\n",
      " 7   Country_name                    54149 non-null  object \n",
      " 8   decimalLongitude                54149 non-null  float64\n",
      " 9   decimalLatitude                 54149 non-null  float64\n",
      " 10  elevation                       41005 non-null  float64\n",
      " 11  family                          54149 non-null  object \n",
      " 12  genus                           54149 non-null  object \n",
      " 13  species                         54142 non-null  object \n",
      " 14  acceptedScientificName          54149 non-null  object \n",
      " 15  occurrenceRemarks               39909 non-null  object \n",
      " 16  dynamicProperties               16857 non-null  object \n",
      " 17  fieldNotes                      10079 non-null  object \n",
      " 18  image_url                       4871 non-null   object \n",
      " 19  reproductiveCondition           7323 non-null   object \n",
      " 20  Year_interval                   54149 non-null  object \n",
      " 21  acceptedScientificName_splevel  54149 non-null  object \n",
      " 22  n_records_GBIF                  54149 non-null  float64\n",
      " 23  Nrecords_interval               54149 non-null  object \n",
      " 24  OrigDB_vs_GBIF                  54149 non-null  object \n",
      " 25  FieldNotes                      54149 non-null  object \n",
      "dtypes: float64(7), int64(1), object(18)\n",
      "memory usage: 13.2+ MB\n"
     ]
    }
   ],
   "source": [
    "df_filt.info()"
   ]
  },
  {
   "cell_type": "markdown",
   "id": "c96cb52a",
   "metadata": {},
   "source": [
    "## Obtain binned latitude and longitue columns "
   ]
  },
  {
   "cell_type": "code",
   "execution_count": 268,
   "id": "4adf80a7",
   "metadata": {},
   "outputs": [
    {
     "data": {
      "text/plain": [
       "47.625"
      ]
     },
     "execution_count": 268,
     "metadata": {},
     "output_type": "execute_result"
    }
   ],
   "source": [
    "# Obtain the max latitude\n",
    "max(df_filt[\"decimalLatitude\"])"
   ]
  },
  {
   "cell_type": "code",
   "execution_count": 269,
   "id": "f9d630ac",
   "metadata": {},
   "outputs": [
    {
     "data": {
      "text/plain": [
       "-52.0225"
      ]
     },
     "execution_count": 269,
     "metadata": {},
     "output_type": "execute_result"
    }
   ],
   "source": [
    "# Obtain the min latitude\n",
    "min(df_filt[\"decimalLatitude\"])"
   ]
  },
  {
   "cell_type": "code",
   "execution_count": 270,
   "id": "fb213bcf",
   "metadata": {},
   "outputs": [],
   "source": [
    "# Create a list with the bins for the binned latitude column\n",
    "start_lat = -60\n",
    "n_lat = 70\n",
    "interval_lat = 20\n",
    "bins_lat = np.arange(start_lat, n_lat, interval_lat)"
   ]
  },
  {
   "cell_type": "code",
   "execution_count": 271,
   "id": "7f1c7111",
   "metadata": {},
   "outputs": [
    {
     "data": {
      "text/plain": [
       "array([-60, -40, -20,   0,  20,  40,  60])"
      ]
     },
     "execution_count": 271,
     "metadata": {},
     "output_type": "execute_result"
    }
   ],
   "source": [
    "bins_lat"
   ]
  },
  {
   "cell_type": "code",
   "execution_count": 272,
   "id": "5d0451ff",
   "metadata": {},
   "outputs": [],
   "source": [
    "# Create a column with the binned latitude values\n",
    "df_filt['Binned_latitude'] = pd.cut(df_filt['decimalLatitude'], bins_lat)"
   ]
  },
  {
   "cell_type": "code",
   "execution_count": 273,
   "id": "692783ba",
   "metadata": {},
   "outputs": [],
   "source": [
    "# Convert column type into object\n",
    "df_filt[\"Binned_latitude\"] = df_filt[\"Binned_latitude\"].astype('string')"
   ]
  },
  {
   "cell_type": "code",
   "execution_count": 274,
   "id": "739ccd7b",
   "metadata": {},
   "outputs": [
    {
     "data": {
      "text/plain": [
       "(0, 20]       27077\n",
       "(-20, 0]      15368\n",
       "(-40, -20]     9361\n",
       "(20, 40]       2341\n",
       "(-60, -40]        1\n",
       "(40, 60]          1\n",
       "Name: Binned_latitude, dtype: Int64"
      ]
     },
     "execution_count": 274,
     "metadata": {},
     "output_type": "execute_result"
    }
   ],
   "source": [
    "# Check binned latitude counts\n",
    "df_filt['Binned_latitude'].value_counts()"
   ]
  },
  {
   "cell_type": "code",
   "execution_count": 275,
   "id": "312688d6",
   "metadata": {},
   "outputs": [],
   "source": [
    "# Delete records with extreme latitude values\n",
    "df_filt = filter_rows_by_values(df_filt, 'Binned_latitude', ['(-60, -40]', '(40, 60]'])"
   ]
  },
  {
   "cell_type": "code",
   "execution_count": 276,
   "id": "dda53576",
   "metadata": {},
   "outputs": [
    {
     "data": {
      "text/plain": [
       "(0, 20]       27077\n",
       "(-20, 0]      15368\n",
       "(-40, -20]     9361\n",
       "(20, 40]       2341\n",
       "Name: Binned_latitude, dtype: Int64"
      ]
     },
     "execution_count": 276,
     "metadata": {},
     "output_type": "execute_result"
    }
   ],
   "source": [
    "# Check binned latitude counts\n",
    "df_filt['Binned_latitude'].value_counts()"
   ]
  },
  {
   "cell_type": "code",
   "execution_count": 277,
   "id": "daa4e43b",
   "metadata": {},
   "outputs": [
    {
     "data": {
      "text/plain": [
       "-26.26"
      ]
     },
     "execution_count": 277,
     "metadata": {},
     "output_type": "execute_result"
    }
   ],
   "source": [
    "# Obtain the max longitude\n",
    "max(df_filt[\"decimalLongitude\"])"
   ]
  },
  {
   "cell_type": "code",
   "execution_count": 278,
   "id": "0d7747cd",
   "metadata": {},
   "outputs": [
    {
     "data": {
      "text/plain": [
       "-177.433"
      ]
     },
     "execution_count": 278,
     "metadata": {},
     "output_type": "execute_result"
    }
   ],
   "source": [
    "# Obtain the min longitude\n",
    "min(df_filt[\"decimalLongitude\"])"
   ]
  },
  {
   "cell_type": "code",
   "execution_count": 279,
   "id": "2482e279",
   "metadata": {},
   "outputs": [],
   "source": [
    "# Create a list with the bins for the binned longitude column\n",
    "start_long = -180\n",
    "n_long = -10\n",
    "interval_long = 20\n",
    "bins_long = np.arange(start_long, n_long, interval_long)"
   ]
  },
  {
   "cell_type": "code",
   "execution_count": 280,
   "id": "2fde0a0c",
   "metadata": {},
   "outputs": [],
   "source": [
    "# Create a column with the binned longitude values\n",
    "df_filt['Binned_longitude'] = pd.cut(df_filt['decimalLongitude'], bins_long)"
   ]
  },
  {
   "cell_type": "code",
   "execution_count": 281,
   "id": "d25a1434",
   "metadata": {},
   "outputs": [],
   "source": [
    "# Convert column type into object\n",
    "df_filt[\"Binned_longitude\"] = df_filt[\"Binned_longitude\"].astype(\"string\")"
   ]
  },
  {
   "cell_type": "code",
   "execution_count": 282,
   "id": "c2dd3f33",
   "metadata": {},
   "outputs": [
    {
     "data": {
      "text/plain": [
       "(-60, -40]      17527\n",
       "(-80, -60]      17429\n",
       "(-100, -80]     14269\n",
       "(-40, -20]       3640\n",
       "(-120, -100]     1242\n",
       "(-160, -140]       36\n",
       "(-140, -120]        3\n",
       "(-180, -160]        1\n",
       "Name: Binned_longitude, dtype: Int64"
      ]
     },
     "execution_count": 282,
     "metadata": {},
     "output_type": "execute_result"
    }
   ],
   "source": [
    "# Check binned longitude counts\n",
    "df_filt['Binned_longitude'].value_counts()"
   ]
  },
  {
   "cell_type": "code",
   "execution_count": 283,
   "id": "8f488b8a",
   "metadata": {},
   "outputs": [],
   "source": [
    "# Delete records with extreme longitude values\n",
    "df_filt = filter_rows_by_values(df_filt, 'Binned_longitude', ['(-180, -160]'])"
   ]
  },
  {
   "cell_type": "code",
   "execution_count": 284,
   "id": "6e9c2518",
   "metadata": {},
   "outputs": [
    {
     "data": {
      "text/plain": [
       "(-60, -40]      17527\n",
       "(-80, -60]      17429\n",
       "(-100, -80]     14269\n",
       "(-40, -20]       3640\n",
       "(-120, -100]     1242\n",
       "(-160, -140]       36\n",
       "(-140, -120]        3\n",
       "Name: Binned_longitude, dtype: Int64"
      ]
     },
     "execution_count": 284,
     "metadata": {},
     "output_type": "execute_result"
    }
   ],
   "source": [
    "# Check binned longitude counts\n",
    "df_filt['Binned_longitude'].value_counts()"
   ]
  },
  {
   "cell_type": "markdown",
   "id": "415fe996",
   "metadata": {},
   "source": [
    "## Export final dataset"
   ]
  },
  {
   "cell_type": "code",
   "execution_count": 287,
   "id": "4415c4aa",
   "metadata": {},
   "outputs": [],
   "source": [
    "# Export final dataset as csv\n",
    "df_filt.to_csv(\"Allspecies_GBIFrecords_fieldnotes_filtered_def.csv\", index=False)"
   ]
  },
  {
   "cell_type": "code",
   "execution_count": 291,
   "id": "ae1ebeb1",
   "metadata": {},
   "outputs": [],
   "source": [
    "# Export final dataset as parquet\n",
    "df_filt.to_parquet(\"Allspecies_GBIFrecords_fieldnotes_filtered_def.parquet\", index=False)"
   ]
  },
  {
   "cell_type": "markdown",
   "id": "698801ed",
   "metadata": {},
   "source": [
    "## Obtain stratified validation dataset"
   ]
  },
  {
   "cell_type": "code",
   "execution_count": null,
   "id": "33c5f26e",
   "metadata": {},
   "outputs": [],
   "source": [
    "# This sklearn function did not work\n",
    "#df_train, df_test = train_test_split(df_filt, test_size=3000, random_state=42, stratify=df_filt[[\"Year_interval\", \n",
    " #                                                                                                \"Nrecords_interval\",\n",
    "  #                                                                                               \"Binned_latitude\"]])\n",
    "                                                                                                 #\"Binned_longitude\"]])"
   ]
  },
  {
   "cell_type": "code",
   "execution_count": 293,
   "id": "ebdb0d1d-a4f1-4bd1-a491-cc1e89b3e764",
   "metadata": {},
   "outputs": [],
   "source": [
    "# Load final dataset\n",
    "df_filt = pd.read_csv(\"Allspecies_GBIFrecords_fieldnotes_filtered_def.csv\")"
   ]
  },
  {
   "cell_type": "code",
   "execution_count": 295,
   "id": "bff57b09",
   "metadata": {},
   "outputs": [],
   "source": [
    "# Functions to create stratified proportions and samples\n",
    "def stratified_sample(df, strata, size=None, seed=None, keep_index= True):\n",
    "    '''\n",
    "    It samples data from a pandas dataframe using strata. These functions use\n",
    "    proportionate stratification:\n",
    "    n1 = (N1/N) * n\n",
    "    where:\n",
    "        - n1 is the sample size of stratum 1\n",
    "        - N1 is the population size of stratum 1\n",
    "        - N is the total population size\n",
    "        - n is the sampling size\n",
    "    Parameters\n",
    "    ----------\n",
    "    :df: pandas dataframe from which data will be sampled.\n",
    "    :strata: list containing columns that will be used in the stratified sampling.\n",
    "    :size: sampling size. If not informed, a sampling size will be calculated\n",
    "        using Cochran adjusted sampling formula:\n",
    "        cochran_n = (Z**2 * p * q) /e**2\n",
    "        where:\n",
    "            - Z is the z-value. In this case we use 1.96 representing 95%\n",
    "            - p is the estimated proportion of the population which has an\n",
    "                attribute. In this case we use 0.5\n",
    "            - q is 1-p\n",
    "            - e is the margin of error\n",
    "        This formula is adjusted as follows:\n",
    "        adjusted_cochran = cochran_n / 1+((cochran_n -1)/N)\n",
    "        where:\n",
    "            - cochran_n = result of the previous formula\n",
    "            - N is the population size\n",
    "    :seed: sampling seed\n",
    "    :keep_index: if True, it keeps a column with the original population index indicator\n",
    "    \n",
    "    Returns\n",
    "    -------\n",
    "    A sampled pandas dataframe based in a set of strata.\n",
    "    Examples\n",
    "    --------\n",
    "    >> df.head()\n",
    "    \tid  sex age city \n",
    "    0\t123 M   20  XYZ\n",
    "    1\t456 M   25  XYZ\n",
    "    2\t789 M   21  YZX\n",
    "    3\t987 F   40  ZXY\n",
    "    4\t654 M   45  ZXY\n",
    "    ...\n",
    "    # This returns a sample stratified by sex and city containing 30% of the size of\n",
    "    # the original data\n",
    "    >> stratified = stratified_sample(df=df, strata=['sex', 'city'], size=0.3)\n",
    "    Requirements\n",
    "    ------------\n",
    "    - pandas\n",
    "    - numpy\n",
    "    '''\n",
    "    population = len(df)\n",
    "    size = __smpl_size(population, size)\n",
    "    tmp = df[strata]\n",
    "    tmp['size'] = 1\n",
    "    tmp_grpd = tmp.groupby(strata).count().reset_index()\n",
    "    tmp_grpd['samp_size'] = round(size/population * tmp_grpd['size']).astype(int)\n",
    "\n",
    "    # controlling variable to create the dataframe or append to it\n",
    "    first = True \n",
    "    for i in range(len(tmp_grpd)):\n",
    "        # query generator for each iteration\n",
    "        qry=''\n",
    "        for s in range(len(strata)):\n",
    "            stratum = strata[s]\n",
    "            value = tmp_grpd.iloc[i][stratum]\n",
    "            n = tmp_grpd.iloc[i]['samp_size']\n",
    "\n",
    "            if type(value) == str:\n",
    "                value = \"'\" + str(value) + \"'\"\n",
    "            \n",
    "            if s != len(strata)-1:\n",
    "                qry = qry + stratum + ' == ' + str(value) +' & '\n",
    "            else:\n",
    "                qry = qry + stratum + ' == ' + str(value)\n",
    "        \n",
    "        # final dataframe\n",
    "        if first:\n",
    "            stratified_df = df.query(qry).sample(n=n, random_state=seed).reset_index(drop=(not keep_index))\n",
    "            first = False\n",
    "        else:\n",
    "            tmp_df = df.query(qry).sample(n=n, random_state=seed).reset_index(drop=(not keep_index))\n",
    "            stratified_df = stratified_df.append(tmp_df, ignore_index=True)\n",
    "    \n",
    "    return stratified_df\n",
    "\n",
    "\n",
    "\n",
    "def stratified_sample_report(df, strata, size=None):\n",
    "    '''\n",
    "    Generates a dataframe reporting the counts in each stratum and the counts\n",
    "    for the final sampled dataframe.\n",
    "    Parameters\n",
    "    ----------\n",
    "    :df: pandas dataframe from which data will be sampled.\n",
    "    :strata: list containing columns that will be used in the stratified sampling.\n",
    "    :size: sampling size. If not informed, a sampling size will be calculated\n",
    "        using Cochran adjusted sampling formula:\n",
    "        cochran_n = (Z**2 * p * q) /e**2\n",
    "        where:\n",
    "            - Z is the z-value. In this case we use 1.96 representing 95%\n",
    "            - p is the estimated proportion of the population which has an\n",
    "                attribute. In this case we use 0.5\n",
    "            - q is 1-p\n",
    "            - e is the margin of error\n",
    "        This formula is adjusted as follows:\n",
    "        adjusted_cochran = cochran_n / 1+((cochran_n -1)/N)\n",
    "        where:\n",
    "            - cochran_n = result of the previous formula\n",
    "            - N is the population size\n",
    "    Returns\n",
    "    -------\n",
    "    A dataframe reporting the counts in each stratum and the counts\n",
    "    for the final sampled dataframe.\n",
    "    '''\n",
    "    population = len(df)\n",
    "    size = __smpl_size(population, size)\n",
    "    tmp = df[strata]\n",
    "    tmp['size'] = 1\n",
    "    tmp_grpd = tmp.groupby(strata).count().reset_index()\n",
    "    tmp_grpd['samp_size'] = round(size/population * tmp_grpd['size']).astype(int)\n",
    "    return tmp_grpd\n",
    "\n",
    "\n",
    "def __smpl_size(population, size):\n",
    "    '''\n",
    "    A function to compute the sample size. If not informed, a sampling \n",
    "    size will be calculated using Cochran adjusted sampling formula:\n",
    "        cochran_n = (Z**2 * p * q) /e**2\n",
    "        where:\n",
    "            - Z is the z-value. In this case we use 1.96 representing 95%\n",
    "            - p is the estimated proportion of the population which has an\n",
    "                attribute. In this case we use 0.5\n",
    "            - q is 1-p\n",
    "            - e is the margin of error\n",
    "        This formula is adjusted as follows:\n",
    "        adjusted_cochran = cochran_n / 1+((cochran_n -1)/N)\n",
    "        where:\n",
    "            - cochran_n = result of the previous formula\n",
    "            - N is the population size\n",
    "    Parameters\n",
    "    ----------\n",
    "        :population: population size\n",
    "        :size: sample size (default = None)\n",
    "    Returns\n",
    "    -------\n",
    "    Calculated sample size to be used in the functions:\n",
    "        - stratified_sample\n",
    "        - stratified_sample_report\n",
    "    '''\n",
    "    if size is None:\n",
    "        cochran_n = round(((1.96)**2 * 0.5 * 0.5)/ 0.02**2)\n",
    "        n = round(cochran_n/(1+((cochran_n -1) /population)))\n",
    "    elif size >= 0 and size < 1:\n",
    "        n = round(population * size)\n",
    "    elif size < 0:\n",
    "        raise ValueError('Parameter \"size\" must be an integer or a proportion between 0 and 0.99.')\n",
    "    elif size >= 1:\n",
    "        n = size\n",
    "    return n"
   ]
  },
  {
   "cell_type": "code",
   "execution_count": 296,
   "id": "e02234c8-ec79-4665-8864-e630b8ab4cf3",
   "metadata": {},
   "outputs": [
    {
     "data": {
      "text/plain": [
       "(54146, 28)"
      ]
     },
     "execution_count": 296,
     "metadata": {},
     "output_type": "execute_result"
    }
   ],
   "source": [
    "df_filt.shape"
   ]
  },
  {
   "cell_type": "code",
   "execution_count": 297,
   "id": "14f59c71",
   "metadata": {},
   "outputs": [
    {
     "name": "stderr",
     "output_type": "stream",
     "text": [
      "C:\\Users\\sayalaruano\\AppData\\Local\\Temp\\ipykernel_21104\\2536646069.py:121: SettingWithCopyWarning: \n",
      "A value is trying to be set on a copy of a slice from a DataFrame.\n",
      "Try using .loc[row_indexer,col_indexer] = value instead\n",
      "\n",
      "See the caveats in the documentation: https://pandas.pydata.org/pandas-docs/stable/user_guide/indexing.html#returning-a-view-versus-a-copy\n",
      "  tmp['size'] = 1\n"
     ]
    }
   ],
   "source": [
    "# Obtain the stratified validation dataset proportions\n",
    "stratif_df_all = stratified_sample_report(df_filt, [\"Year_interval\", \"Nrecords_interval\", \"Binned_latitude\", \"Binned_longitude\"], 3000)\n",
    "\n",
    "# Export the result as csv\n",
    "stratif_df_all.to_csv(\"Stratified_val_df_prop_all.csv\", index=False)"
   ]
  },
  {
   "cell_type": "code",
   "execution_count": 298,
   "id": "c814c17e",
   "metadata": {},
   "outputs": [],
   "source": [
    "# Dataset with only records that have link to images\n",
    "df_img = df_filt[df_filt['image_url'].notnull()].reset_index(drop=True)"
   ]
  },
  {
   "cell_type": "code",
   "execution_count": 299,
   "id": "11e12a78-ef6a-4cd7-8b39-32dfb769ee34",
   "metadata": {},
   "outputs": [
    {
     "data": {
      "text/plain": [
       "(4870, 28)"
      ]
     },
     "execution_count": 299,
     "metadata": {},
     "output_type": "execute_result"
    }
   ],
   "source": [
    "df_img.shape"
   ]
  },
  {
   "cell_type": "code",
   "execution_count": 300,
   "id": "b4ec20af-cc9d-47a9-8efb-5380344f2cc6",
   "metadata": {},
   "outputs": [
    {
     "name": "stderr",
     "output_type": "stream",
     "text": [
      "C:\\Users\\sayalaruano\\AppData\\Local\\Temp\\ipykernel_21104\\2536646069.py:57: SettingWithCopyWarning: \n",
      "A value is trying to be set on a copy of a slice from a DataFrame.\n",
      "Try using .loc[row_indexer,col_indexer] = value instead\n",
      "\n",
      "See the caveats in the documentation: https://pandas.pydata.org/pandas-docs/stable/user_guide/indexing.html#returning-a-view-versus-a-copy\n",
      "  tmp['size'] = 1\n",
      "C:\\Users\\sayalaruano\\AppData\\Local\\Temp\\ipykernel_21104\\2536646069.py:85: FutureWarning: The frame.append method is deprecated and will be removed from pandas in a future version. Use pandas.concat instead.\n",
      "  stratified_df = stratified_df.append(tmp_df, ignore_index=True)\n",
      "C:\\Users\\sayalaruano\\AppData\\Local\\Temp\\ipykernel_21104\\2536646069.py:85: FutureWarning: The frame.append method is deprecated and will be removed from pandas in a future version. Use pandas.concat instead.\n",
      "  stratified_df = stratified_df.append(tmp_df, ignore_index=True)\n",
      "C:\\Users\\sayalaruano\\AppData\\Local\\Temp\\ipykernel_21104\\2536646069.py:85: FutureWarning: The frame.append method is deprecated and will be removed from pandas in a future version. Use pandas.concat instead.\n",
      "  stratified_df = stratified_df.append(tmp_df, ignore_index=True)\n",
      "C:\\Users\\sayalaruano\\AppData\\Local\\Temp\\ipykernel_21104\\2536646069.py:85: FutureWarning: The frame.append method is deprecated and will be removed from pandas in a future version. Use pandas.concat instead.\n",
      "  stratified_df = stratified_df.append(tmp_df, ignore_index=True)\n",
      "C:\\Users\\sayalaruano\\AppData\\Local\\Temp\\ipykernel_21104\\2536646069.py:85: FutureWarning: The frame.append method is deprecated and will be removed from pandas in a future version. Use pandas.concat instead.\n",
      "  stratified_df = stratified_df.append(tmp_df, ignore_index=True)\n",
      "C:\\Users\\sayalaruano\\AppData\\Local\\Temp\\ipykernel_21104\\2536646069.py:85: FutureWarning: The frame.append method is deprecated and will be removed from pandas in a future version. Use pandas.concat instead.\n",
      "  stratified_df = stratified_df.append(tmp_df, ignore_index=True)\n",
      "C:\\Users\\sayalaruano\\AppData\\Local\\Temp\\ipykernel_21104\\2536646069.py:85: FutureWarning: The frame.append method is deprecated and will be removed from pandas in a future version. Use pandas.concat instead.\n",
      "  stratified_df = stratified_df.append(tmp_df, ignore_index=True)\n",
      "C:\\Users\\sayalaruano\\AppData\\Local\\Temp\\ipykernel_21104\\2536646069.py:85: FutureWarning: The frame.append method is deprecated and will be removed from pandas in a future version. Use pandas.concat instead.\n",
      "  stratified_df = stratified_df.append(tmp_df, ignore_index=True)\n",
      "C:\\Users\\sayalaruano\\AppData\\Local\\Temp\\ipykernel_21104\\2536646069.py:85: FutureWarning: The frame.append method is deprecated and will be removed from pandas in a future version. Use pandas.concat instead.\n",
      "  stratified_df = stratified_df.append(tmp_df, ignore_index=True)\n",
      "C:\\Users\\sayalaruano\\AppData\\Local\\Temp\\ipykernel_21104\\2536646069.py:85: FutureWarning: The frame.append method is deprecated and will be removed from pandas in a future version. Use pandas.concat instead.\n",
      "  stratified_df = stratified_df.append(tmp_df, ignore_index=True)\n",
      "C:\\Users\\sayalaruano\\AppData\\Local\\Temp\\ipykernel_21104\\2536646069.py:85: FutureWarning: The frame.append method is deprecated and will be removed from pandas in a future version. Use pandas.concat instead.\n",
      "  stratified_df = stratified_df.append(tmp_df, ignore_index=True)\n",
      "C:\\Users\\sayalaruano\\AppData\\Local\\Temp\\ipykernel_21104\\2536646069.py:85: FutureWarning: The frame.append method is deprecated and will be removed from pandas in a future version. Use pandas.concat instead.\n",
      "  stratified_df = stratified_df.append(tmp_df, ignore_index=True)\n",
      "C:\\Users\\sayalaruano\\AppData\\Local\\Temp\\ipykernel_21104\\2536646069.py:85: FutureWarning: The frame.append method is deprecated and will be removed from pandas in a future version. Use pandas.concat instead.\n",
      "  stratified_df = stratified_df.append(tmp_df, ignore_index=True)\n",
      "C:\\Users\\sayalaruano\\AppData\\Local\\Temp\\ipykernel_21104\\2536646069.py:85: FutureWarning: The frame.append method is deprecated and will be removed from pandas in a future version. Use pandas.concat instead.\n",
      "  stratified_df = stratified_df.append(tmp_df, ignore_index=True)\n",
      "C:\\Users\\sayalaruano\\AppData\\Local\\Temp\\ipykernel_21104\\2536646069.py:85: FutureWarning: The frame.append method is deprecated and will be removed from pandas in a future version. Use pandas.concat instead.\n",
      "  stratified_df = stratified_df.append(tmp_df, ignore_index=True)\n",
      "C:\\Users\\sayalaruano\\AppData\\Local\\Temp\\ipykernel_21104\\2536646069.py:85: FutureWarning: The frame.append method is deprecated and will be removed from pandas in a future version. Use pandas.concat instead.\n",
      "  stratified_df = stratified_df.append(tmp_df, ignore_index=True)\n",
      "C:\\Users\\sayalaruano\\AppData\\Local\\Temp\\ipykernel_21104\\2536646069.py:85: FutureWarning: The frame.append method is deprecated and will be removed from pandas in a future version. Use pandas.concat instead.\n",
      "  stratified_df = stratified_df.append(tmp_df, ignore_index=True)\n",
      "C:\\Users\\sayalaruano\\AppData\\Local\\Temp\\ipykernel_21104\\2536646069.py:85: FutureWarning: The frame.append method is deprecated and will be removed from pandas in a future version. Use pandas.concat instead.\n",
      "  stratified_df = stratified_df.append(tmp_df, ignore_index=True)\n",
      "C:\\Users\\sayalaruano\\AppData\\Local\\Temp\\ipykernel_21104\\2536646069.py:85: FutureWarning: The frame.append method is deprecated and will be removed from pandas in a future version. Use pandas.concat instead.\n",
      "  stratified_df = stratified_df.append(tmp_df, ignore_index=True)\n",
      "C:\\Users\\sayalaruano\\AppData\\Local\\Temp\\ipykernel_21104\\2536646069.py:85: FutureWarning: The frame.append method is deprecated and will be removed from pandas in a future version. Use pandas.concat instead.\n",
      "  stratified_df = stratified_df.append(tmp_df, ignore_index=True)\n",
      "C:\\Users\\sayalaruano\\AppData\\Local\\Temp\\ipykernel_21104\\2536646069.py:85: FutureWarning: The frame.append method is deprecated and will be removed from pandas in a future version. Use pandas.concat instead.\n",
      "  stratified_df = stratified_df.append(tmp_df, ignore_index=True)\n",
      "C:\\Users\\sayalaruano\\AppData\\Local\\Temp\\ipykernel_21104\\2536646069.py:85: FutureWarning: The frame.append method is deprecated and will be removed from pandas in a future version. Use pandas.concat instead.\n",
      "  stratified_df = stratified_df.append(tmp_df, ignore_index=True)\n",
      "C:\\Users\\sayalaruano\\AppData\\Local\\Temp\\ipykernel_21104\\2536646069.py:85: FutureWarning: The frame.append method is deprecated and will be removed from pandas in a future version. Use pandas.concat instead.\n",
      "  stratified_df = stratified_df.append(tmp_df, ignore_index=True)\n",
      "C:\\Users\\sayalaruano\\AppData\\Local\\Temp\\ipykernel_21104\\2536646069.py:85: FutureWarning: The frame.append method is deprecated and will be removed from pandas in a future version. Use pandas.concat instead.\n",
      "  stratified_df = stratified_df.append(tmp_df, ignore_index=True)\n",
      "C:\\Users\\sayalaruano\\AppData\\Local\\Temp\\ipykernel_21104\\2536646069.py:85: FutureWarning: The frame.append method is deprecated and will be removed from pandas in a future version. Use pandas.concat instead.\n",
      "  stratified_df = stratified_df.append(tmp_df, ignore_index=True)\n",
      "C:\\Users\\sayalaruano\\AppData\\Local\\Temp\\ipykernel_21104\\2536646069.py:85: FutureWarning: The frame.append method is deprecated and will be removed from pandas in a future version. Use pandas.concat instead.\n",
      "  stratified_df = stratified_df.append(tmp_df, ignore_index=True)\n",
      "C:\\Users\\sayalaruano\\AppData\\Local\\Temp\\ipykernel_21104\\2536646069.py:85: FutureWarning: The frame.append method is deprecated and will be removed from pandas in a future version. Use pandas.concat instead.\n",
      "  stratified_df = stratified_df.append(tmp_df, ignore_index=True)\n",
      "C:\\Users\\sayalaruano\\AppData\\Local\\Temp\\ipykernel_21104\\2536646069.py:85: FutureWarning: The frame.append method is deprecated and will be removed from pandas in a future version. Use pandas.concat instead.\n",
      "  stratified_df = stratified_df.append(tmp_df, ignore_index=True)\n",
      "C:\\Users\\sayalaruano\\AppData\\Local\\Temp\\ipykernel_21104\\2536646069.py:85: FutureWarning: The frame.append method is deprecated and will be removed from pandas in a future version. Use pandas.concat instead.\n",
      "  stratified_df = stratified_df.append(tmp_df, ignore_index=True)\n",
      "C:\\Users\\sayalaruano\\AppData\\Local\\Temp\\ipykernel_21104\\2536646069.py:85: FutureWarning: The frame.append method is deprecated and will be removed from pandas in a future version. Use pandas.concat instead.\n",
      "  stratified_df = stratified_df.append(tmp_df, ignore_index=True)\n",
      "C:\\Users\\sayalaruano\\AppData\\Local\\Temp\\ipykernel_21104\\2536646069.py:85: FutureWarning: The frame.append method is deprecated and will be removed from pandas in a future version. Use pandas.concat instead.\n",
      "  stratified_df = stratified_df.append(tmp_df, ignore_index=True)\n",
      "C:\\Users\\sayalaruano\\AppData\\Local\\Temp\\ipykernel_21104\\2536646069.py:85: FutureWarning: The frame.append method is deprecated and will be removed from pandas in a future version. Use pandas.concat instead.\n",
      "  stratified_df = stratified_df.append(tmp_df, ignore_index=True)\n",
      "C:\\Users\\sayalaruano\\AppData\\Local\\Temp\\ipykernel_21104\\2536646069.py:85: FutureWarning: The frame.append method is deprecated and will be removed from pandas in a future version. Use pandas.concat instead.\n",
      "  stratified_df = stratified_df.append(tmp_df, ignore_index=True)\n",
      "C:\\Users\\sayalaruano\\AppData\\Local\\Temp\\ipykernel_21104\\2536646069.py:85: FutureWarning: The frame.append method is deprecated and will be removed from pandas in a future version. Use pandas.concat instead.\n",
      "  stratified_df = stratified_df.append(tmp_df, ignore_index=True)\n",
      "C:\\Users\\sayalaruano\\AppData\\Local\\Temp\\ipykernel_21104\\2536646069.py:85: FutureWarning: The frame.append method is deprecated and will be removed from pandas in a future version. Use pandas.concat instead.\n",
      "  stratified_df = stratified_df.append(tmp_df, ignore_index=True)\n",
      "C:\\Users\\sayalaruano\\AppData\\Local\\Temp\\ipykernel_21104\\2536646069.py:85: FutureWarning: The frame.append method is deprecated and will be removed from pandas in a future version. Use pandas.concat instead.\n",
      "  stratified_df = stratified_df.append(tmp_df, ignore_index=True)\n",
      "C:\\Users\\sayalaruano\\AppData\\Local\\Temp\\ipykernel_21104\\2536646069.py:85: FutureWarning: The frame.append method is deprecated and will be removed from pandas in a future version. Use pandas.concat instead.\n",
      "  stratified_df = stratified_df.append(tmp_df, ignore_index=True)\n",
      "C:\\Users\\sayalaruano\\AppData\\Local\\Temp\\ipykernel_21104\\2536646069.py:85: FutureWarning: The frame.append method is deprecated and will be removed from pandas in a future version. Use pandas.concat instead.\n",
      "  stratified_df = stratified_df.append(tmp_df, ignore_index=True)\n",
      "C:\\Users\\sayalaruano\\AppData\\Local\\Temp\\ipykernel_21104\\2536646069.py:85: FutureWarning: The frame.append method is deprecated and will be removed from pandas in a future version. Use pandas.concat instead.\n",
      "  stratified_df = stratified_df.append(tmp_df, ignore_index=True)\n",
      "C:\\Users\\sayalaruano\\AppData\\Local\\Temp\\ipykernel_21104\\2536646069.py:85: FutureWarning: The frame.append method is deprecated and will be removed from pandas in a future version. Use pandas.concat instead.\n",
      "  stratified_df = stratified_df.append(tmp_df, ignore_index=True)\n",
      "C:\\Users\\sayalaruano\\AppData\\Local\\Temp\\ipykernel_21104\\2536646069.py:85: FutureWarning: The frame.append method is deprecated and will be removed from pandas in a future version. Use pandas.concat instead.\n",
      "  stratified_df = stratified_df.append(tmp_df, ignore_index=True)\n",
      "C:\\Users\\sayalaruano\\AppData\\Local\\Temp\\ipykernel_21104\\2536646069.py:85: FutureWarning: The frame.append method is deprecated and will be removed from pandas in a future version. Use pandas.concat instead.\n",
      "  stratified_df = stratified_df.append(tmp_df, ignore_index=True)\n",
      "C:\\Users\\sayalaruano\\AppData\\Local\\Temp\\ipykernel_21104\\2536646069.py:85: FutureWarning: The frame.append method is deprecated and will be removed from pandas in a future version. Use pandas.concat instead.\n",
      "  stratified_df = stratified_df.append(tmp_df, ignore_index=True)\n",
      "C:\\Users\\sayalaruano\\AppData\\Local\\Temp\\ipykernel_21104\\2536646069.py:85: FutureWarning: The frame.append method is deprecated and will be removed from pandas in a future version. Use pandas.concat instead.\n",
      "  stratified_df = stratified_df.append(tmp_df, ignore_index=True)\n",
      "C:\\Users\\sayalaruano\\AppData\\Local\\Temp\\ipykernel_21104\\2536646069.py:85: FutureWarning: The frame.append method is deprecated and will be removed from pandas in a future version. Use pandas.concat instead.\n",
      "  stratified_df = stratified_df.append(tmp_df, ignore_index=True)\n",
      "C:\\Users\\sayalaruano\\AppData\\Local\\Temp\\ipykernel_21104\\2536646069.py:85: FutureWarning: The frame.append method is deprecated and will be removed from pandas in a future version. Use pandas.concat instead.\n",
      "  stratified_df = stratified_df.append(tmp_df, ignore_index=True)\n",
      "C:\\Users\\sayalaruano\\AppData\\Local\\Temp\\ipykernel_21104\\2536646069.py:85: FutureWarning: The frame.append method is deprecated and will be removed from pandas in a future version. Use pandas.concat instead.\n",
      "  stratified_df = stratified_df.append(tmp_df, ignore_index=True)\n",
      "C:\\Users\\sayalaruano\\AppData\\Local\\Temp\\ipykernel_21104\\2536646069.py:85: FutureWarning: The frame.append method is deprecated and will be removed from pandas in a future version. Use pandas.concat instead.\n",
      "  stratified_df = stratified_df.append(tmp_df, ignore_index=True)\n",
      "C:\\Users\\sayalaruano\\AppData\\Local\\Temp\\ipykernel_21104\\2536646069.py:85: FutureWarning: The frame.append method is deprecated and will be removed from pandas in a future version. Use pandas.concat instead.\n",
      "  stratified_df = stratified_df.append(tmp_df, ignore_index=True)\n",
      "C:\\Users\\sayalaruano\\AppData\\Local\\Temp\\ipykernel_21104\\2536646069.py:85: FutureWarning: The frame.append method is deprecated and will be removed from pandas in a future version. Use pandas.concat instead.\n",
      "  stratified_df = stratified_df.append(tmp_df, ignore_index=True)\n",
      "C:\\Users\\sayalaruano\\AppData\\Local\\Temp\\ipykernel_21104\\2536646069.py:85: FutureWarning: The frame.append method is deprecated and will be removed from pandas in a future version. Use pandas.concat instead.\n",
      "  stratified_df = stratified_df.append(tmp_df, ignore_index=True)\n",
      "C:\\Users\\sayalaruano\\AppData\\Local\\Temp\\ipykernel_21104\\2536646069.py:85: FutureWarning: The frame.append method is deprecated and will be removed from pandas in a future version. Use pandas.concat instead.\n",
      "  stratified_df = stratified_df.append(tmp_df, ignore_index=True)\n",
      "C:\\Users\\sayalaruano\\AppData\\Local\\Temp\\ipykernel_21104\\2536646069.py:85: FutureWarning: The frame.append method is deprecated and will be removed from pandas in a future version. Use pandas.concat instead.\n",
      "  stratified_df = stratified_df.append(tmp_df, ignore_index=True)\n",
      "C:\\Users\\sayalaruano\\AppData\\Local\\Temp\\ipykernel_21104\\2536646069.py:85: FutureWarning: The frame.append method is deprecated and will be removed from pandas in a future version. Use pandas.concat instead.\n",
      "  stratified_df = stratified_df.append(tmp_df, ignore_index=True)\n",
      "C:\\Users\\sayalaruano\\AppData\\Local\\Temp\\ipykernel_21104\\2536646069.py:85: FutureWarning: The frame.append method is deprecated and will be removed from pandas in a future version. Use pandas.concat instead.\n",
      "  stratified_df = stratified_df.append(tmp_df, ignore_index=True)\n",
      "C:\\Users\\sayalaruano\\AppData\\Local\\Temp\\ipykernel_21104\\2536646069.py:85: FutureWarning: The frame.append method is deprecated and will be removed from pandas in a future version. Use pandas.concat instead.\n",
      "  stratified_df = stratified_df.append(tmp_df, ignore_index=True)\n",
      "C:\\Users\\sayalaruano\\AppData\\Local\\Temp\\ipykernel_21104\\2536646069.py:85: FutureWarning: The frame.append method is deprecated and will be removed from pandas in a future version. Use pandas.concat instead.\n",
      "  stratified_df = stratified_df.append(tmp_df, ignore_index=True)\n",
      "C:\\Users\\sayalaruano\\AppData\\Local\\Temp\\ipykernel_21104\\2536646069.py:85: FutureWarning: The frame.append method is deprecated and will be removed from pandas in a future version. Use pandas.concat instead.\n",
      "  stratified_df = stratified_df.append(tmp_df, ignore_index=True)\n",
      "C:\\Users\\sayalaruano\\AppData\\Local\\Temp\\ipykernel_21104\\2536646069.py:85: FutureWarning: The frame.append method is deprecated and will be removed from pandas in a future version. Use pandas.concat instead.\n",
      "  stratified_df = stratified_df.append(tmp_df, ignore_index=True)\n",
      "C:\\Users\\sayalaruano\\AppData\\Local\\Temp\\ipykernel_21104\\2536646069.py:85: FutureWarning: The frame.append method is deprecated and will be removed from pandas in a future version. Use pandas.concat instead.\n",
      "  stratified_df = stratified_df.append(tmp_df, ignore_index=True)\n",
      "C:\\Users\\sayalaruano\\AppData\\Local\\Temp\\ipykernel_21104\\2536646069.py:85: FutureWarning: The frame.append method is deprecated and will be removed from pandas in a future version. Use pandas.concat instead.\n",
      "  stratified_df = stratified_df.append(tmp_df, ignore_index=True)\n",
      "C:\\Users\\sayalaruano\\AppData\\Local\\Temp\\ipykernel_21104\\2536646069.py:85: FutureWarning: The frame.append method is deprecated and will be removed from pandas in a future version. Use pandas.concat instead.\n",
      "  stratified_df = stratified_df.append(tmp_df, ignore_index=True)\n",
      "C:\\Users\\sayalaruano\\AppData\\Local\\Temp\\ipykernel_21104\\2536646069.py:85: FutureWarning: The frame.append method is deprecated and will be removed from pandas in a future version. Use pandas.concat instead.\n",
      "  stratified_df = stratified_df.append(tmp_df, ignore_index=True)\n",
      "C:\\Users\\sayalaruano\\AppData\\Local\\Temp\\ipykernel_21104\\2536646069.py:85: FutureWarning: The frame.append method is deprecated and will be removed from pandas in a future version. Use pandas.concat instead.\n",
      "  stratified_df = stratified_df.append(tmp_df, ignore_index=True)\n",
      "C:\\Users\\sayalaruano\\AppData\\Local\\Temp\\ipykernel_21104\\2536646069.py:85: FutureWarning: The frame.append method is deprecated and will be removed from pandas in a future version. Use pandas.concat instead.\n",
      "  stratified_df = stratified_df.append(tmp_df, ignore_index=True)\n",
      "C:\\Users\\sayalaruano\\AppData\\Local\\Temp\\ipykernel_21104\\2536646069.py:85: FutureWarning: The frame.append method is deprecated and will be removed from pandas in a future version. Use pandas.concat instead.\n",
      "  stratified_df = stratified_df.append(tmp_df, ignore_index=True)\n",
      "C:\\Users\\sayalaruano\\AppData\\Local\\Temp\\ipykernel_21104\\2536646069.py:85: FutureWarning: The frame.append method is deprecated and will be removed from pandas in a future version. Use pandas.concat instead.\n",
      "  stratified_df = stratified_df.append(tmp_df, ignore_index=True)\n",
      "C:\\Users\\sayalaruano\\AppData\\Local\\Temp\\ipykernel_21104\\2536646069.py:85: FutureWarning: The frame.append method is deprecated and will be removed from pandas in a future version. Use pandas.concat instead.\n",
      "  stratified_df = stratified_df.append(tmp_df, ignore_index=True)\n",
      "C:\\Users\\sayalaruano\\AppData\\Local\\Temp\\ipykernel_21104\\2536646069.py:85: FutureWarning: The frame.append method is deprecated and will be removed from pandas in a future version. Use pandas.concat instead.\n",
      "  stratified_df = stratified_df.append(tmp_df, ignore_index=True)\n",
      "C:\\Users\\sayalaruano\\AppData\\Local\\Temp\\ipykernel_21104\\2536646069.py:85: FutureWarning: The frame.append method is deprecated and will be removed from pandas in a future version. Use pandas.concat instead.\n",
      "  stratified_df = stratified_df.append(tmp_df, ignore_index=True)\n",
      "C:\\Users\\sayalaruano\\AppData\\Local\\Temp\\ipykernel_21104\\2536646069.py:85: FutureWarning: The frame.append method is deprecated and will be removed from pandas in a future version. Use pandas.concat instead.\n",
      "  stratified_df = stratified_df.append(tmp_df, ignore_index=True)\n",
      "C:\\Users\\sayalaruano\\AppData\\Local\\Temp\\ipykernel_21104\\2536646069.py:85: FutureWarning: The frame.append method is deprecated and will be removed from pandas in a future version. Use pandas.concat instead.\n",
      "  stratified_df = stratified_df.append(tmp_df, ignore_index=True)\n",
      "C:\\Users\\sayalaruano\\AppData\\Local\\Temp\\ipykernel_21104\\2536646069.py:85: FutureWarning: The frame.append method is deprecated and will be removed from pandas in a future version. Use pandas.concat instead.\n",
      "  stratified_df = stratified_df.append(tmp_df, ignore_index=True)\n",
      "C:\\Users\\sayalaruano\\AppData\\Local\\Temp\\ipykernel_21104\\2536646069.py:85: FutureWarning: The frame.append method is deprecated and will be removed from pandas in a future version. Use pandas.concat instead.\n",
      "  stratified_df = stratified_df.append(tmp_df, ignore_index=True)\n",
      "C:\\Users\\sayalaruano\\AppData\\Local\\Temp\\ipykernel_21104\\2536646069.py:85: FutureWarning: The frame.append method is deprecated and will be removed from pandas in a future version. Use pandas.concat instead.\n",
      "  stratified_df = stratified_df.append(tmp_df, ignore_index=True)\n",
      "C:\\Users\\sayalaruano\\AppData\\Local\\Temp\\ipykernel_21104\\2536646069.py:85: FutureWarning: The frame.append method is deprecated and will be removed from pandas in a future version. Use pandas.concat instead.\n",
      "  stratified_df = stratified_df.append(tmp_df, ignore_index=True)\n",
      "C:\\Users\\sayalaruano\\AppData\\Local\\Temp\\ipykernel_21104\\2536646069.py:85: FutureWarning: The frame.append method is deprecated and will be removed from pandas in a future version. Use pandas.concat instead.\n",
      "  stratified_df = stratified_df.append(tmp_df, ignore_index=True)\n",
      "C:\\Users\\sayalaruano\\AppData\\Local\\Temp\\ipykernel_21104\\2536646069.py:85: FutureWarning: The frame.append method is deprecated and will be removed from pandas in a future version. Use pandas.concat instead.\n",
      "  stratified_df = stratified_df.append(tmp_df, ignore_index=True)\n",
      "C:\\Users\\sayalaruano\\AppData\\Local\\Temp\\ipykernel_21104\\2536646069.py:85: FutureWarning: The frame.append method is deprecated and will be removed from pandas in a future version. Use pandas.concat instead.\n",
      "  stratified_df = stratified_df.append(tmp_df, ignore_index=True)\n",
      "C:\\Users\\sayalaruano\\AppData\\Local\\Temp\\ipykernel_21104\\2536646069.py:85: FutureWarning: The frame.append method is deprecated and will be removed from pandas in a future version. Use pandas.concat instead.\n",
      "  stratified_df = stratified_df.append(tmp_df, ignore_index=True)\n",
      "C:\\Users\\sayalaruano\\AppData\\Local\\Temp\\ipykernel_21104\\2536646069.py:85: FutureWarning: The frame.append method is deprecated and will be removed from pandas in a future version. Use pandas.concat instead.\n",
      "  stratified_df = stratified_df.append(tmp_df, ignore_index=True)\n",
      "C:\\Users\\sayalaruano\\AppData\\Local\\Temp\\ipykernel_21104\\2536646069.py:85: FutureWarning: The frame.append method is deprecated and will be removed from pandas in a future version. Use pandas.concat instead.\n",
      "  stratified_df = stratified_df.append(tmp_df, ignore_index=True)\n",
      "C:\\Users\\sayalaruano\\AppData\\Local\\Temp\\ipykernel_21104\\2536646069.py:85: FutureWarning: The frame.append method is deprecated and will be removed from pandas in a future version. Use pandas.concat instead.\n",
      "  stratified_df = stratified_df.append(tmp_df, ignore_index=True)\n",
      "C:\\Users\\sayalaruano\\AppData\\Local\\Temp\\ipykernel_21104\\2536646069.py:85: FutureWarning: The frame.append method is deprecated and will be removed from pandas in a future version. Use pandas.concat instead.\n",
      "  stratified_df = stratified_df.append(tmp_df, ignore_index=True)\n",
      "C:\\Users\\sayalaruano\\AppData\\Local\\Temp\\ipykernel_21104\\2536646069.py:85: FutureWarning: The frame.append method is deprecated and will be removed from pandas in a future version. Use pandas.concat instead.\n",
      "  stratified_df = stratified_df.append(tmp_df, ignore_index=True)\n",
      "C:\\Users\\sayalaruano\\AppData\\Local\\Temp\\ipykernel_21104\\2536646069.py:85: FutureWarning: The frame.append method is deprecated and will be removed from pandas in a future version. Use pandas.concat instead.\n",
      "  stratified_df = stratified_df.append(tmp_df, ignore_index=True)\n",
      "C:\\Users\\sayalaruano\\AppData\\Local\\Temp\\ipykernel_21104\\2536646069.py:85: FutureWarning: The frame.append method is deprecated and will be removed from pandas in a future version. Use pandas.concat instead.\n",
      "  stratified_df = stratified_df.append(tmp_df, ignore_index=True)\n",
      "C:\\Users\\sayalaruano\\AppData\\Local\\Temp\\ipykernel_21104\\2536646069.py:85: FutureWarning: The frame.append method is deprecated and will be removed from pandas in a future version. Use pandas.concat instead.\n",
      "  stratified_df = stratified_df.append(tmp_df, ignore_index=True)\n",
      "C:\\Users\\sayalaruano\\AppData\\Local\\Temp\\ipykernel_21104\\2536646069.py:85: FutureWarning: The frame.append method is deprecated and will be removed from pandas in a future version. Use pandas.concat instead.\n",
      "  stratified_df = stratified_df.append(tmp_df, ignore_index=True)\n",
      "C:\\Users\\sayalaruano\\AppData\\Local\\Temp\\ipykernel_21104\\2536646069.py:85: FutureWarning: The frame.append method is deprecated and will be removed from pandas in a future version. Use pandas.concat instead.\n",
      "  stratified_df = stratified_df.append(tmp_df, ignore_index=True)\n",
      "C:\\Users\\sayalaruano\\AppData\\Local\\Temp\\ipykernel_21104\\2536646069.py:85: FutureWarning: The frame.append method is deprecated and will be removed from pandas in a future version. Use pandas.concat instead.\n",
      "  stratified_df = stratified_df.append(tmp_df, ignore_index=True)\n",
      "C:\\Users\\sayalaruano\\AppData\\Local\\Temp\\ipykernel_21104\\2536646069.py:85: FutureWarning: The frame.append method is deprecated and will be removed from pandas in a future version. Use pandas.concat instead.\n",
      "  stratified_df = stratified_df.append(tmp_df, ignore_index=True)\n",
      "C:\\Users\\sayalaruano\\AppData\\Local\\Temp\\ipykernel_21104\\2536646069.py:85: FutureWarning: The frame.append method is deprecated and will be removed from pandas in a future version. Use pandas.concat instead.\n",
      "  stratified_df = stratified_df.append(tmp_df, ignore_index=True)\n",
      "C:\\Users\\sayalaruano\\AppData\\Local\\Temp\\ipykernel_21104\\2536646069.py:85: FutureWarning: The frame.append method is deprecated and will be removed from pandas in a future version. Use pandas.concat instead.\n",
      "  stratified_df = stratified_df.append(tmp_df, ignore_index=True)\n",
      "C:\\Users\\sayalaruano\\AppData\\Local\\Temp\\ipykernel_21104\\2536646069.py:85: FutureWarning: The frame.append method is deprecated and will be removed from pandas in a future version. Use pandas.concat instead.\n",
      "  stratified_df = stratified_df.append(tmp_df, ignore_index=True)\n",
      "C:\\Users\\sayalaruano\\AppData\\Local\\Temp\\ipykernel_21104\\2536646069.py:85: FutureWarning: The frame.append method is deprecated and will be removed from pandas in a future version. Use pandas.concat instead.\n",
      "  stratified_df = stratified_df.append(tmp_df, ignore_index=True)\n",
      "C:\\Users\\sayalaruano\\AppData\\Local\\Temp\\ipykernel_21104\\2536646069.py:85: FutureWarning: The frame.append method is deprecated and will be removed from pandas in a future version. Use pandas.concat instead.\n",
      "  stratified_df = stratified_df.append(tmp_df, ignore_index=True)\n",
      "C:\\Users\\sayalaruano\\AppData\\Local\\Temp\\ipykernel_21104\\2536646069.py:85: FutureWarning: The frame.append method is deprecated and will be removed from pandas in a future version. Use pandas.concat instead.\n",
      "  stratified_df = stratified_df.append(tmp_df, ignore_index=True)\n",
      "C:\\Users\\sayalaruano\\AppData\\Local\\Temp\\ipykernel_21104\\2536646069.py:85: FutureWarning: The frame.append method is deprecated and will be removed from pandas in a future version. Use pandas.concat instead.\n",
      "  stratified_df = stratified_df.append(tmp_df, ignore_index=True)\n",
      "C:\\Users\\sayalaruano\\AppData\\Local\\Temp\\ipykernel_21104\\2536646069.py:85: FutureWarning: The frame.append method is deprecated and will be removed from pandas in a future version. Use pandas.concat instead.\n",
      "  stratified_df = stratified_df.append(tmp_df, ignore_index=True)\n",
      "C:\\Users\\sayalaruano\\AppData\\Local\\Temp\\ipykernel_21104\\2536646069.py:85: FutureWarning: The frame.append method is deprecated and will be removed from pandas in a future version. Use pandas.concat instead.\n",
      "  stratified_df = stratified_df.append(tmp_df, ignore_index=True)\n"
     ]
    }
   ],
   "source": [
    "# Obtain the stratified validation dataset proportions that have images with nrecords\n",
    "stratif_df_img_nrec = stratified_sample(df_img, [\"Year_interval\", \"Nrecords_interval\", \"Binned_latitude\", \"Binned_longitude\"], 3000, keep_index= False, seed=100)"
   ]
  },
  {
   "cell_type": "code",
   "execution_count": 301,
   "id": "8ac676b2-c611-4aeb-96df-7ac20df3fa1c",
   "metadata": {},
   "outputs": [
    {
     "name": "stderr",
     "output_type": "stream",
     "text": [
      "C:\\Users\\sayalaruano\\AppData\\Local\\Temp\\ipykernel_21104\\2536646069.py:57: SettingWithCopyWarning: \n",
      "A value is trying to be set on a copy of a slice from a DataFrame.\n",
      "Try using .loc[row_indexer,col_indexer] = value instead\n",
      "\n",
      "See the caveats in the documentation: https://pandas.pydata.org/pandas-docs/stable/user_guide/indexing.html#returning-a-view-versus-a-copy\n",
      "  tmp['size'] = 1\n",
      "C:\\Users\\sayalaruano\\AppData\\Local\\Temp\\ipykernel_21104\\2536646069.py:85: FutureWarning: The frame.append method is deprecated and will be removed from pandas in a future version. Use pandas.concat instead.\n",
      "  stratified_df = stratified_df.append(tmp_df, ignore_index=True)\n",
      "C:\\Users\\sayalaruano\\AppData\\Local\\Temp\\ipykernel_21104\\2536646069.py:85: FutureWarning: The frame.append method is deprecated and will be removed from pandas in a future version. Use pandas.concat instead.\n",
      "  stratified_df = stratified_df.append(tmp_df, ignore_index=True)\n",
      "C:\\Users\\sayalaruano\\AppData\\Local\\Temp\\ipykernel_21104\\2536646069.py:85: FutureWarning: The frame.append method is deprecated and will be removed from pandas in a future version. Use pandas.concat instead.\n",
      "  stratified_df = stratified_df.append(tmp_df, ignore_index=True)\n",
      "C:\\Users\\sayalaruano\\AppData\\Local\\Temp\\ipykernel_21104\\2536646069.py:85: FutureWarning: The frame.append method is deprecated and will be removed from pandas in a future version. Use pandas.concat instead.\n",
      "  stratified_df = stratified_df.append(tmp_df, ignore_index=True)\n",
      "C:\\Users\\sayalaruano\\AppData\\Local\\Temp\\ipykernel_21104\\2536646069.py:85: FutureWarning: The frame.append method is deprecated and will be removed from pandas in a future version. Use pandas.concat instead.\n",
      "  stratified_df = stratified_df.append(tmp_df, ignore_index=True)\n",
      "C:\\Users\\sayalaruano\\AppData\\Local\\Temp\\ipykernel_21104\\2536646069.py:85: FutureWarning: The frame.append method is deprecated and will be removed from pandas in a future version. Use pandas.concat instead.\n",
      "  stratified_df = stratified_df.append(tmp_df, ignore_index=True)\n",
      "C:\\Users\\sayalaruano\\AppData\\Local\\Temp\\ipykernel_21104\\2536646069.py:85: FutureWarning: The frame.append method is deprecated and will be removed from pandas in a future version. Use pandas.concat instead.\n",
      "  stratified_df = stratified_df.append(tmp_df, ignore_index=True)\n",
      "C:\\Users\\sayalaruano\\AppData\\Local\\Temp\\ipykernel_21104\\2536646069.py:85: FutureWarning: The frame.append method is deprecated and will be removed from pandas in a future version. Use pandas.concat instead.\n",
      "  stratified_df = stratified_df.append(tmp_df, ignore_index=True)\n",
      "C:\\Users\\sayalaruano\\AppData\\Local\\Temp\\ipykernel_21104\\2536646069.py:85: FutureWarning: The frame.append method is deprecated and will be removed from pandas in a future version. Use pandas.concat instead.\n",
      "  stratified_df = stratified_df.append(tmp_df, ignore_index=True)\n",
      "C:\\Users\\sayalaruano\\AppData\\Local\\Temp\\ipykernel_21104\\2536646069.py:85: FutureWarning: The frame.append method is deprecated and will be removed from pandas in a future version. Use pandas.concat instead.\n",
      "  stratified_df = stratified_df.append(tmp_df, ignore_index=True)\n",
      "C:\\Users\\sayalaruano\\AppData\\Local\\Temp\\ipykernel_21104\\2536646069.py:85: FutureWarning: The frame.append method is deprecated and will be removed from pandas in a future version. Use pandas.concat instead.\n",
      "  stratified_df = stratified_df.append(tmp_df, ignore_index=True)\n",
      "C:\\Users\\sayalaruano\\AppData\\Local\\Temp\\ipykernel_21104\\2536646069.py:85: FutureWarning: The frame.append method is deprecated and will be removed from pandas in a future version. Use pandas.concat instead.\n",
      "  stratified_df = stratified_df.append(tmp_df, ignore_index=True)\n",
      "C:\\Users\\sayalaruano\\AppData\\Local\\Temp\\ipykernel_21104\\2536646069.py:85: FutureWarning: The frame.append method is deprecated and will be removed from pandas in a future version. Use pandas.concat instead.\n",
      "  stratified_df = stratified_df.append(tmp_df, ignore_index=True)\n",
      "C:\\Users\\sayalaruano\\AppData\\Local\\Temp\\ipykernel_21104\\2536646069.py:85: FutureWarning: The frame.append method is deprecated and will be removed from pandas in a future version. Use pandas.concat instead.\n",
      "  stratified_df = stratified_df.append(tmp_df, ignore_index=True)\n",
      "C:\\Users\\sayalaruano\\AppData\\Local\\Temp\\ipykernel_21104\\2536646069.py:85: FutureWarning: The frame.append method is deprecated and will be removed from pandas in a future version. Use pandas.concat instead.\n",
      "  stratified_df = stratified_df.append(tmp_df, ignore_index=True)\n",
      "C:\\Users\\sayalaruano\\AppData\\Local\\Temp\\ipykernel_21104\\2536646069.py:85: FutureWarning: The frame.append method is deprecated and will be removed from pandas in a future version. Use pandas.concat instead.\n",
      "  stratified_df = stratified_df.append(tmp_df, ignore_index=True)\n",
      "C:\\Users\\sayalaruano\\AppData\\Local\\Temp\\ipykernel_21104\\2536646069.py:85: FutureWarning: The frame.append method is deprecated and will be removed from pandas in a future version. Use pandas.concat instead.\n",
      "  stratified_df = stratified_df.append(tmp_df, ignore_index=True)\n",
      "C:\\Users\\sayalaruano\\AppData\\Local\\Temp\\ipykernel_21104\\2536646069.py:85: FutureWarning: The frame.append method is deprecated and will be removed from pandas in a future version. Use pandas.concat instead.\n",
      "  stratified_df = stratified_df.append(tmp_df, ignore_index=True)\n",
      "C:\\Users\\sayalaruano\\AppData\\Local\\Temp\\ipykernel_21104\\2536646069.py:85: FutureWarning: The frame.append method is deprecated and will be removed from pandas in a future version. Use pandas.concat instead.\n",
      "  stratified_df = stratified_df.append(tmp_df, ignore_index=True)\n",
      "C:\\Users\\sayalaruano\\AppData\\Local\\Temp\\ipykernel_21104\\2536646069.py:85: FutureWarning: The frame.append method is deprecated and will be removed from pandas in a future version. Use pandas.concat instead.\n",
      "  stratified_df = stratified_df.append(tmp_df, ignore_index=True)\n",
      "C:\\Users\\sayalaruano\\AppData\\Local\\Temp\\ipykernel_21104\\2536646069.py:85: FutureWarning: The frame.append method is deprecated and will be removed from pandas in a future version. Use pandas.concat instead.\n",
      "  stratified_df = stratified_df.append(tmp_df, ignore_index=True)\n",
      "C:\\Users\\sayalaruano\\AppData\\Local\\Temp\\ipykernel_21104\\2536646069.py:85: FutureWarning: The frame.append method is deprecated and will be removed from pandas in a future version. Use pandas.concat instead.\n",
      "  stratified_df = stratified_df.append(tmp_df, ignore_index=True)\n",
      "C:\\Users\\sayalaruano\\AppData\\Local\\Temp\\ipykernel_21104\\2536646069.py:85: FutureWarning: The frame.append method is deprecated and will be removed from pandas in a future version. Use pandas.concat instead.\n",
      "  stratified_df = stratified_df.append(tmp_df, ignore_index=True)\n",
      "C:\\Users\\sayalaruano\\AppData\\Local\\Temp\\ipykernel_21104\\2536646069.py:85: FutureWarning: The frame.append method is deprecated and will be removed from pandas in a future version. Use pandas.concat instead.\n",
      "  stratified_df = stratified_df.append(tmp_df, ignore_index=True)\n",
      "C:\\Users\\sayalaruano\\AppData\\Local\\Temp\\ipykernel_21104\\2536646069.py:85: FutureWarning: The frame.append method is deprecated and will be removed from pandas in a future version. Use pandas.concat instead.\n",
      "  stratified_df = stratified_df.append(tmp_df, ignore_index=True)\n",
      "C:\\Users\\sayalaruano\\AppData\\Local\\Temp\\ipykernel_21104\\2536646069.py:85: FutureWarning: The frame.append method is deprecated and will be removed from pandas in a future version. Use pandas.concat instead.\n",
      "  stratified_df = stratified_df.append(tmp_df, ignore_index=True)\n",
      "C:\\Users\\sayalaruano\\AppData\\Local\\Temp\\ipykernel_21104\\2536646069.py:85: FutureWarning: The frame.append method is deprecated and will be removed from pandas in a future version. Use pandas.concat instead.\n",
      "  stratified_df = stratified_df.append(tmp_df, ignore_index=True)\n",
      "C:\\Users\\sayalaruano\\AppData\\Local\\Temp\\ipykernel_21104\\2536646069.py:85: FutureWarning: The frame.append method is deprecated and will be removed from pandas in a future version. Use pandas.concat instead.\n",
      "  stratified_df = stratified_df.append(tmp_df, ignore_index=True)\n",
      "C:\\Users\\sayalaruano\\AppData\\Local\\Temp\\ipykernel_21104\\2536646069.py:85: FutureWarning: The frame.append method is deprecated and will be removed from pandas in a future version. Use pandas.concat instead.\n",
      "  stratified_df = stratified_df.append(tmp_df, ignore_index=True)\n",
      "C:\\Users\\sayalaruano\\AppData\\Local\\Temp\\ipykernel_21104\\2536646069.py:85: FutureWarning: The frame.append method is deprecated and will be removed from pandas in a future version. Use pandas.concat instead.\n",
      "  stratified_df = stratified_df.append(tmp_df, ignore_index=True)\n",
      "C:\\Users\\sayalaruano\\AppData\\Local\\Temp\\ipykernel_21104\\2536646069.py:85: FutureWarning: The frame.append method is deprecated and will be removed from pandas in a future version. Use pandas.concat instead.\n",
      "  stratified_df = stratified_df.append(tmp_df, ignore_index=True)\n",
      "C:\\Users\\sayalaruano\\AppData\\Local\\Temp\\ipykernel_21104\\2536646069.py:85: FutureWarning: The frame.append method is deprecated and will be removed from pandas in a future version. Use pandas.concat instead.\n",
      "  stratified_df = stratified_df.append(tmp_df, ignore_index=True)\n",
      "C:\\Users\\sayalaruano\\AppData\\Local\\Temp\\ipykernel_21104\\2536646069.py:85: FutureWarning: The frame.append method is deprecated and will be removed from pandas in a future version. Use pandas.concat instead.\n",
      "  stratified_df = stratified_df.append(tmp_df, ignore_index=True)\n",
      "C:\\Users\\sayalaruano\\AppData\\Local\\Temp\\ipykernel_21104\\2536646069.py:85: FutureWarning: The frame.append method is deprecated and will be removed from pandas in a future version. Use pandas.concat instead.\n",
      "  stratified_df = stratified_df.append(tmp_df, ignore_index=True)\n",
      "C:\\Users\\sayalaruano\\AppData\\Local\\Temp\\ipykernel_21104\\2536646069.py:85: FutureWarning: The frame.append method is deprecated and will be removed from pandas in a future version. Use pandas.concat instead.\n",
      "  stratified_df = stratified_df.append(tmp_df, ignore_index=True)\n",
      "C:\\Users\\sayalaruano\\AppData\\Local\\Temp\\ipykernel_21104\\2536646069.py:85: FutureWarning: The frame.append method is deprecated and will be removed from pandas in a future version. Use pandas.concat instead.\n",
      "  stratified_df = stratified_df.append(tmp_df, ignore_index=True)\n",
      "C:\\Users\\sayalaruano\\AppData\\Local\\Temp\\ipykernel_21104\\2536646069.py:85: FutureWarning: The frame.append method is deprecated and will be removed from pandas in a future version. Use pandas.concat instead.\n",
      "  stratified_df = stratified_df.append(tmp_df, ignore_index=True)\n"
     ]
    }
   ],
   "source": [
    "# Obtain the stratified validation dataset proportions that have images without nrecords\n",
    "stratif_df_img_no_nrec = stratified_sample(df_img, [\"Year_interval\", \"Binned_latitude\", \"Binned_longitude\"], 3000, keep_index= False, seed=100)"
   ]
  },
  {
   "cell_type": "code",
   "execution_count": 303,
   "id": "67289eef-c8cf-431a-9baf-8e0a517eb0c3",
   "metadata": {},
   "outputs": [
    {
     "name": "stdout",
     "output_type": "stream",
     "text": [
      "<class 'pandas.core.frame.DataFrame'>\n",
      "RangeIndex: 3001 entries, 0 to 3000\n",
      "Data columns (total 28 columns):\n",
      " #   Column                          Non-Null Count  Dtype  \n",
      "---  ------                          --------------  -----  \n",
      " 0   gbifID                          3001 non-null   int64  \n",
      " 1   institutionCode                 3001 non-null   object \n",
      " 2   recordedBy                      2493 non-null   object \n",
      " 3   eventDate                       3001 non-null   object \n",
      " 4   year                            3001 non-null   float64\n",
      " 5   month                           3001 non-null   float64\n",
      " 6   day                             2938 non-null   float64\n",
      " 7   Country_name                    3001 non-null   object \n",
      " 8   decimalLongitude                3001 non-null   float64\n",
      " 9   decimalLatitude                 3001 non-null   float64\n",
      " 10  elevation                       2086 non-null   float64\n",
      " 11  family                          3001 non-null   object \n",
      " 12  genus                           3001 non-null   object \n",
      " 13  species                         3001 non-null   object \n",
      " 14  acceptedScientificName          3001 non-null   object \n",
      " 15  occurrenceRemarks               2433 non-null   object \n",
      " 16  dynamicProperties               481 non-null    object \n",
      " 17  fieldNotes                      559 non-null    object \n",
      " 18  image_url                       3001 non-null   object \n",
      " 19  reproductiveCondition           524 non-null    object \n",
      " 20  Year_interval                   3001 non-null   object \n",
      " 21  acceptedScientificName_splevel  3001 non-null   object \n",
      " 22  n_records_GBIF                  3001 non-null   float64\n",
      " 23  Nrecords_interval               3001 non-null   object \n",
      " 24  OrigDB_vs_GBIF                  3001 non-null   object \n",
      " 25  FieldNotes                      3001 non-null   object \n",
      " 26  Binned_latitude                 3001 non-null   object \n",
      " 27  Binned_longitude                3001 non-null   object \n",
      "dtypes: float64(7), int64(1), object(20)\n",
      "memory usage: 656.6+ KB\n"
     ]
    }
   ],
   "source": [
    "stratif_df_img_no_nrec.info()"
   ]
  },
  {
   "cell_type": "code",
   "execution_count": 122,
   "id": "b2bf2eed-dc1a-41ba-93c9-dd47bb885147",
   "metadata": {},
   "outputs": [],
   "source": [
    "# Export stratif dataset with number of records\n",
    "stratif_df_img_nrec.to_csv(\"Stratified_val_df_img_with_nrecords.csv\", index=False)"
   ]
  },
  {
   "cell_type": "code",
   "execution_count": 123,
   "id": "1d48d5da-09eb-4abe-8da1-f3edf01cd0b3",
   "metadata": {},
   "outputs": [],
   "source": [
    "# Export stratif dataset without number of records\n",
    "stratif_df_img_no_nrec.to_csv(\"Stratified_val_df_img_without_nrecords.csv\", index=False)"
   ]
  },
  {
   "cell_type": "markdown",
   "id": "c7a6b5e5-1f94-4a97-9694-ebd0745d9ac7",
   "metadata": {},
   "source": [
    "## Check proportions of dataset with and without number of records"
   ]
  },
  {
   "cell_type": "code",
   "execution_count": 2,
   "id": "7c531e1d-7f49-458d-b2d1-c111a4974f24",
   "metadata": {},
   "outputs": [],
   "source": [
    "# Load data\n",
    "stratif_df_img_nrec = pd.read_csv(\"Stratified_val_df_img_with_nrecords.csv\")\n",
    "stratif_df_img_no_nrec = pd.read_csv(\"Stratified_val_df_img_without_nrecords.csv\")"
   ]
  },
  {
   "cell_type": "code",
   "execution_count": 3,
   "id": "c15eae20-d496-4aa9-86ac-98c9b89d1692",
   "metadata": {},
   "outputs": [
    {
     "data": {
      "text/plain": [
       "Nrecords_interval\n",
       ">500       1737\n",
       "101-500     720\n",
       "11-100      455\n",
       "0-10         91\n",
       "dtype: int64"
      ]
     },
     "execution_count": 3,
     "metadata": {},
     "output_type": "execute_result"
    }
   ],
   "source": [
    "stratif_df_img_nrec.value_counts(\"Nrecords_interval\")"
   ]
  },
  {
   "cell_type": "code",
   "execution_count": 7,
   "id": "7cb9ac3f-9f6a-4188-94f0-42f476a6a44b",
   "metadata": {},
   "outputs": [
    {
     "data": {
      "text/plain": [
       "Binned_longitude\n",
       "(-80, -60]      1440\n",
       "(-60, -40]       865\n",
       "(-100, -80]      480\n",
       "(-40, -20]       179\n",
       "(-120, -100]      32\n",
       "(-140, -120]       2\n",
       "(-160, -140]       2\n",
       "dtype: int64"
      ]
     },
     "execution_count": 7,
     "metadata": {},
     "output_type": "execute_result"
    }
   ],
   "source": [
    "stratif_df_img_no_nrec.value_counts(\"Binned_longitude\")"
   ]
  },
  {
   "cell_type": "markdown",
   "id": "62fe172a-44a5-4f6f-82dd-c5fa5e16bbd9",
   "metadata": {},
   "source": [
    "## Join labeled data with non-duplicated dataset"
   ]
  },
  {
   "cell_type": "code",
   "execution_count": 306,
   "id": "573ce657-69ee-49fe-a8ea-2cb0fd8979e3",
   "metadata": {},
   "outputs": [],
   "source": [
    "# Load labeled data\n",
    "stratif_labeled = pd.read_csv(\"Stratified_val_df_img_def.csv\")"
   ]
  },
  {
   "cell_type": "code",
   "execution_count": 307,
   "id": "d731bc5a-6e1c-4eb8-9846-232fecab3936",
   "metadata": {},
   "outputs": [
    {
     "data": {
      "text/plain": [
       "Index(['gbifID', 'institutionCode', 'recordedBy', 'eventDate', 'year', 'month',\n",
       "       'day', 'Country_name', 'decimalLongitude', 'decimalLatitude',\n",
       "       'elevation', 'family', 'genus', 'species', 'acceptedScientificName',\n",
       "       'occurrenceRemarks', 'dynamicProperties', 'fieldNotes', 'image_url',\n",
       "       'reproductiveCondition', 'Year_interval',\n",
       "       'acceptedScientificName_splevel', 'n_records_GBIF', 'Nrecords_interval',\n",
       "       'OrigDB_vs_GBIF', 'FieldNotes', 'Binned_latitude', 'Binned_longitude',\n",
       "       'Label_flowering', 'Image_flowering', 'Label_fruiting',\n",
       "       'Image_fruiting'],\n",
       "      dtype='object')"
      ]
     },
     "execution_count": 307,
     "metadata": {},
     "output_type": "execute_result"
    }
   ],
   "source": [
    "stratif_labeled.columns"
   ]
  },
  {
   "cell_type": "code",
   "execution_count": 310,
   "id": "76662f8b-01fc-4778-b949-68b39c01fdf2",
   "metadata": {},
   "outputs": [],
   "source": [
    "# Select column with labels\n",
    "columns_lab=['gbifID', 'Label_flowering', 'Image_flowering', 'Label_fruiting', 'Image_fruiting']\n",
    "df_columns_lab = stratif_labeled[columns_lab]"
   ]
  },
  {
   "cell_type": "code",
   "execution_count": 311,
   "id": "47ee2df1-faea-41ea-871c-9494dcc53627",
   "metadata": {},
   "outputs": [
    {
     "data": {
      "text/html": [
       "<div>\n",
       "<style scoped>\n",
       "    .dataframe tbody tr th:only-of-type {\n",
       "        vertical-align: middle;\n",
       "    }\n",
       "\n",
       "    .dataframe tbody tr th {\n",
       "        vertical-align: top;\n",
       "    }\n",
       "\n",
       "    .dataframe thead th {\n",
       "        text-align: right;\n",
       "    }\n",
       "</style>\n",
       "<table border=\"1\" class=\"dataframe\">\n",
       "  <thead>\n",
       "    <tr style=\"text-align: right;\">\n",
       "      <th></th>\n",
       "      <th>gbifID</th>\n",
       "      <th>Label_flowering</th>\n",
       "      <th>Image_flowering</th>\n",
       "      <th>Label_fruiting</th>\n",
       "      <th>Image_fruiting</th>\n",
       "    </tr>\n",
       "  </thead>\n",
       "  <tbody>\n",
       "    <tr>\n",
       "      <th>0</th>\n",
       "      <td>2284494170</td>\n",
       "      <td>Yes</td>\n",
       "      <td>Yes</td>\n",
       "      <td>No</td>\n",
       "      <td>No</td>\n",
       "    </tr>\n",
       "    <tr>\n",
       "      <th>1</th>\n",
       "      <td>2270557443</td>\n",
       "      <td>Yes</td>\n",
       "      <td>Yes</td>\n",
       "      <td>No</td>\n",
       "      <td>No</td>\n",
       "    </tr>\n",
       "    <tr>\n",
       "      <th>2</th>\n",
       "      <td>1836962001</td>\n",
       "      <td>No</td>\n",
       "      <td>No</td>\n",
       "      <td>No</td>\n",
       "      <td>No</td>\n",
       "    </tr>\n",
       "    <tr>\n",
       "      <th>3</th>\n",
       "      <td>1803779575</td>\n",
       "      <td>Yes</td>\n",
       "      <td>Yes</td>\n",
       "      <td>No</td>\n",
       "      <td>No</td>\n",
       "    </tr>\n",
       "    <tr>\n",
       "      <th>4</th>\n",
       "      <td>2013260553</td>\n",
       "      <td>No</td>\n",
       "      <td>No</td>\n",
       "      <td>No</td>\n",
       "      <td>Yes</td>\n",
       "    </tr>\n",
       "    <tr>\n",
       "      <th>...</th>\n",
       "      <td>...</td>\n",
       "      <td>...</td>\n",
       "      <td>...</td>\n",
       "      <td>...</td>\n",
       "      <td>...</td>\n",
       "    </tr>\n",
       "    <tr>\n",
       "      <th>2995</th>\n",
       "      <td>3336611460</td>\n",
       "      <td>No</td>\n",
       "      <td>Yes</td>\n",
       "      <td>No</td>\n",
       "      <td>No</td>\n",
       "    </tr>\n",
       "    <tr>\n",
       "      <th>2996</th>\n",
       "      <td>2005421586</td>\n",
       "      <td>No</td>\n",
       "      <td>No</td>\n",
       "      <td>No</td>\n",
       "      <td>No</td>\n",
       "    </tr>\n",
       "    <tr>\n",
       "      <th>2997</th>\n",
       "      <td>3336608371</td>\n",
       "      <td>No</td>\n",
       "      <td>Yes</td>\n",
       "      <td>No</td>\n",
       "      <td>No</td>\n",
       "    </tr>\n",
       "    <tr>\n",
       "      <th>2998</th>\n",
       "      <td>1499613344</td>\n",
       "      <td>Yes</td>\n",
       "      <td>NAN</td>\n",
       "      <td>No</td>\n",
       "      <td>NAN</td>\n",
       "    </tr>\n",
       "    <tr>\n",
       "      <th>2999</th>\n",
       "      <td>3503203319</td>\n",
       "      <td>Yes</td>\n",
       "      <td>Yes</td>\n",
       "      <td>No</td>\n",
       "      <td>No</td>\n",
       "    </tr>\n",
       "  </tbody>\n",
       "</table>\n",
       "<p>3000 rows × 5 columns</p>\n",
       "</div>"
      ],
      "text/plain": [
       "          gbifID Label_flowering Image_flowering Label_fruiting Image_fruiting\n",
       "0     2284494170             Yes             Yes             No             No\n",
       "1     2270557443             Yes             Yes             No             No\n",
       "2     1836962001              No              No             No             No\n",
       "3     1803779575             Yes             Yes             No             No\n",
       "4     2013260553              No              No             No            Yes\n",
       "...          ...             ...             ...            ...            ...\n",
       "2995  3336611460              No             Yes             No             No\n",
       "2996  2005421586              No              No             No             No\n",
       "2997  3336608371              No             Yes             No             No\n",
       "2998  1499613344             Yes             NAN             No            NAN\n",
       "2999  3503203319             Yes             Yes             No             No\n",
       "\n",
       "[3000 rows x 5 columns]"
      ]
     },
     "execution_count": 311,
     "metadata": {},
     "output_type": "execute_result"
    }
   ],
   "source": [
    "df_columns_lab"
   ]
  },
  {
   "cell_type": "code",
   "execution_count": 329,
   "id": "e7724ece-eb81-4fbc-8318-43341a5bf464",
   "metadata": {},
   "outputs": [],
   "source": [
    "final_labeled_df = stratif_df_img_no_nrec.merge(df_columns_lab, how='left', on='gbifID')"
   ]
  },
  {
   "cell_type": "code",
   "execution_count": 330,
   "id": "5c745157-d782-469d-8f96-95bc9aad56cf",
   "metadata": {},
   "outputs": [],
   "source": [
    "final_labeled_df = test.drop_duplicates()"
   ]
  },
  {
   "cell_type": "code",
   "execution_count": 332,
   "id": "27e42b45-73c0-4052-8cee-e80e7c5cb995",
   "metadata": {},
   "outputs": [],
   "source": [
    "final_labeled_df.to_csv('Stratified_val_df_img_nondup.csv', index=False)"
   ]
  },
  {
   "cell_type": "markdown",
   "id": "860c7259-3bc6-4c95-bd5a-2536db2d33f8",
   "metadata": {},
   "source": [
    "## Final verification validation non duplicated dataset"
   ]
  },
  {
   "cell_type": "code",
   "execution_count": 19,
   "id": "346bcf08-d692-49a0-aacd-cb3853adcf24",
   "metadata": {},
   "outputs": [],
   "source": [
    "# Load labeled data\n",
    "stratif_labeled_nondup = pd.read_csv(\"Stratified_val_df_img_nondup_def.csv\")"
   ]
  },
  {
   "cell_type": "code",
   "execution_count": 20,
   "id": "ecc3eaad-308c-4f2b-84ad-45cb7362f853",
   "metadata": {},
   "outputs": [
    {
     "data": {
      "text/plain": [
       "Index(['gbifID', 'institutionCode', 'recordedBy', 'eventDate', 'year', 'month',\n",
       "       'day', 'Country_name', 'decimalLongitude', 'decimalLatitude',\n",
       "       'elevation', 'family', 'genus', 'species', 'acceptedScientificName',\n",
       "       'occurrenceRemarks', 'dynamicProperties', 'fieldNotes', 'image_url',\n",
       "       'reproductiveCondition', 'Year_interval',\n",
       "       'acceptedScientificName_splevel', 'n_records_GBIF', 'Nrecords_interval',\n",
       "       'OrigDB_vs_GBIF', 'FieldNotes', 'Binned_latitude', 'Binned_longitude',\n",
       "       'Label_flowering', 'Image_flowering', 'Label_fruiting',\n",
       "       'Image_fruiting'],\n",
       "      dtype='object')"
      ]
     },
     "execution_count": 20,
     "metadata": {},
     "output_type": "execute_result"
    }
   ],
   "source": [
    "stratif_labeled_nondup.columns"
   ]
  },
  {
   "cell_type": "code",
   "execution_count": 24,
   "id": "3222a861-8631-4607-b63a-2808e81ce611",
   "metadata": {},
   "outputs": [
    {
     "data": {
      "text/plain": [
       "Label_fruiting\n",
       "No     2305\n",
       "Yes     695\n",
       "dtype: int64"
      ]
     },
     "execution_count": 24,
     "metadata": {},
     "output_type": "execute_result"
    }
   ],
   "source": [
    "stratif_labeled_nondup.value_counts(\"Label_fruiting\")"
   ]
  }
 ],
 "metadata": {
  "kernelspec": {
   "display_name": "Python 3 (ipykernel)",
   "language": "python",
   "name": "python3"
  },
  "language_info": {
   "codemirror_mode": {
    "name": "ipython",
    "version": 3
   },
   "file_extension": ".py",
   "mimetype": "text/x-python",
   "name": "python",
   "nbconvert_exporter": "python",
   "pygments_lexer": "ipython3",
   "version": "3.9.12"
  }
 },
 "nbformat": 4,
 "nbformat_minor": 5
}
