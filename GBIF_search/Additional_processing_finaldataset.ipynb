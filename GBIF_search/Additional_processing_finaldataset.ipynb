{
 "cells": [
  {
   "cell_type": "code",
   "execution_count": 275,
   "id": "a44bd723-b683-493e-a0fd-d7bf4870a40c",
   "metadata": {},
   "outputs": [],
   "source": [
    "# Imports\n",
    "import pandas as pd\n",
    "import numpy as np"
   ]
  },
  {
   "cell_type": "code",
   "execution_count": 282,
   "id": "ecf7b332-ee21-4410-a0b8-221184585f6b",
   "metadata": {},
   "outputs": [
    {
     "name": "stderr",
     "output_type": "stream",
     "text": [
      "/tmp/ipykernel_7802/2826432051.py:2: DtypeWarning: Columns (23) have mixed types. Specify dtype option on import or set low_memory=False.\n",
      "  df = pd.read_csv(\"Allspecies_GBIFrecords_fieldnotes_complete.csv\")\n"
     ]
    }
   ],
   "source": [
    "# Load data\n",
    "df = pd.read_csv(\"Allspecies_GBIFrecords_fieldnotes_complete.csv\")"
   ]
  },
  {
   "cell_type": "code",
   "execution_count": 283,
   "id": "ce3e7dbc-fc33-420e-81be-2a45f87f35ba",
   "metadata": {},
   "outputs": [
    {
     "data": {
      "text/plain": [
       "Index(['gbifID', 'institutionCode', 'collectionCode', 'occurrenceID',\n",
       "       'catalogNumber', 'recordNumber', 'recordedBy', 'fieldNumber',\n",
       "       'eventDate', 'year', 'month', 'day', 'eventRemarks', 'countryCode',\n",
       "       'stateProvince', 'locality', 'decimalLongitude', 'decimalLatitude',\n",
       "       'elevation', 'habitat', 'references', 'basisOfRecord', 'taxonID',\n",
       "       'scientificNameID', 'family', 'genus', 'species', 'scientificName',\n",
       "       'taxonomicStatus', 'acceptedScientificName', 'datasetKey', 'mediaType',\n",
       "       'occurrenceRemarks', 'dynamicProperties', 'fieldNotes',\n",
       "       'reproductiveCondition', 'hasGeospatialIssues', 'hasCoordinate',\n",
       "       'coordinateUncertaintyInMeters', 'issue', 'image_url',\n",
       "       'acceptedScientificName_corr', 'Country_name', 'Binned_latitude'],\n",
       "      dtype='object')"
      ]
     },
     "execution_count": 283,
     "metadata": {},
     "output_type": "execute_result"
    }
   ],
   "source": [
    "# Check columns \n",
    "df.columns"
   ]
  },
  {
   "cell_type": "code",
   "execution_count": 284,
   "id": "b3cba91c-d2cc-41ac-a2ed-89812ac1e33c",
   "metadata": {},
   "outputs": [],
   "source": [
    "# Select the most important columns \n",
    "cols = [\"gbifID\", \"institutionCode\", \"recordedBy\", \"eventDate\", \"year\", \n",
    "       \"month\", \"day\", \"Country_name\", \"decimalLongitude\", \"decimalLatitude\", \n",
    "       \"Binned_latitude\", \"elevation\", \"family\", \"genus\", \"species\", \n",
    "       \"acceptedScientificName_corr\", \"occurrenceRemarks\", \"dynamicProperties\", \n",
    "       \"fieldNotes\", \"image_url\", \"reproductiveCondition\"]\n",
    "df_filt = df[cols]"
   ]
  },
  {
   "cell_type": "code",
   "execution_count": 285,
   "id": "78cd3b98-f05d-48f9-882a-73c2e2e92de2",
   "metadata": {},
   "outputs": [],
   "source": [
    "# Change acceptedScientificName_corr column name\n",
    "df_filt = df_filt.rename(columns={\"acceptedScientificName_corr\":\"acceptedScientificName\"})"
   ]
  },
  {
   "cell_type": "code",
   "execution_count": 286,
   "id": "ea613e5a-02df-4158-807d-b3a202185d38",
   "metadata": {},
   "outputs": [],
   "source": [
    "# Merge the three columns with fieldnotes information into a single one\n",
    "fn_cols = ['occurrenceRemarks', 'dynamicProperties', 'fieldNotes']\n",
    "df_filt['FieldNotes'] = df_filt[fn_cols].apply(lambda row: '; '.join(row.values.astype(str)), axis=1).copy()"
   ]
  },
  {
   "cell_type": "code",
   "execution_count": 287,
   "id": "121bbc16-3dc7-4264-b787-5dd388e80c60",
   "metadata": {},
   "outputs": [
    {
     "data": {
      "text/plain": [
       "0        [Invalid Lat.: 04Â° 49' 509\"S. Invalid Long.: ...\n",
       "1        Cestrum megalophyllum voucher BioBot11285 matu...\n",
       "2        Cestrum megalophyllum voucher BioBot10266 ribu...\n",
       "3        Erythroxylum macrophyllum voucher BioBot10378 ...\n",
       "4        Casearia sylvestris isolate PECB029 ribulose-1...\n",
       "                               ...                        \n",
       "68109    nan; \"{\"\"determinationfiledas\"\": \"\"Yes\"\", \"\"co...\n",
       "68110    nan; \"{\"\"determinationfiledas\"\": \"\"Yes\"\", \"\"co...\n",
       "68111    nan; \"{\"\"habit\"\":\"\"Tree (10m). Light colored b...\n",
       "68112    nan; \"{\"\"habit\"\":\"\"Arbol de ca. 30 m de alto, ...\n",
       "68113    nan; \"{\"\"habit\"\":\"\"shrub 4 4 tall; fruit black...\n",
       "Name: FieldNotes, Length: 68114, dtype: object"
      ]
     },
     "execution_count": 287,
     "metadata": {},
     "output_type": "execute_result"
    }
   ],
   "source": [
    "df_filt['FieldNotes']"
   ]
  },
  {
   "cell_type": "code",
   "execution_count": 248,
   "id": "679b3e15-5559-4fdd-aed4-25db1543d42a",
   "metadata": {},
   "outputs": [],
   "source": [
    "# Delete independent columns for fieldnotes\n",
    "#df_filt.drop(['occurrenceRemarks', 'dynamicProperties', 'fieldNotes'], axis=1, inplace=True)"
   ]
  },
  {
   "cell_type": "code",
   "execution_count": 288,
   "id": "989d9023-f145-48c3-8362-ce59da74bbac",
   "metadata": {},
   "outputs": [],
   "source": [
    "# Add a column with a filter per year: before 1970, between 1970 and 2010, and since 2011\n",
    "# Define a function for classifying records by year\n",
    "def add_year_col(row):\n",
    "    if row['year'] < 1970:\n",
    "        val = '<1970'\n",
    "    elif (row['year'] >= 1970) and (row['year'] <= 2010):\n",
    "        val = '1970-2010'\n",
    "    else:\n",
    "        val = '>2011'\n",
    "    return val\n",
    "\n",
    "#create new column using the function above\n",
    "df_filt['Year_interval'] = df_filt.apply(add_year_col, axis=1)"
   ]
  },
  {
   "cell_type": "code",
   "execution_count": 289,
   "id": "8d7f2baa-0cfe-49bb-914e-0c819a899f16",
   "metadata": {},
   "outputs": [
    {
     "data": {
      "text/plain": [
       "1970-2010    51572\n",
       ">2011        11838\n",
       "<1970         4704\n",
       "Name: Year_interval, dtype: int64"
      ]
     },
     "execution_count": 289,
     "metadata": {},
     "output_type": "execute_result"
    }
   ],
   "source": [
    "# Count the number of values of the new column\n",
    "df_filt['Year_interval'].value_counts()"
   ]
  },
  {
   "cell_type": "code",
   "execution_count": 290,
   "id": "b2159870-8baa-49ff-a96f-17b05478c171",
   "metadata": {},
   "outputs": [],
   "source": [
    "# Add a column with scientific names at the species level without authorities and subspecies\n",
    "df_filt['acceptedScientificName_splevel'] = df_filt['acceptedScientificName'].str.extract('(^(?:\\S+\\s+){1,2})', expand=False)\n",
    "df_filt['acceptedScientificName_splevel'] = df_filt['acceptedScientificName_splevel'].str.rstrip()"
   ]
  },
  {
   "cell_type": "code",
   "execution_count": 291,
   "id": "a392d164-435c-4bd6-b8d8-08278d47d085",
   "metadata": {},
   "outputs": [
    {
     "data": {
      "text/plain": [
       "0            Cavendishia bracteata\n",
       "1            Cestrum megalophyllum\n",
       "2            Cestrum megalophyllum\n",
       "3        Erythroxylum macrophyllum\n",
       "4              Casearia sylvestris\n",
       "                   ...            \n",
       "68109         Vernonanthura patens\n",
       "68110         Vernonanthura patens\n",
       "68111              Trema micrantha\n",
       "68112              Trema micrantha\n",
       "68113             Myrcia splendens\n",
       "Name: acceptedScientificName_splevel, Length: 68114, dtype: object"
      ]
     },
     "execution_count": 291,
     "metadata": {},
     "output_type": "execute_result"
    }
   ],
   "source": [
    "df_filt['acceptedScientificName_splevel']"
   ]
  },
  {
   "cell_type": "code",
   "execution_count": 215,
   "id": "a5cc1cfc-0011-4f26-b514-893ca1fc5c4a",
   "metadata": {},
   "outputs": [],
   "source": [
    "# Export column at species level to compare it with the original list\n",
    "sp_list_GBIF = pd.DataFrame(df_filt['acceptedScientificName_splevel'].unique())\n",
    "sp_list_GBIF.to_csv(\"sp_list_GBIF.csv\")"
   ]
  },
  {
   "cell_type": "code",
   "execution_count": 292,
   "id": "1056d1cf-b989-4ad7-b9dc-ac0fb21b2598",
   "metadata": {},
   "outputs": [
    {
     "name": "stderr",
     "output_type": "stream",
     "text": [
      "/tmp/ipykernel_7802/4190674584.py:2: FutureWarning: The default dtype for empty Series will be 'object' instead of 'float64' in a future version. Specify a dtype explicitly to silence this warning.\n",
      "  df_filt[\"n_records_GBIF\"] = pd.Series()\n"
     ]
    }
   ],
   "source": [
    "# Add a column with the number of records by species\n",
    "df_filt[\"n_records_GBIF\"] = pd.Series()\n",
    "\n",
    "for i, row in df_filt.iterrows():   \n",
    "    count_temp = len(df_filt[df_filt[\"acceptedScientificName\"] == row[\"acceptedScientificName\"]])\n",
    "    df_filt.at[i,'n_records_GBIF']=count_temp"
   ]
  },
  {
   "cell_type": "code",
   "execution_count": 293,
   "id": "efa4644f-befe-4369-adb9-bde1aa193c91",
   "metadata": {},
   "outputs": [
    {
     "data": {
      "text/plain": [
       "68114"
      ]
     },
     "execution_count": 293,
     "metadata": {},
     "output_type": "execute_result"
    }
   ],
   "source": [
    "# Verify the correct total number of records \n",
    "test = df_filt.groupby(['acceptedScientificName', 'n_records_GBIF']).size().reset_index(name='count')\n",
    "test[\"count\"].sum()"
   ]
  },
  {
   "cell_type": "code",
   "execution_count": 294,
   "id": "f29c3010-026c-49f5-a922-a3d50efe8f91",
   "metadata": {},
   "outputs": [],
   "source": [
    "# Add a column with the interval of the number of records: 0-10, 11-100, 101-500, >500\n",
    "# Define a function for classifying records by ther numbers\n",
    "def add_nrecords_col(row):\n",
    "    if (row['n_records_GBIF'] >= 0) and (row['n_records_GBIF'] <=10):\n",
    "        val = '0-10'\n",
    "    elif (row['n_records_GBIF'] >= 11) and (row['n_records_GBIF'] <=100):\n",
    "        val = '11-100'\n",
    "    elif (row['n_records_GBIF'] >= 101) and (row['n_records_GBIF'] <=500):\n",
    "        val = '101-500'\n",
    "    else:\n",
    "        val = '>500'\n",
    "    return val\n",
    "\n",
    "#create new column using the function above\n",
    "df_filt['Nrecords_interval'] = df_filt.apply(add_nrecords_col, axis=1)"
   ]
  },
  {
   "cell_type": "code",
   "execution_count": 295,
   "id": "f7c8ffd8-d6b2-4d84-a0c3-4bde35a1e346",
   "metadata": {},
   "outputs": [],
   "source": [
    "# Verify the number of intervas by species\n",
    "test1 = df_filt.groupby(['acceptedScientificName', 'Nrecords_interval']).size().reset_index(name='count')"
   ]
  },
  {
   "cell_type": "code",
   "execution_count": 296,
   "id": "1914d3f6-6d1f-4426-bea1-fdc551b53dbc",
   "metadata": {},
   "outputs": [
    {
     "data": {
      "text/plain": [
       "11-100     188\n",
       "0-10       127\n",
       "101-500     72\n",
       ">500        36\n",
       "Name: Nrecords_interval, dtype: int64"
      ]
     },
     "execution_count": 296,
     "metadata": {},
     "output_type": "execute_result"
    }
   ],
   "source": [
    "# Count the number of values of the new column\n",
    "test1[\"Nrecords_interval\"].value_counts()"
   ]
  },
  {
   "cell_type": "code",
   "execution_count": 297,
   "id": "b82e4300-89b6-4a58-923c-9d44b90b42fd",
   "metadata": {},
   "outputs": [],
   "source": [
    "# Add a column with the names from the original database and the ones added by GBIF\n",
    "# Load dataframe with the original names\n",
    "orig_names = pd.read_csv(\"../../List_species/List_all_species_withauth_phenology_proj_UDLA2022_def_tnrs.csv\")\n",
    "\n",
    "#Convert df into a list\n",
    "orig_names = orig_names[\"Scientific_name_auth\"].values.tolist()"
   ]
  },
  {
   "cell_type": "code",
   "execution_count": 260,
   "id": "f630bfb3-4093-4ef6-b157-67ef8ecb3d8c",
   "metadata": {},
   "outputs": [],
   "source": [
    "# Export list of accepted names to compare them to the initial db\n",
    "test3 = pd.DataFrame(df_filt['acceptedScientificName'].unique())\n",
    "test3.to_csv(\"acc_names_final.csv\", index=False)"
   ]
  },
  {
   "cell_type": "code",
   "execution_count": 298,
   "id": "dcfb42e5-98d6-42d1-b259-039de05283df",
   "metadata": {},
   "outputs": [
    {
     "name": "stderr",
     "output_type": "stream",
     "text": [
      "/tmp/ipykernel_7802/542311640.py:2: FutureWarning: The default dtype for empty Series will be 'object' instead of 'float64' in a future version. Specify a dtype explicitly to silence this warning.\n",
      "  df_filt[\"OrigDB_vs_GBIF\"] = pd.Series()\n"
     ]
    }
   ],
   "source": [
    "# Add a column to verify if the name was in the original database\n",
    "df_filt[\"OrigDB_vs_GBIF\"] = pd.Series()\n",
    "\n",
    "for i in df_filt.index:\n",
    "    if df_filt['acceptedScientificName'][i] in orig_names:\n",
    "        df_filt.at[i,'OrigDB_vs_GBIF'] = \"OriginalDB\"\n",
    "    else : #if both conditions not verified\n",
    "        df_filt.at[i,'OrigDB_vs_GBIF'] = \"GBIF\""
   ]
  },
  {
   "cell_type": "code",
   "execution_count": 299,
   "id": "604200f4-ad2c-4e8c-8c8c-2793a5d63e89",
   "metadata": {},
   "outputs": [
    {
     "data": {
      "text/plain": [
       "OriginalDB    65096\n",
       "GBIF           3018\n",
       "Name: OrigDB_vs_GBIF, dtype: int64"
      ]
     },
     "execution_count": 299,
     "metadata": {},
     "output_type": "execute_result"
    }
   ],
   "source": [
    "# Count the number of values of the new column\n",
    "df_filt[\"OrigDB_vs_GBIF\"].value_counts()"
   ]
  },
  {
   "cell_type": "code",
   "execution_count": 300,
   "id": "8add2481-7ac4-43ec-8a71-3e88cd9aeb05",
   "metadata": {},
   "outputs": [],
   "source": [
    "# Export final dataset as csv\n",
    "df_filt.to_csv(\"Allspecies_GBIFrecords_fieldnotes_filtered.csv\", index=False)"
   ]
  },
  {
   "cell_type": "code",
   "execution_count": 301,
   "id": "04230019-1fb6-4191-8be2-9236f7251a97",
   "metadata": {},
   "outputs": [],
   "source": [
    "# Export final dataset as parquet\n",
    "df_filt.to_parquet(\"Allspecies_GBIFrecords_fieldnotes_filtered.parquet\", index=False)"
   ]
  }
 ],
 "metadata": {
  "kernelspec": {
   "display_name": "Python 3 (ipykernel)",
   "language": "python",
   "name": "python3"
  },
  "language_info": {
   "codemirror_mode": {
    "name": "ipython",
    "version": 3
   },
   "file_extension": ".py",
   "mimetype": "text/x-python",
   "name": "python",
   "nbconvert_exporter": "python",
   "pygments_lexer": "ipython3",
   "version": "3.9.12"
  }
 },
 "nbformat": 4,
 "nbformat_minor": 5
}
