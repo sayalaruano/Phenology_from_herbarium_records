{
 "cells": [
  {
   "cell_type": "code",
   "execution_count": 1,
   "id": "206725f3-39d5-45db-927f-5a61e2409e4d",
   "metadata": {},
   "outputs": [],
   "source": [
    "# Imports\n",
    "import pandas as pd\n",
    "import numpy as np"
   ]
  },
  {
   "cell_type": "code",
   "execution_count": 2,
   "id": "e137d2c0-38b3-4fab-9a65-8c964595b278",
   "metadata": {},
   "outputs": [],
   "source": [
    "# Load data\n",
    "df = pd.read_csv(\"List_species/List_all_species_phenology_proj_UDLA2022_filtered_def_tnrs.csv\", encoding=\"utf-8\")\n",
    "df_syn = pd.read_csv(\"List_species/List_all_species_and_synonyms_phenology_proj_UDLA2022_filtered_def_tnrs.csv\", encoding=\"utf-8\")\n",
    "df50_syn = pd.read_csv(\"List_species/List_50_species_and_synonyms_phenology_proj_UDLA2022_filtered_def_tnrs.csv\", encoding=\"utf-8\")"
   ]
  },
  {
   "cell_type": "code",
   "execution_count": 3,
   "id": "55738d15-6fd8-4d92-ba29-f352f459d22d",
   "metadata": {},
   "outputs": [
    {
     "data": {
      "text/plain": [
       "array(['Jacq.', 'Moldenke', '(Spreng.) Moldenke',\n",
       "       '(S.F. Blake) C. Jeffrey', '(Standl.) C.H. Perss.',\n",
       "       '(van der Werff & Lorea-Hern.) R. Rohde',\n",
       "       '(van der Werff) R. Rohde', 'Benth.', 'Pax & K. Hoffm.',\n",
       "       '(Spreng.) MÃ¼ll. Arg.', 'Poepp.', 'A.H. Gentry',\n",
       "       '(Triana & Planch.) Radlk.', '(Poepp.) Radlk.',\n",
       "       '(H. Karst.) D.S. Conant', '(Baker) D.S. Conant',\n",
       "       '(Spruce ex Hook.) Domin', '(Kunze) D.S. Conant', 'R.T. Penn.',\n",
       "       'W. Palacios', '(Westra) H. Rainer', 'Kunth', 'Nees', 'Cogn.',\n",
       "       '(Naudin) Triana', 'Benoist', '(H. Karst.) A.J. Hend.',\n",
       "       '(Kunth) Benth.', 'Sandwith', '(Rusby) Kosterm.',\n",
       "       '(Klotzsch & H. Karst. ex Meisn.) Sach. Nishida', '(Sw.) Hemsl.',\n",
       "       '(Planch. & Linden) C. Ulloa & P. JÃ¸rg.', 'Wurdack', 'D. Don',\n",
       "       'Sw.', 'Wedd.', '(Aubl.) Huber', 'C.C. Berg', 'Britton & Killip',\n",
       "       'Klitg.', 'Cuatrec.', 'Bonpl.', '(Jacq.) DC.', 'Standl.',\n",
       "       'Cornejo, Iltis & CerÃ³n', 'Kenfack & Ã\\x81.J. PÃ©rez',\n",
       "       'A.H. Gentry & Dodson', '(Jacq.) A. DC.', '(Rich.) Urb.', 'Tul.',\n",
       "       'SessÃ© ex Cerv.', '(Ruiz & Pav. ex J. St.-Hil.) Hoerold',\n",
       "       'C.C. Berg & P. Franco', 'Bertol.', 'Moritz ex Turcz.', 'Galeano',\n",
       "       'Francey', \"BenÃ\\xadtez & D'Arcy\", 'Dunal', '(Ruiz & Pav.) Mart.',\n",
       "       'Planch. & Triana', '(Cuatrec.) Cuatrec.', '(AubrÃ©v.) T.D. Penn.',\n",
       "       'Vahl', '(Sleumer) R.A. Howard', '(J.F. Macbr.) R.A. Howard',\n",
       "       'Ruiz & Pav.', 'B. StÃ¥hl',\n",
       "       '(Kunth) Iltis ex E.M. McGinty & Roalson', '(Ruiz & Pav.) G. Don',\n",
       "       'Turcz.', 'Little', 'A.C. Sm.', nan, '(Sw.) D. Don ex DC.',\n",
       "       'I.M. Johnst.', 'C.H. Perss. & Delprete', 'DC.', 'J.F. Macbr.',\n",
       "       'Mildbr.', '(Cuatrec.) H. Rob.', 'B.A. Sm.', 'Mansf.',\n",
       "       '(Dunal) Hunz.', '(Radlk.) Croat', '(Barrington) R.C. Moran',\n",
       "       '(Klotzsch) Domin', 'Alston', 'Sm.', '(Sodiro) Domin', 'Sodiro',\n",
       "       '(Mez) G. Agostini', 'Nevling', '(Hieron.) C. Jeffrey',\n",
       "       '(Domke) B. Nord.', 'Hook.', 'Miers',\n",
       "       'Devia, C.H. Perss. & C.M. Taylor', 'Harms', '(Goudot) Wedd.',\n",
       "       'Triana ex Micheli', 'Cav.', 'L. f.',\n",
       "       '(Ruiz & Pav.) Roem. & Schult.', 'R. Knuth', 'S.A. Mori & Cornejo',\n",
       "       'M.L. Kawas. & B. Holst', 'C.M. Taylor', '(L.) A. Rich.',\n",
       "       'Steyerm.', '(Desv. ex Ham.) C.C. Berg', 'W.C. Burger',\n",
       "       'Standl. & L.O. Williams', 'Dugand', 'Kvitvik', 'Mill.',\n",
       "       '(Hieron.) Kobuski', 'Mart.', '(Kunth) Hammel',\n",
       "       '(Mart.) G. Agostini', 'Mez', '(A.C. Sm.) Pipoly', 'Klotzsch',\n",
       "       'Hekking', '(Schrad.) H. Keng', '(Triana) L.O. Williams',\n",
       "       'Cornejo & S.A. Mori', '(Vell.) Reitz', 'A. Juss.',\n",
       "       'Triana & Planch.', 'Maas & Westra', 'Erkens & Maas', 'Dwyer',\n",
       "       '(Jacq.) S.O. Grose', '(Lundell) M.P. Simmons', 'Todzia',\n",
       "       'Occhioni', 'H. Karst.', '(Ruiz & Pav.) Solms', 'Sleumer',\n",
       "       'P. JÃ¸rg. & C. Ulloa', '(Klotzsch & H. Karst.) C.C. Berg', 'L.',\n",
       "       '(Triana) J.F. Macbr.', 'MÃ¼ll. Arg.', '(Tul.) MÃ¼ll. Arg.',\n",
       "       'K. Krause', 'Killip & Cuatrec.', '(Domke) H. Rob. & Panero',\n",
       "       'Loes.', '(Sw.) Willd.', 'Humb. & Bonpl. ex Willd.', 'T.D. Penn.',\n",
       "       'Steud.', 'Spruce ex Benth.', 'G. Don', 'Poepp. & Endl.', 'Ducke',\n",
       "       '(Poepp.) T.D. Penn.', 'Willd.', '(Vahl) Willd.',\n",
       "       'A.H. Gentry & Forero', 'Diels', '(Prance) Sothers & Prance',\n",
       "       'van der Werff', '(Donn. Sm.) Killip & C.V. Morton', 'Schult.',\n",
       "       'Ã\\x81.J. PÃ©rez, F. Arroyo & A. VÃ¡zquez', 'H. Karst. & Triana',\n",
       "       'Romero', '(Ruiz & Pav.) Biral', 'Idrobo & Cuatrec.',\n",
       "       'Cuatrec. & Idrobo', 'Markgr.', '(Cogn.) Wurdack', 'Gleason',\n",
       "       'Triana', '(Bonpl.) DC.', 'Triana ex Cogn.', '(Desr.) Naudin',\n",
       "       '(Desr.) D. Don ex DC.', '(Bonpl.) Cogn.', '(D. Don) Naudin',\n",
       "       'Danguy & Cherm.', 'Chodat', 'Ferreyra', 'Bureau', '(Sw.) DC.',\n",
       "       '(O. Berg) McVaugh', '(O. Berg) Grifo', '(Kunth) McVaugh',\n",
       "       '(Mez) Pipoly', '(Sw.) R. Br. ex Roem. & Schult.', 'Pittier',\n",
       "       '(Ruiz & Pav.) Mez', '(Ruiz & Pav.) Nees', '(Sw.) Griseb.',\n",
       "       'Rohwer', '(Cav. ex Lam.) Urb.', '(Nees) Mez', 'Mez & Sodiro',\n",
       "       '(Meisn.) Mez', 'Seem.', '(Willd. ex Schult.) Decne. & Planch.',\n",
       "       'Borchs.', '(Naudin) Gamba & Almeda', '(Triana) Gamba & Almeda',\n",
       "       '(A. DC.) A.H. Gentry', '(Standl. ex Steyerm.) C.M. Taylor',\n",
       "       '(Ruiz & Pav.) DC.', 'Aubl.', 'Bonifaz & Cornejo', 'L.E. Kopp',\n",
       "       'C.K. Allen', 'H.E. Moore', 'Spruce', 'C. DC.', '(Miq.) C. DC.',\n",
       "       '(Miq.) Standl.', '(Benoist) C.C. Berg & Heusden',\n",
       "       '(Willd.) H.E. Moore', '(H. Wendl. ex Burret) H.E. Moore', 'Pilg.',\n",
       "       '(Sw.) Borhidi', '(Standl.) Borhidi', 'A.S. Rao', 'MadriÃ±Ã¡n',\n",
       "       '(Nees) Rohwer', 'G.L. Webster', '(Miers) Mennega', '(L.) Morong',\n",
       "       '(A. Rich.) Griseb.', 'Huber', 'Wawra', 'Buscal.',\n",
       "       '(Kunth) Spreng.', '(Harms) Lowry, G.M. Plunkett & M.M. Mora',\n",
       "       'Bitter', '(Hook. f.) Miers', '(Ruiz & Pav.) A. DC.',\n",
       "       'S.S. Renner & Hausner', '(Kunth) A. DC.', 'Heilborn',\n",
       "       'K. Schum. & Pittier', 'Burret', 'S. Knapp',\n",
       "       '(H. Karst.) R.M. Tryon', 'Fern. Alonso', '(Kunth) Mez', 'Perkins',\n",
       "       'Brand', 'Barfod', '(Maguire) L. Marinho & Hammel',\n",
       "       '(Planch. & Triana) L. Marinho', '(L.) Blume', '(Turcz.) Kosterm.',\n",
       "       'Fisch. & C.A. Mey.', '(Sw.) G. Don',\n",
       "       '(Jacq.) Gaudich. ex Griseb.', 'S.F. Blake', 'Hieron.',\n",
       "       '(Kunth) H. Rob.', '(Benth.) Warb.', 'C. Presl',\n",
       "       'Galeano & R. Bernal', '(O.F. Cook & Doyle) Burret', '(L.) Schott',\n",
       "       'Cornejo & Reynel', '(Cuatrec.) P.G. Waterman', '(Kunth) Oken',\n",
       "       'Michelang.', 'Solms', 'Klotzsch ex Baill.', 'B. Nord.',\n",
       "       '(Wedd.) S. DÃ\\xadaz & Cuatrec.', '(Wedd.) Lundin',\n",
       "       'Sch. Bip. ex A. Rich.', '(O. Hoffm.) C. Jeffrey', 'Radlk.',\n",
       "       '(Sodiro) R.M. Tryon', '(Hook.) Domin', '(Jacq.) Baill.', 'Saff.',\n",
       "       'Ruiz & Pav. ex E.A. LÃ³pez', '(Naudin) Cogn.',\n",
       "       '(Mez & Pittier) C.K. Allen', 'Peyr.', 'Cuatrec. & D.M. Porter',\n",
       "       'Vahl ex Vent.', 'Cambess.', 'Lundell', '(Cambess.) Eichler',\n",
       "       '(Liebm.) C.C. Berg', '(Miq.) C.C. Berg', '(Klotzsch) Hoerold',\n",
       "       '(Benth.) Hemsl.', 'Hemsl.',\n",
       "       '(Klotzsch) Benth. & Hook. f. ex Hemsl.', 'TrÃ©cul', 'Miq.',\n",
       "       'Lamb.', 'A. Rich.', '(Cogn.) Michelang.', 'Almeda', 'Wall.',\n",
       "       '(M. Martens & Galeotti) FÃ©e', 'L.D. GÃ³mez', 'Domin',\n",
       "       '(Rosenst.) Domin', 'R.C. Moran & B. Ã˜llg.',\n",
       "       '(Kunze) Li Bing Zhang', 'Christ', '(Klotzsch) T. Moore',\n",
       "       '(Kuhn) Lehnert', 'Pires', 'D.R. Simpson', '(Ruiz & Pav.) Sleumer',\n",
       "       '(Kunth) J.F. Macbr.', 'C.B. Rob.', 'Rich.', '(O. Berg) Kiaersk.',\n",
       "       'MÃ¼ll. Arg. ex Standl.', 'L.O. Williams', '(Miq.) Miq.',\n",
       "       '(Blume) Miq.', 'Bold.', 'Schott', 'King', 'Schott ex Spreng.',\n",
       "       '(Kunth & BouchÃ©) Carvajal', 'Rossberg', 'Aiton',\n",
       "       '(Korth.) de Wit', 'Killip', '(Planch. & Triana) Zappi',\n",
       "       'Standl. & Steyerm.', 'Engl.', 'Linden & H. Wendl.',\n",
       "       '(Becc.) A.J. Hend.', '(H. Wendl. ex Spruce) A.J. Hend.',\n",
       "       '(Salisb. ex Mart.) Cambess.', '(Link, Klotzsch & Otto) Lundell',\n",
       "       '(L.) Sleumer', '(Kunth) T.D. Penn.', '(Hook. & Arn.) T.D. Penn.',\n",
       "       '(C. DC.) T.D. Penn.', 'Ruiz & Pav. ex G. Don',\n",
       "       '(Jacq.) G. Nicholson', 'Rose', 'Standl. ex J.F. Macbr.',\n",
       "       'N. Zamora', 'Dode', '(Oliv.) Loes.', '(Little) Cuatrec.',\n",
       "       '(Poir.) DC.', '(Kunth) CortÃ©s', '(Kunth) DC.', 'Soares-Silva',\n",
       "       'McVaugh', '(L.) Merr.', '(Rich.) DC.', 'O. Berg',\n",
       "       '(Lundell) Ricketson & Pipoly', 'Oerst.',\n",
       "       '(Nees & C. Mart.) J.F. Macbr.', 'Nees & Mart.', 'O.C. Schmidt',\n",
       "       '(Kunth) Rohwer', '(Ruiz & Pav.) Trofimov', 'Mez & Rusby ex Rusby',\n",
       "       '(Sw.) Mez', '(Mez) Kosterm.', 'Judd & Skean',\n",
       "       '(Humb. & Bonpl. ex Roem. & Schult.) Standl.',\n",
       "       'Standl. ex Steyerm.', 'Wernham', '(MÃ¼ll. Arg.) B.M. Boom',\n",
       "       '(DC.) Steyerm.', '(Aubl.) Delprete', 'G. Forst.',\n",
       "       '(Dwyer) C.M. Taylor', '(Standl.) Standl.', '(C. DC.) Trel.',\n",
       "       'Trel.', 'Trel. & Standl.', 'Trel. ex Callejas', 'Trel. & Yunck.',\n",
       "       'Yunck.', '(Sw.) A. Dietr.', 'Bredem. ex Link', '(C. DC.) Yunck.',\n",
       "       '(Burret) A.J. Hend. & Galeano', 'Rusby', 'Roem. & Schult.',\n",
       "       '(MÃ¼ll. Arg.) Huber', '(W.T. Aiton) I.M. Johnst.',\n",
       "       '(MÃ¼ll. Arg.) MÃ¼ll. Arg.', '(Pax & K. Hoffm.) Esser',\n",
       "       '(Aubl.) Willd.', '(Ruiz & Pav.) Perkins', '(Dugand) R. Bernal',\n",
       "       '(Mart. ex Miq.) Mez', '(Mart. & Miq.) Mez', 'Croizat',\n",
       "       '(Maguire) L. Marinho', '(Cuatrec.) L. Marinho', '(Wedd.) Wedd.',\n",
       "       'Planch.', '(Britton ex Small) Standl. & Steyerm.',\n",
       "       '(Schltdl.) Blume', '(DC.) K. Schum.', '(Sprague) Kosterm.',\n",
       "       '(DC.) Baill.', '(Schiede) Hemsl.', '(Poir.) Gaudich. ex Decne.',\n",
       "       '(Liebm.) V.W. Steinm.', '(Kunth) B. Nord.', '(Burm. f.) B. Nord.',\n",
       "       'Warb.', 'Moric. ex Ser.', 'Schltdl. & Cham.', 'R. Bernal',\n",
       "       '(Woodson) C.C. Berg', '(Ducke) C.C. Berg',\n",
       "       '(Miq.) Schott ex Spreng.', 'Desv. ex Ham.',\n",
       "       '(Standl.) C.C. Berg & Heusden', '(Griseb.) M. GÃ³mez',\n",
       "       '(Aubl.) Clos', '(Poir.) Gaudich. ex Wedd.'], dtype=object)"
      ]
     },
     "execution_count": 3,
     "metadata": {},
     "output_type": "execute_result"
    }
   ],
   "source": [
    "df_syn[\"Accepted_name_author\"].unique()"
   ]
  },
  {
   "cell_type": "code",
   "execution_count": 4,
   "id": "093ee9bc-5ea4-404d-8eb1-5378eddbc02b",
   "metadata": {},
   "outputs": [
    {
     "data": {
      "text/plain": [
       "Index(['ID', 'Name_submitted', 'Overall_score', 'Name_matched_id',\n",
       "       'Name_matched', 'Name_score', 'Name_matched_rank', 'Author_submitted',\n",
       "       'Author_matched', 'Author_score', 'Canonical_author',\n",
       "       'Name_matched_accepted_family', 'Genus_submitted', 'Genus_matched',\n",
       "       'Genus_score', 'Specific_epithet_submitted', 'Specific_epithet_matched',\n",
       "       'Specific_epithet_score', 'Family_submitted', 'Family_matched',\n",
       "       'Family_score', 'Infraspecific_rank', 'Infraspecific_epithet_matched',\n",
       "       'Infraspecific_epithet_score', 'Infraspecific_rank_2',\n",
       "       'Infraspecific_epithet_2_matched', 'Infraspecific_epithet_2_score',\n",
       "       'Annotations', 'Unmatched_terms', 'Name_matched_url',\n",
       "       'Name_matched_lsid', 'Phonetic', 'Taxonomic_status', 'Accepted_name',\n",
       "       'Accepted_species', 'Accepted_name_author', 'Accepted_name_id',\n",
       "       'Accepted_name_rank', 'Accepted_name_url', 'Accepted_name_lsid',\n",
       "       'Accepted_family', 'Overall_score_order', 'Highertaxa_score_order',\n",
       "       'Source', 'Warnings', 'selected', 'unique_id'],\n",
       "      dtype='object')"
      ]
     },
     "execution_count": 4,
     "metadata": {},
     "output_type": "execute_result"
    }
   ],
   "source": [
    "df.columns"
   ]
  },
  {
   "cell_type": "code",
   "execution_count": 5,
   "id": "f0ce99ba-229a-4af5-8547-99ad33040091",
   "metadata": {},
   "outputs": [
    {
     "data": {
      "text/plain": [
       "0                        Acalypha diversifolia\n",
       "1                         Aegiphila aculeifera\n",
       "2                               Aegiphila alba\n",
       "3                         Aegiphila bogotensis\n",
       "4       Aegiphila lopez-palacii var. pubescens\n",
       "                         ...                  \n",
       "2804                       Weinmannia moritzii\n",
       "2805     Weinmannia pinnata var. ptaritepuiana\n",
       "2806                       Weinmannia hirtella\n",
       "2807                           Inga quaternata\n",
       "2808                          Bactris insignis\n",
       "Name: Name_submitted, Length: 2809, dtype: object"
      ]
     },
     "execution_count": 5,
     "metadata": {},
     "output_type": "execute_result"
    }
   ],
   "source": [
    "df_syn[\"Name_submitted\"]"
   ]
  },
  {
   "cell_type": "code",
   "execution_count": 6,
   "id": "f5e8af52-2ed8-4d1c-8a9f-0be82dcac6c3",
   "metadata": {},
   "outputs": [
    {
     "data": {
      "text/plain": [
       "0                   Jacq.\n",
       "1                Moldenke\n",
       "2                Moldenke\n",
       "3      (Spreng.) Moldenke\n",
       "4                Moldenke\n",
       "              ...        \n",
       "439                 Mart.\n",
       "440              Moldenke\n",
       "441                 Kunth\n",
       "442            Michelang.\n",
       "443                 Solms\n",
       "Name: Accepted_name_author, Length: 444, dtype: object"
      ]
     },
     "execution_count": 6,
     "metadata": {},
     "output_type": "execute_result"
    }
   ],
   "source": [
    "df[\"Accepted_name_author\"]"
   ]
  },
  {
   "cell_type": "code",
   "execution_count": 7,
   "id": "d99c4bab-b85d-4997-ac85-d0b5911c4f5f",
   "metadata": {},
   "outputs": [],
   "source": [
    "# Add a column for name with authorities\n",
    "df[\"Scientific_name_auth\"] = df[\"Accepted_species\"].map(str) + \" \" + df[\"Accepted_name_author\"]\n",
    "df50_syn[\"Scientific_name_auth\"] = df50_syn[\"Name_matched\"].map(str) + \" \" + df50_syn[\"Canonical_author\"]\n",
    "df_syn[\"Scientific_name_auth\"] = df_syn[\"Name_matched\"].map(str) + \" \" + df_syn[\"Canonical_author\"]"
   ]
  },
  {
   "cell_type": "code",
   "execution_count": 8,
   "id": "e47fef89-7ad5-436e-92c0-2a514a725331",
   "metadata": {},
   "outputs": [],
   "source": [
    "# Function to replace NaN values in names_auth column\n",
    "def fill_name_auth(df, nan_indices):\n",
    "    df.loc[nan_indices, \"Scientific_name_auth\"] = df.loc[nan_indices, \"Accepted_species\"]\n",
    "    return df\n",
    "def fill_name_auth_syn(df, nan_indices):\n",
    "    df.loc[nan_indices, \"Scientific_name_auth\"] = df.loc[nan_indices, \"Name_matched\"]\n",
    "    return df"
   ]
  },
  {
   "cell_type": "code",
   "execution_count": 9,
   "id": "f0f19d93-db1c-4406-868e-2e83f962b508",
   "metadata": {},
   "outputs": [],
   "source": [
    "# Created indices for NaN rows\n",
    "idx = df[df[\"Scientific_name_auth\"].isna()].index\n",
    "idx50_syn = df50_syn[df50_syn[\"Scientific_name_auth\"].isna()].index\n",
    "idx_syn = df_syn[df_syn[\"Scientific_name_auth\"].isna()].index"
   ]
  },
  {
   "cell_type": "code",
   "execution_count": 10,
   "id": "7c6d737b-175c-455f-a092-99fdc8f7b9e0",
   "metadata": {},
   "outputs": [],
   "source": [
    "# Apply function and replace NaN by Accepted_species names\n",
    "df = fill_name_auth(df, idx)\n",
    "df50_syn = fill_name_auth_syn(df50_syn, idx50_syn)\n",
    "df_syn = fill_name_auth_syn(df_syn, idx_syn)"
   ]
  },
  {
   "cell_type": "code",
   "execution_count": 11,
   "id": "22718ba6-40d1-47d2-8159-3d88ab77fe3f",
   "metadata": {},
   "outputs": [
    {
     "data": {
      "text/plain": [
       "0"
      ]
     },
     "execution_count": 11,
     "metadata": {},
     "output_type": "execute_result"
    }
   ],
   "source": [
    "# Check there is no NaNs\n",
    "df[\"Scientific_name_auth\"].isna().sum()"
   ]
  },
  {
   "cell_type": "code",
   "execution_count": 12,
   "id": "ba710ddd-c184-45f1-a43b-59c09b26b1bd",
   "metadata": {},
   "outputs": [
    {
     "data": {
      "text/plain": [
       "0"
      ]
     },
     "execution_count": 12,
     "metadata": {},
     "output_type": "execute_result"
    }
   ],
   "source": [
    "# Check there is no NaNs\n",
    "df50_syn[\"Scientific_name_auth\"].isna().sum()"
   ]
  },
  {
   "cell_type": "code",
   "execution_count": 14,
   "id": "16848ca3-18c7-4b29-b173-0aa0bce86dcc",
   "metadata": {},
   "outputs": [
    {
     "data": {
      "text/plain": [
       "0"
      ]
     },
     "execution_count": 14,
     "metadata": {},
     "output_type": "execute_result"
    }
   ],
   "source": [
    "# Check there is no NaNs\n",
    "df_syn[\"Scientific_name_auth\"].isna().sum()"
   ]
  },
  {
   "cell_type": "code",
   "execution_count": 15,
   "id": "56eac3bc-be9e-49b0-bf11-4e4177d9ed9b",
   "metadata": {},
   "outputs": [],
   "source": [
    "# Create a new dataframe of names with authorities\n",
    "names_auth = pd.DataFrame(df[\"Scientific_name_auth\"])"
   ]
  },
  {
   "cell_type": "code",
   "execution_count": 16,
   "id": "0a3e318e-470d-4956-83d6-d4e0dd3f6043",
   "metadata": {},
   "outputs": [],
   "source": [
    "# Create a new dataframe of names with authorities, including synonyms\n",
    "names_auth_syn = pd.DataFrame(df_syn[\"Scientific_name_auth\"])"
   ]
  },
  {
   "cell_type": "code",
   "execution_count": 17,
   "id": "4419162f-17c7-40af-98bb-83ce70aedff2",
   "metadata": {},
   "outputs": [],
   "source": [
    "# Obtain dataset of the first 50 names\n",
    "names_auth50 = names_auth[0:50]"
   ]
  },
  {
   "cell_type": "code",
   "execution_count": 18,
   "id": "33cdbb87-844e-4dd5-ad9a-1902eddf9b51",
   "metadata": {},
   "outputs": [],
   "source": [
    "# Create a new dataframe of names and syn with authorities\n",
    "names_auth50_syn = pd.DataFrame(df50_syn[\"Scientific_name_auth\"])"
   ]
  },
  {
   "cell_type": "code",
   "execution_count": 20,
   "id": "a6333b95-40d9-4f1c-a1c4-2ac4cebbd0f0",
   "metadata": {},
   "outputs": [],
   "source": [
    "# Export data\n",
    "names_auth.to_csv(\"List_species/List_all_species_withauth_phenology_proj_UDLA2022_def_tnrs.csv\", index=False)\n",
    "names_auth_syn.to_csv(\"List_species/List_all_species_withauth_an_syn_phenology_proj_UDLA2022_def_tnrs.csv\", index=False)\n",
    "names_auth50.to_csv(\"List_species/List_50_species_withauth_phenology_proj_UDLA2022_def_tnrs.csv\", index=False)\n",
    "names_auth50_syn.to_csv(\"List_species/List_50_species_withauth_and_syn_phenology_proj_UDLA2022_def_tnrs.csv\", index=False)"
   ]
  },
  {
   "cell_type": "code",
   "execution_count": 109,
   "id": "b50b2491-21ef-4f00-b019-8f18b5e8dc5c",
   "metadata": {},
   "outputs": [],
   "source": [
    "# Load data obtained with taxisize to compare\n",
    "df_txisize = pd.read_csv(\"List_species/List_all_species_withauth_phenology_proj_UDLA2022_def.csv\")"
   ]
  },
  {
   "cell_type": "code",
   "execution_count": 113,
   "id": "ce14a437-8390-4fca-9765-828c0df84ee1",
   "metadata": {},
   "outputs": [],
   "source": [
    "df_txisize[\"tsren\"] = names_auth[\"Scientific_name_auth\"]"
   ]
  },
  {
   "cell_type": "code",
   "execution_count": 115,
   "id": "425c55ce-5ebd-4d10-b003-7bd5c5bfed19",
   "metadata": {},
   "outputs": [],
   "source": [
    "pd.set_option(\"display.max_rows\", None, \"display.max_columns\", None)"
   ]
  },
  {
   "cell_type": "code",
   "execution_count": 20,
   "id": "26d3ef1d-9d9c-4c3d-8a31-3eda55744b74",
   "metadata": {},
   "outputs": [],
   "source": [
    "# Load the last list of names with synonyms\n",
    "df_final = pd.read_csv(\"./GBIF_search/Allspecies/List_all_species_withauth_an_syn_phenology_proj_UDLA2022_def_tnrs.csv\")"
   ]
  },
  {
   "cell_type": "code",
   "execution_count": 25,
   "id": "74d3a928-0e4d-4ad8-9f4b-2b8cb68801f1",
   "metadata": {},
   "outputs": [],
   "source": [
    "# Divide dataset of all species with synonyms and export data\n",
    "for idx, chunk in enumerate(np.array_split(df_final, 10)):\n",
    "    chunk.to_csv(f'./GBIF_search/Allspecies/List_all_species_withauth_an_syn_phenproj_batch{idx}.csv', index=False)"
   ]
  }
 ],
 "metadata": {
  "kernelspec": {
   "display_name": "Python 3 (ipykernel)",
   "language": "python",
   "name": "python3"
  },
  "language_info": {
   "codemirror_mode": {
    "name": "ipython",
    "version": 3
   },
   "file_extension": ".py",
   "mimetype": "text/x-python",
   "name": "python",
   "nbconvert_exporter": "python",
   "pygments_lexer": "ipython3",
   "version": "3.9.12"
  }
 },
 "nbformat": 4,
 "nbformat_minor": 5
}
