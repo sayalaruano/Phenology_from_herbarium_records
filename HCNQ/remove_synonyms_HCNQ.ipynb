{
 "cells": [
  {
   "cell_type": "code",
   "execution_count": 12,
   "id": "3e8f9d9f-0458-437d-a376-b0fd481905ff",
   "metadata": {},
   "outputs": [],
   "source": [
    "# Imports\n",
    "import pandas as pd\n",
    "import numpy as np"
   ]
  },
  {
   "cell_type": "code",
   "execution_count": 24,
   "id": "028bbe6b-f6b7-4c64-984a-bf72ade8ce83",
   "metadata": {},
   "outputs": [],
   "source": [
    "# Load data\n",
    "df = pd.read_csv(\"HCNQ_dataset_filtered.csv\", encoding='utf-8', low_memory=False)"
   ]
  },
  {
   "cell_type": "code",
   "execution_count": 25,
   "id": "55ab34c7-1071-4e49-8aa9-7b0e3797ee6b",
   "metadata": {},
   "outputs": [],
   "source": [
    "# Select the most important columns \n",
    "cols = [\"id\", \"institutionCode\", \"recordedBy\", \"eventDate\", \"year\", \"month\", \"day\", \n",
    "        \"country\", \"decimalLongitude\", \"decimalLatitude\", \n",
    "        \"verbatimElevation\", \"family\", \"genus\", \"specificEpithet\", \n",
    "       \"scientificName\", \"scientificNameAuthorship\",\"references\",\n",
    "       \"reproductiveCondition\", \"occurrenceRemarks\", \n",
    "        \"dynamicProperties\", \"verbatimAttributes\"]\n",
    "df = df[cols]"
   ]
  },
  {
   "cell_type": "code",
   "execution_count": 26,
   "id": "2340ee7b-f94b-4153-ad3e-7f292124094d",
   "metadata": {},
   "outputs": [],
   "source": [
    "# Add column name of fieldnotes\n",
    "df['FieldNotes'] = df['verbatimAttributes']"
   ]
  },
  {
   "cell_type": "code",
   "execution_count": 27,
   "id": "d51d9a2c-243d-49a8-a851-9154d07ebcd3",
   "metadata": {},
   "outputs": [
    {
     "name": "stdout",
     "output_type": "stream",
     "text": [
      "<class 'pandas.core.frame.DataFrame'>\n",
      "RangeIndex: 7091 entries, 0 to 7090\n",
      "Data columns (total 22 columns):\n",
      " #   Column                    Non-Null Count  Dtype  \n",
      "---  ------                    --------------  -----  \n",
      " 0   id                        7091 non-null   int64  \n",
      " 1   institutionCode           7091 non-null   object \n",
      " 2   recordedBy                7049 non-null   object \n",
      " 3   eventDate                 7090 non-null   object \n",
      " 4   year                      7090 non-null   float64\n",
      " 5   month                     7091 non-null   float64\n",
      " 6   day                       7091 non-null   float64\n",
      " 7   country                   7091 non-null   object \n",
      " 8   decimalLongitude          7091 non-null   float64\n",
      " 9   decimalLatitude           7091 non-null   float64\n",
      " 10  verbatimElevation         6917 non-null   object \n",
      " 11  family                    7091 non-null   object \n",
      " 12  genus                     7043 non-null   object \n",
      " 13  specificEpithet           7043 non-null   object \n",
      " 14  scientificName            7091 non-null   object \n",
      " 15  scientificNameAuthorship  7082 non-null   object \n",
      " 16  references                7091 non-null   object \n",
      " 17  reproductiveCondition     95 non-null     object \n",
      " 18  occurrenceRemarks         0 non-null      float64\n",
      " 19  dynamicProperties         283 non-null    object \n",
      " 20  verbatimAttributes        7085 non-null   object \n",
      " 21  FieldNotes                7085 non-null   object \n",
      "dtypes: float64(6), int64(1), object(15)\n",
      "memory usage: 1.2+ MB\n"
     ]
    }
   ],
   "source": [
    "df.info()"
   ]
  },
  {
   "cell_type": "code",
   "execution_count": 28,
   "id": "d5315824-02b8-415e-8ba0-4a95afee5bdb",
   "metadata": {},
   "outputs": [
    {
     "data": {
      "text/plain": [
       "465"
      ]
     },
     "execution_count": 28,
     "metadata": {},
     "output_type": "execute_result"
    }
   ],
   "source": [
    "len(df['scientificName'].unique())"
   ]
  },
  {
   "cell_type": "code",
   "execution_count": 29,
   "id": "464ccc58-dabd-45ef-8f1b-899d7aace79a",
   "metadata": {},
   "outputs": [],
   "source": [
    "# Rename scientific names according to the TROPICOS dataset\n",
    "df['scientificName'] = df['scientificName'].replace(\n",
    "                                            ['Alchornea obovata',\n",
    "                                            'Alchornea sodiroi',\n",
    "                                            'Axinaea affinis',\n",
    "                                            'Axinaea floribunda',\n",
    "                                            'Bactris macana',\n",
    "                                            'Beilschmiedia costaricensis',\n",
    "                                            'Brosimum utile subsp. ovatifolium',\n",
    "                                            'Casearia sylvestris var. sylvestris',\n",
    "                                            'Cecropia monostachya',\n",
    "                                            'Cestrum nocturnum',\n",
    "                                            'Chamaedorea poeppigiana',\n",
    "                                            'Cinchona hirsuta',\n",
    "                                            'Cinnamomum formicarium',\n",
    "                                            'Cyathea brachypoda',\n",
    "                                            'Cyathea caracasana var. boliviensis',\n",
    "                                            'Cyathea cystolepis',\n",
    "                                            'Cyathea fulva',\n",
    "                                            'Cyathea halonata',\n",
    "                                            'Cyathea parvifolia',\n",
    "                                            'Cyathea squamipes',\n",
    "                                            'Cyathea tungurahuae',\n",
    "                                            'Eugenia orthostemon',\n",
    "                                            'Faramea cuencana',\n",
    "                                            'Ficus dugandii',\n",
    "                                            'Ficus guianensis',\n",
    "                                            'Ficus mathewsii',\n",
    "                                            'Ficus subandina',\n",
    "                                            'Geonoma densa',\n",
    "                                            'Geonoma weberbaueri',\n",
    "                                            'Grias tessmannii',\n",
    "                                            'Guarea bullata',\n",
    "                                            'Guarea grandifoliola',\n",
    "                                            'Guarea macrophylla subsp. pendulispica',\n",
    "                                            'Gymnosporia gentryi',\n",
    "                                            'Haydenia gentryi',\n",
    "                                            'Hedyosmum toxicum',\n",
    "                                            'Heliocarpus popayanensis',\n",
    "                                            'Inga fagifolia',\n",
    "                                            'Inga quaternata',\n",
    "                                            'Myrcia fallax',\n",
    "                                            'Nectandra laevis',\n",
    "                                            'Ocotea architectorum',\n",
    "                                            'Ocotea caniflora',\n",
    "                                            'Ocotea floccifera',\n",
    "                                            'Palicourea bryophila',\n",
    "                                            'Palicourea guianensis subsp. barbinervia',\n",
    "                                            'Palicourea pasti',\n",
    "                                            'Piper andicolum',\n",
    "                                            'Piper bogotense',\n",
    "                                            'Piper rufescens',\n",
    "                                            'Prestoea trichoclada',\n",
    "                                            'Psychotria caerulea',\n",
    "                                            'Psychotria gentryi',\n",
    "                                            'Psychotria guianensis',\n",
    "                                            'Psychotria recordiana',\n",
    "                                            'Rollinia mucosa',\n",
    "                                            'Sapium biglandulosum',\n",
    "                                            'Sapium contortum',\n",
    "                                            'Sapium eglandulosum',\n",
    "                                            'Sapium obtusilobum',\n",
    "                                            'Sapium pavonianum',\n",
    "                                            'Sapium solisii',\n",
    "                                            'Sapium utile',\n",
    "                                            'Sessea macrophylla',\n",
    "                                            'Siparuna macrophylla',\n",
    "                                            'Socratea montana',\n",
    "                                            'Staphylea occidentalis',\n",
    "                                            'Stylogyne ambigua',\n",
    "                                            'Styrax weberbaueri',\n",
    "                                            'Tabebuia chrysantha',\n",
    "                                            'Tovomita lingulata',\n",
    "                                            'Tovomita sphenophylla',\n",
    "                                            'Trema micrantha',\n",
    "                                            'Trichospermum mexicanum',\n",
    "                                            'Turpinia heterophylla',\n",
    "                                            'Urera capitata',\n",
    "                                            'Vernonia baccharoides',\n",
    "                                            'Vernonia patens',\n",
    "                                            'Weinmannia dryadifolia',\n",
    "                                            'Weinmannia laurina',\n",
    "                                            'Weinmannia laxiflora',\n",
    "                                            'Weinmannia ovata'\n",
    "                                            ],\n",
    "                                            ['Alchornea triplinervia',\n",
    "                                            'Alchornea glandulosa',\n",
    "                                            'Axinaea macrophylla',\n",
    "                                            'Axinaea macrophylla',\n",
    "                                            'Bactris gasipaes',\n",
    "                                            'Beilschmiedia pendula',\n",
    "                                            'Brosimum utile',\n",
    "                                            'Casearia sylvestris',\n",
    "                                            'Cecropia gabrielis',\n",
    "                                            'Cestrum megalophyllum',\n",
    "                                            'Chamaedorea linearis',\n",
    "                                            'Cinchona pubescens',\n",
    "                                            'Aiouea formicaria',\n",
    "                                            'Cyathea pallescens',\n",
    "                                            'Cyathea caracasana',\n",
    "                                            'Cyathea pallescens',\n",
    "                                            'Cyathea caracasana',\n",
    "                                            'Cyathea pallescens',\n",
    "                                            'Cyathea caracasana',\n",
    "                                            'Cyathea caracasana',\n",
    "                                            'Cyathea pallescens',\n",
    "                                            'Myrcianthes orthostemon',\n",
    "                                            'Faramea oblongifolia',\n",
    "                                            'Ficus citrifolia',\n",
    "                                            'Ficus americana',\n",
    "                                            'Ficus americana',\n",
    "                                            'Ficus citrifolia',\n",
    "                                            'Geonoma undata',\n",
    "                                            'Geonoma undata',\n",
    "                                            'Grias peruviana',\n",
    "                                            'Guarea glabra',\n",
    "                                            'Guarea kunthiana',\n",
    "                                            'Guarea macrophylla',\n",
    "                                            'Haydenoxylon gentryi',\n",
    "                                            'Haydenoxylon gentryi',\n",
    "                                            'Hedyosmum cumbalense',\n",
    "                                            'Heliocarpus americanus',\n",
    "                                            'Inga ruiziana',\n",
    "                                            'Inga nobilis',\n",
    "                                            'Myrcia splendens',\n",
    "                                            'Nectandra membranacea',\n",
    "                                            'Ocotea floribunda',\n",
    "                                            'Ocotea floribunda',\n",
    "                                            'Ocotea insularis',\n",
    "                                            'Palicourea amethystina',\n",
    "                                            'Palicourea guianensis',\n",
    "                                            'Palicourea apicata',\n",
    "                                            'Piper barbatum',\n",
    "                                            'Piper barbatum',\n",
    "                                            'Piper crassinervium',\n",
    "                                            'Prestoea acuminata',\n",
    "                                            'Psychotria brachiata',\n",
    "                                            'Palicourea palenquensis',\n",
    "                                            'Palicourea guianensis',\n",
    "                                            'Psychotria hazenii',\n",
    "                                            'Annona mucosa',\n",
    "                                            'Sapium glandulosum',\n",
    "                                            'Sapium glandulosum',\n",
    "                                            'Sapium laurifolium',\n",
    "                                            'Sapium glandulosum',\n",
    "                                            'Sapium glandulosum',\n",
    "                                            'Sapium stylare',\n",
    "                                            'Sapium laurifolium',\n",
    "                                            'Cestrum humboldtii',\n",
    "                                            'Siparuna aspera',\n",
    "                                            'Socratea rostrata',\n",
    "                                            'Turpinia occidentalis',\n",
    "                                            'Geissanthus ambigua',\n",
    "                                            'Styrax cordatus',\n",
    "                                            'Handroanthus chrysanthus',\n",
    "                                            'Tovomita weddelliana',\n",
    "                                            'Tovomita weddelliana',\n",
    "                                            'Trema integerrima',\n",
    "                                            'Trichospermum galeottii',\n",
    "                                            'Turpinia occidentalis',\n",
    "                                            'Urera caracasana',\n",
    "                                            'Vernonanthura patens',\n",
    "                                            'Vernonanthura patens',\n",
    "                                            'Weinmannia auriculata',\n",
    "                                            'Weinmannia balbisiana',\n",
    "                                            'Weinmannia pinnata',\n",
    "                                            'Weinmannia auriculata'\n",
    "                                             ])"
   ]
  },
  {
   "cell_type": "code",
   "execution_count": 30,
   "id": "3b6338b7-7505-4156-9166-2b0723976858",
   "metadata": {},
   "outputs": [
    {
     "data": {
      "text/plain": [
       "386"
      ]
     },
     "execution_count": 30,
     "metadata": {},
     "output_type": "execute_result"
    }
   ],
   "source": [
    "len(df['scientificName'].unique())"
   ]
  },
  {
   "cell_type": "code",
   "execution_count": 31,
   "id": "13064626-4692-4a3c-bb4b-86aecb322898",
   "metadata": {},
   "outputs": [],
   "source": [
    "# Add a column for gbif ids\n",
    "df.insert(0, 'gbifID', np.nan)"
   ]
  },
  {
   "cell_type": "code",
   "execution_count": 32,
   "id": "1c816936-f5e1-4b38-a14c-0ffb0265b1c0",
   "metadata": {},
   "outputs": [],
   "source": [
    "# Rename columns\n",
    "df.rename(columns={'id': 'hcnqID', 'verbatimElevation': 'elevation', 'specificEpithet': 'species', \n",
    "                   'scientificName': 'acceptedScientificName', 'references': 'image_url','verbatimAttributes': 'fieldNotes'}, inplace=True)"
   ]
  },
  {
   "cell_type": "code",
   "execution_count": 33,
   "id": "9a58333e-6692-4e43-8572-2b61881dc150",
   "metadata": {},
   "outputs": [
    {
     "name": "stdout",
     "output_type": "stream",
     "text": [
      "<class 'pandas.core.frame.DataFrame'>\n",
      "RangeIndex: 7091 entries, 0 to 7090\n",
      "Data columns (total 23 columns):\n",
      " #   Column                    Non-Null Count  Dtype  \n",
      "---  ------                    --------------  -----  \n",
      " 0   gbifID                    0 non-null      float64\n",
      " 1   hcnqID                    7091 non-null   int64  \n",
      " 2   institutionCode           7091 non-null   object \n",
      " 3   recordedBy                7049 non-null   object \n",
      " 4   eventDate                 7090 non-null   object \n",
      " 5   year                      7090 non-null   float64\n",
      " 6   month                     7091 non-null   float64\n",
      " 7   day                       7091 non-null   float64\n",
      " 8   country                   7091 non-null   object \n",
      " 9   decimalLongitude          7091 non-null   float64\n",
      " 10  decimalLatitude           7091 non-null   float64\n",
      " 11  elevation                 6917 non-null   object \n",
      " 12  family                    7091 non-null   object \n",
      " 13  genus                     7043 non-null   object \n",
      " 14  species                   7043 non-null   object \n",
      " 15  acceptedScientificName    7091 non-null   object \n",
      " 16  scientificNameAuthorship  7082 non-null   object \n",
      " 17  image_url                 7091 non-null   object \n",
      " 18  reproductiveCondition     95 non-null     object \n",
      " 19  occurrenceRemarks         0 non-null      float64\n",
      " 20  dynamicProperties         283 non-null    object \n",
      " 21  fieldNotes                7085 non-null   object \n",
      " 22  FieldNotes                7085 non-null   object \n",
      "dtypes: float64(7), int64(1), object(15)\n",
      "memory usage: 1.2+ MB\n"
     ]
    }
   ],
   "source": [
    "df.info()"
   ]
  },
  {
   "cell_type": "code",
   "execution_count": 34,
   "id": "857fd5fc-5ae2-43aa-a648-0b8d548016f9",
   "metadata": {},
   "outputs": [],
   "source": [
    "df.to_csv('HCNQ_dataset_filtered_final.csv', index=False)"
   ]
  }
 ],
 "metadata": {
  "kernelspec": {
   "display_name": "Python 3 (ipykernel)",
   "language": "python",
   "name": "python3"
  },
  "language_info": {
   "codemirror_mode": {
    "name": "ipython",
    "version": 3
   },
   "file_extension": ".py",
   "mimetype": "text/x-python",
   "name": "python",
   "nbconvert_exporter": "python",
   "pygments_lexer": "ipython3",
   "version": "3.9.12"
  }
 },
 "nbformat": 4,
 "nbformat_minor": 5
}
