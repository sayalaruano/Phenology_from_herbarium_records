{
 "cells": [
  {
   "cell_type": "code",
   "execution_count": 1,
   "id": "60597a75-86c8-4093-83e2-c715598323ff",
   "metadata": {},
   "outputs": [],
   "source": [
    "# Imports\n",
    "import pandas as pd\n",
    "import numpy as np"
   ]
  },
  {
   "cell_type": "code",
   "execution_count": 5,
   "id": "2bd7a82f-4d3a-4df3-800d-85f24ed21ea4",
   "metadata": {},
   "outputs": [],
   "source": [
    "# Load data\n",
    "df = pd.read_csv(\"HCNQ_all.csv\", encoding='latin-1', low_memory=False)"
   ]
  },
  {
   "cell_type": "code",
   "execution_count": 16,
   "id": "257d2804-8058-48ac-949d-5f893972b871",
   "metadata": {},
   "outputs": [],
   "source": [
    "# Select the most important columns \n",
    "cols = [\"id\", \"institutionCode\", \"recordedBy\", \"eventDate\", \"year\", \n",
    "       \"month\", \"day\", \"country\", \"decimalLongitude\", \"decimalLatitude\", \n",
    "        \"verbatimElevation\", \"family\", \"genus\", \"specificEpithet\", \n",
    "       \"scientificName\", \"scientificNameAuthorship\", \"occurrenceRemarks\", \"dynamicProperties\", \n",
    "       \"verbatimAttributes\", \"references\", \"reproductiveCondition\"]\n",
    "df_filt = df[cols]"
   ]
  },
  {
   "cell_type": "markdown",
   "id": "cd525a13-aaa5-4e20-9648-749520331a6e",
   "metadata": {},
   "source": [
    "## Filter records with fieldnotes only"
   ]
  },
  {
   "cell_type": "code",
   "execution_count": 26,
   "id": "ee058dee-f8ad-414b-84ba-d32f36fddbc3",
   "metadata": {},
   "outputs": [
    {
     "name": "stdout",
     "output_type": "stream",
     "text": [
      "95.00 % of records have field notes\n",
      "0.03 % of records have occurrence remarks\n",
      "9.02 % of records have dynamic properties\n",
      "95.25 % or records have at least one of them\n"
     ]
    }
   ],
   "source": [
    "# General stats about field notes \n",
    "print(f\"{df_filt.verbatimAttributes.notnull().mean() * 100:.2f} % of records have field notes\")\n",
    "print(f\"{df_filt.occurrenceRemarks.notnull().mean() * 100:.2f} % of records have occurrence remarks\")\n",
    "print(f\"{df_filt.dynamicProperties.notnull().mean() * 100:.2f} % of records have dynamic properties\")\n",
    "print(f\"{df_filt[['verbatimAttributes', 'occurrenceRemarks', 'dynamicProperties']].apply(lambda row: row.notnull().any(), axis=1).mean()*100:.2f} % or records have at least one of them\")"
   ]
  },
  {
   "cell_type": "code",
   "execution_count": 33,
   "id": "f7f39042-be23-4bc1-ba38-d2537b2c2b0f",
   "metadata": {},
   "outputs": [
    {
     "data": {
      "text/plain": [
       "3"
      ]
     },
     "execution_count": 33,
     "metadata": {},
     "output_type": "execute_result"
    }
   ],
   "source": [
    "# Dfs of field notes\n",
    "fn_df = df_filt[\"occurrenceRemarks\"]\n",
    "fn_df = fn_df.dropna()\n",
    "fn_df = df_filt.loc[fn_df.index]\n",
    "len(fn_df)"
   ]
  },
  {
   "cell_type": "code",
   "execution_count": 34,
   "id": "a559ef85-1451-4786-bcd3-a80e6e2e36ec",
   "metadata": {},
   "outputs": [
    {
     "data": {
      "text/plain": [
       "11211"
      ]
     },
     "execution_count": 34,
     "metadata": {},
     "output_type": "execute_result"
    }
   ],
   "source": [
    "fn_df2 = df_filt[\"verbatimAttributes\"]\n",
    "fn_df2 = fn_df2.dropna()\n",
    "fn_df2 = df_filt.loc[fn_df2.index]\n",
    "len(fn_df2)"
   ]
  },
  {
   "cell_type": "code",
   "execution_count": 35,
   "id": "87ada75c-46ee-4fc0-b48c-5f5c73ff6a0a",
   "metadata": {},
   "outputs": [
    {
     "data": {
      "text/plain": [
       "1064"
      ]
     },
     "execution_count": 35,
     "metadata": {},
     "output_type": "execute_result"
    }
   ],
   "source": [
    "fn_df3 = df_filt[\"dynamicProperties\"]\n",
    "fn_df3 = fn_df3.dropna()\n",
    "fn_df3 = df_filt.loc[fn_df3.index]\n",
    "len(fn_df3)"
   ]
  },
  {
   "cell_type": "code",
   "execution_count": 36,
   "id": "1fc6ae20-8db1-4439-a9a4-273ec3c22fa5",
   "metadata": {},
   "outputs": [],
   "source": [
    "# Merge datasets\n",
    "final_df = pd.concat([fn_df, fn_df2])\n",
    "final_df = pd.concat([final_df, fn_df3])\n",
    "# Delete duplicates\n",
    "final_df = final_df.drop_duplicates()"
   ]
  },
  {
   "cell_type": "code",
   "execution_count": 38,
   "id": "eb9ffa16-bf8e-433b-9811-719314a54580",
   "metadata": {},
   "outputs": [],
   "source": [
    "# Reset indices of the dataframe\n",
    "final_df = final_df.reset_index(drop=True)"
   ]
  },
  {
   "cell_type": "code",
   "execution_count": 40,
   "id": "882866b9-6df0-44ec-ab6d-1e64d780e9b2",
   "metadata": {},
   "outputs": [
    {
     "name": "stdout",
     "output_type": "stream",
     "text": [
      "<class 'pandas.core.frame.DataFrame'>\n",
      "RangeIndex: 10881 entries, 0 to 10880\n",
      "Data columns (total 21 columns):\n",
      " #   Column                    Non-Null Count  Dtype  \n",
      "---  ------                    --------------  -----  \n",
      " 0   id                        10881 non-null  int64  \n",
      " 1   institutionCode           10881 non-null  object \n",
      " 2   recordedBy                10760 non-null  object \n",
      " 3   eventDate                 10727 non-null  object \n",
      " 4   year                      10834 non-null  float64\n",
      " 5   month                     10739 non-null  float64\n",
      " 6   day                       10740 non-null  float64\n",
      " 7   country                   10881 non-null  object \n",
      " 8   decimalLongitude          8940 non-null   float64\n",
      " 9   decimalLatitude           8914 non-null   float64\n",
      " 10  verbatimElevation         10450 non-null  object \n",
      " 11  family                    10881 non-null  object \n",
      " 12  genus                     10822 non-null  object \n",
      " 13  specificEpithet           10822 non-null  object \n",
      " 14  scientificName            10881 non-null  object \n",
      " 15  scientificNameAuthorship  10865 non-null  object \n",
      " 16  occurrenceRemarks         3 non-null      object \n",
      " 17  dynamicProperties         1057 non-null   object \n",
      " 18  verbatimAttributes        10851 non-null  object \n",
      " 19  references                10881 non-null  object \n",
      " 20  reproductiveCondition     817 non-null    object \n",
      "dtypes: float64(5), int64(1), object(15)\n",
      "memory usage: 1.7+ MB\n"
     ]
    }
   ],
   "source": [
    "final_df.info()"
   ]
  },
  {
   "cell_type": "markdown",
   "id": "a69a81a3-26f4-416a-a382-5bbda92df2a4",
   "metadata": {},
   "source": [
    "## Delete rows that don't have dates with at least month "
   ]
  },
  {
   "cell_type": "code",
   "execution_count": 42,
   "id": "61c7729c-8995-47f9-b0b3-03336d898f80",
   "metadata": {},
   "outputs": [],
   "source": [
    "final_df = final_df.drop(final_df[(final_df.month.isna())].index)"
   ]
  },
  {
   "cell_type": "code",
   "execution_count": 44,
   "id": "4d7c7178-bc56-4140-97d2-84906467e31b",
   "metadata": {},
   "outputs": [
    {
     "data": {
      "text/plain": [
       "(10739, 21)"
      ]
     },
     "execution_count": 44,
     "metadata": {},
     "output_type": "execute_result"
    }
   ],
   "source": [
    "final_df.shape"
   ]
  },
  {
   "cell_type": "markdown",
   "id": "7df12675-4a94-44c9-9c66-07b7ee8591b0",
   "metadata": {},
   "source": [
    "## Delete rows without latitude and longitude "
   ]
  },
  {
   "cell_type": "code",
   "execution_count": 54,
   "id": "323a78ec-e0f5-43c9-9888-e73a3b2d8d5f",
   "metadata": {},
   "outputs": [],
   "source": [
    "final_df = final_df.drop(final_df[(final_df.decimalLatitude.isna())].index)"
   ]
  },
  {
   "cell_type": "code",
   "execution_count": 55,
   "id": "f55ce80c-321c-4de7-b948-992bfd4f408c",
   "metadata": {},
   "outputs": [
    {
     "data": {
      "text/plain": [
       "(8882, 21)"
      ]
     },
     "execution_count": 55,
     "metadata": {},
     "output_type": "execute_result"
    }
   ],
   "source": [
    "final_df.shape"
   ]
  },
  {
   "cell_type": "code",
   "execution_count": 52,
   "id": "33b2c67b-536e-49ac-a636-4903c7e019da",
   "metadata": {},
   "outputs": [],
   "source": [
    "final_df = final_df.drop(final_df[(final_df.decimalLongitude.isna())].index)"
   ]
  },
  {
   "cell_type": "code",
   "execution_count": 53,
   "id": "e0f05e6f-22a7-4d0b-90f5-f7e661a850da",
   "metadata": {},
   "outputs": [
    {
     "data": {
      "text/plain": [
       "(8882, 21)"
      ]
     },
     "execution_count": 53,
     "metadata": {},
     "output_type": "execute_result"
    }
   ],
   "source": [
    "final_df.shape"
   ]
  },
  {
   "cell_type": "markdown",
   "id": "11bc199c-1ff7-41f0-a2f6-f1b43b4fc461",
   "metadata": {},
   "source": [
    "## Duplicates processing"
   ]
  },
  {
   "cell_type": "code",
   "execution_count": 56,
   "id": "56feacd0-395c-4444-b1aa-4a4be0beff22",
   "metadata": {},
   "outputs": [],
   "source": [
    "#  Drop true duplicates \n",
    "dup_cols = ['scientificName', 'decimalLongitude', 'decimalLatitude','year', 'recordedBy']\n",
    "final_df = final_df.drop(final_df.loc[:, dup_cols].dropna().duplicated().loc[lambda x: x].index)"
   ]
  },
  {
   "cell_type": "code",
   "execution_count": 57,
   "id": "e4ea874a-2764-4d40-8c5a-f8872c3ae84b",
   "metadata": {},
   "outputs": [
    {
     "data": {
      "text/plain": [
       "(0,)"
      ]
     },
     "execution_count": 57,
     "metadata": {},
     "output_type": "execute_result"
    }
   ],
   "source": [
    "# Check if true duplicates were deleted \n",
    "(final_df.loc[:, dup_cols].dropna().duplicated().loc[lambda x: x].index).shape"
   ]
  },
  {
   "cell_type": "code",
   "execution_count": 58,
   "id": "0dc12a75-bd25-4330-b6ed-384e2076417c",
   "metadata": {},
   "outputs": [
    {
     "data": {
      "text/plain": [
       "(7091, 21)"
      ]
     },
     "execution_count": 58,
     "metadata": {},
     "output_type": "execute_result"
    }
   ],
   "source": [
    "final_df.shape"
   ]
  },
  {
   "cell_type": "code",
   "execution_count": 61,
   "id": "3bd12a04-170d-4be3-99ec-b70b36386e88",
   "metadata": {},
   "outputs": [],
   "source": [
    "# Reset indices of the dataframe\n",
    "final_df = final_df.reset_index(drop=True)"
   ]
  },
  {
   "cell_type": "code",
   "execution_count": 62,
   "id": "9c4e3e2d-a2ff-4b9b-bb22-ce5517ce6061",
   "metadata": {},
   "outputs": [
    {
     "name": "stdout",
     "output_type": "stream",
     "text": [
      "<class 'pandas.core.frame.DataFrame'>\n",
      "RangeIndex: 7091 entries, 0 to 7090\n",
      "Data columns (total 21 columns):\n",
      " #   Column                    Non-Null Count  Dtype  \n",
      "---  ------                    --------------  -----  \n",
      " 0   id                        7091 non-null   int64  \n",
      " 1   institutionCode           7091 non-null   object \n",
      " 2   recordedBy                7049 non-null   object \n",
      " 3   eventDate                 7090 non-null   object \n",
      " 4   year                      7090 non-null   float64\n",
      " 5   month                     7091 non-null   float64\n",
      " 6   day                       7091 non-null   float64\n",
      " 7   country                   7091 non-null   object \n",
      " 8   decimalLongitude          7091 non-null   float64\n",
      " 9   decimalLatitude           7091 non-null   float64\n",
      " 10  verbatimElevation         6917 non-null   object \n",
      " 11  family                    7091 non-null   object \n",
      " 12  genus                     7043 non-null   object \n",
      " 13  specificEpithet           7043 non-null   object \n",
      " 14  scientificName            7091 non-null   object \n",
      " 15  scientificNameAuthorship  7082 non-null   object \n",
      " 16  occurrenceRemarks         0 non-null      object \n",
      " 17  dynamicProperties         283 non-null    object \n",
      " 18  verbatimAttributes        7085 non-null   object \n",
      " 19  references                7091 non-null   object \n",
      " 20  reproductiveCondition     95 non-null     object \n",
      "dtypes: float64(5), int64(1), object(15)\n",
      "memory usage: 1.1+ MB\n"
     ]
    }
   ],
   "source": [
    "final_df.info()"
   ]
  },
  {
   "cell_type": "code",
   "execution_count": 64,
   "id": "9e002fb1-f983-459a-a3cf-00090700c6d3",
   "metadata": {},
   "outputs": [
    {
     "data": {
      "text/plain": [
       "Ecuador    7088\n",
       "Perú          2\n",
       "Bolivia       1\n",
       "Name: country, dtype: int64"
      ]
     },
     "execution_count": 64,
     "metadata": {},
     "output_type": "execute_result"
    }
   ],
   "source": [
    "final_df['country'].value_counts()"
   ]
  },
  {
   "cell_type": "code",
   "execution_count": 65,
   "id": "e107dc49-814a-4fc2-936f-e6ff542b230e",
   "metadata": {},
   "outputs": [],
   "source": [
    "# Check scientific names\n",
    "unique_names_comp_df = pd.DataFrame(final_df[\"scientificName\"].unique())\n",
    "unique_names_comp_df.to_csv(\"unique_names_hcnq_df.csv\", index=False)"
   ]
  },
  {
   "cell_type": "code",
   "execution_count": 68,
   "id": "9d656ed0-c29b-4faf-8b1d-f1dbfdcf7bae",
   "metadata": {},
   "outputs": [],
   "source": [
    "# Export dataset\n",
    "final_df.to_csv('HCNQ_dataset_filtered.csv', index=False)"
   ]
  }
 ],
 "metadata": {
  "kernelspec": {
   "display_name": "Python 3 (ipykernel)",
   "language": "python",
   "name": "python3"
  },
  "language_info": {
   "codemirror_mode": {
    "name": "ipython",
    "version": 3
   },
   "file_extension": ".py",
   "mimetype": "text/x-python",
   "name": "python",
   "nbconvert_exporter": "python",
   "pygments_lexer": "ipython3",
   "version": "3.9.12"
  }
 },
 "nbformat": 4,
 "nbformat_minor": 5
}
